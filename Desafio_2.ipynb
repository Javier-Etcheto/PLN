{
 "cells": [
  {
   "cell_type": "markdown",
   "id": "46b9204d",
   "metadata": {},
   "source": [
    "# Desafío 2\n",
    "\n",
    "Importo bibliotecas y leo el dataset. En este caso, trabajo con el dataset da la obra de Romeo y Julieta, descargada como texto plano de *The Project Gutenberg eBook*. "
   ]
  },
  {
   "cell_type": "code",
   "execution_count": 205,
   "id": "8379b367",
   "metadata": {},
   "outputs": [],
   "source": [
    "import pandas as pd\n",
    "import matplotlib.pyplot as plt\n",
    "import seaborn as sns\n",
    "\n",
    "import multiprocessing\n",
    "from gensim.models import Word2Vec"
   ]
  },
  {
   "cell_type": "code",
   "execution_count": 206,
   "id": "75309bbc",
   "metadata": {},
   "outputs": [
    {
     "name": "stderr",
     "output_type": "stream",
     "text": [
      "C:\\Users\\javier\\AppData\\Local\\Temp\\ipykernel_22352\\2801571640.py:2: ParserWarning:\n",
      "\n",
      "Falling back to the 'python' engine because the 'c' engine does not support regex separators (separators > 1 char and different from '\\s+' are interpreted as regex); you can avoid this warning by specifying engine='python'.\n",
      "\n"
     ]
    },
    {
     "data": {
      "text/html": [
       "<div>\n",
       "<style scoped>\n",
       "    .dataframe tbody tr th:only-of-type {\n",
       "        vertical-align: middle;\n",
       "    }\n",
       "\n",
       "    .dataframe tbody tr th {\n",
       "        vertical-align: top;\n",
       "    }\n",
       "\n",
       "    .dataframe thead th {\n",
       "        text-align: right;\n",
       "    }\n",
       "</style>\n",
       "<table border=\"1\" class=\"dataframe\">\n",
       "  <thead>\n",
       "    <tr style=\"text-align: right;\">\n",
       "      <th></th>\n",
       "      <th>0</th>\n",
       "    </tr>\n",
       "  </thead>\n",
       "  <tbody>\n",
       "    <tr>\n",
       "      <th>0</th>\n",
       "      <td>The Project Gutenberg eBook of Romeo and Juliet</td>\n",
       "    </tr>\n",
       "    <tr>\n",
       "      <th>1</th>\n",
       "      <td>This ebook is for the use of anyone anywhere i...</td>\n",
       "    </tr>\n",
       "    <tr>\n",
       "      <th>2</th>\n",
       "      <td>most other parts of the world at no cost and w...</td>\n",
       "    </tr>\n",
       "    <tr>\n",
       "      <th>3</th>\n",
       "      <td>whatsoever. You may copy it, give it away or r...</td>\n",
       "    </tr>\n",
       "    <tr>\n",
       "      <th>4</th>\n",
       "      <td>of the Project Gutenberg License included with...</td>\n",
       "    </tr>\n",
       "  </tbody>\n",
       "</table>\n",
       "</div>"
      ],
      "text/plain": [
       "                                                   0\n",
       "0    The Project Gutenberg eBook of Romeo and Juliet\n",
       "1  This ebook is for the use of anyone anywhere i...\n",
       "2  most other parts of the world at no cost and w...\n",
       "3  whatsoever. You may copy it, give it away or r...\n",
       "4  of the Project Gutenberg License included with..."
      ]
     },
     "execution_count": 206,
     "metadata": {},
     "output_type": "execute_result"
    }
   ],
   "source": [
    "# Armar el dataset utilizando salto de línea para separar las oraciones/docs\n",
    "df_original = pd.read_csv('Romeo_and_Juliet.txt', sep='/n', header=None)\n",
    "df_original.head()"
   ]
  },
  {
   "cell_type": "code",
   "execution_count": 207,
   "id": "b93dc29d",
   "metadata": {},
   "outputs": [
    {
     "data": {
      "text/html": [
       "<div>\n",
       "<style scoped>\n",
       "    .dataframe tbody tr th:only-of-type {\n",
       "        vertical-align: middle;\n",
       "    }\n",
       "\n",
       "    .dataframe tbody tr th {\n",
       "        vertical-align: top;\n",
       "    }\n",
       "\n",
       "    .dataframe thead th {\n",
       "        text-align: right;\n",
       "    }\n",
       "</style>\n",
       "<table border=\"1\" class=\"dataframe\">\n",
       "  <thead>\n",
       "    <tr style=\"text-align: right;\">\n",
       "      <th></th>\n",
       "      <th>0</th>\n",
       "    </tr>\n",
       "  </thead>\n",
       "  <tbody>\n",
       "    <tr>\n",
       "      <th>0</th>\n",
       "      <td>THE TRAGEDY OF ROMEO AND JULIET</td>\n",
       "    </tr>\n",
       "    <tr>\n",
       "      <th>1</th>\n",
       "      <td>by William Shakespeare</td>\n",
       "    </tr>\n",
       "    <tr>\n",
       "      <th>2</th>\n",
       "      <td>Contents</td>\n",
       "    </tr>\n",
       "    <tr>\n",
       "      <th>3</th>\n",
       "      <td>THE PROLOGUE.</td>\n",
       "    </tr>\n",
       "    <tr>\n",
       "      <th>4</th>\n",
       "      <td>ACT I</td>\n",
       "    </tr>\n",
       "  </tbody>\n",
       "</table>\n",
       "</div>"
      ],
      "text/plain": [
       "                                 0\n",
       "0  THE TRAGEDY OF ROMEO AND JULIET\n",
       "1           by William Shakespeare\n",
       "2                         Contents\n",
       "3                    THE PROLOGUE.\n",
       "4                            ACT I"
      ]
     },
     "execution_count": 207,
     "metadata": {},
     "output_type": "execute_result"
    }
   ],
   "source": [
    "# Limpio la obra (saco parte del texto que no es relevante en el analisis)\n",
    "# Busco el inicio y el final de la obra\n",
    "start_idx = df_original[df_original[0].str.contains(r'\\*\\*\\* START OF', na=False)].index[0]\n",
    "end_idx = df_original[df_original[0].str.contains(r'\\*\\*\\* END OF', na=False)].index[0]\n",
    "\n",
    "df = df_original.iloc[start_idx + 1:end_idx].reset_index(drop=True)\n",
    "df.head()"
   ]
  },
  {
   "cell_type": "code",
   "execution_count": 208,
   "id": "e0a8c8af",
   "metadata": {},
   "outputs": [
    {
     "name": "stdout",
     "output_type": "stream",
     "text": [
      "Cantidad de documentos: 4137\n"
     ]
    }
   ],
   "source": [
    "# Imprimo cantidad de documentos dentro del corpus\n",
    "print(\"Cantidad de documentos:\", df.shape[0])"
   ]
  },
  {
   "cell_type": "code",
   "execution_count": 209,
   "id": "71de36e4",
   "metadata": {},
   "outputs": [],
   "source": [
    "#!pip install --upgrade tensorflow\n",
    "from tensorflow.keras.preprocessing.text import text_to_word_sequence\n",
    "\n",
    "sentence_tokens = []\n",
    "# Recorrer todas las filas y transformar las oraciones\n",
    "# en una secuencia de palabras (esto podría realizarse con NLTK o spaCy también)\n",
    "for _, row in df[:None].iterrows():\n",
    "    sentence_tokens.append(text_to_word_sequence(row[0]))"
   ]
  },
  {
   "cell_type": "code",
   "execution_count": 210,
   "id": "48451f4c",
   "metadata": {},
   "outputs": [
    {
     "data": {
      "text/plain": [
       "[['the', 'tragedy', 'of', 'romeo', 'and', 'juliet'],\n",
       " ['by', 'william', 'shakespeare']]"
      ]
     },
     "execution_count": 210,
     "metadata": {},
     "output_type": "execute_result"
    }
   ],
   "source": [
    "# Demos un vistazo\n",
    "sentence_tokens[:2]"
   ]
  },
  {
   "cell_type": "markdown",
   "id": "00a0f772",
   "metadata": {},
   "source": [
    "Defino la clase *callback* vista en la teoría y le agrego el atributo `losses` para graficar la pérdida en función de las épocas de entrenamiento."
   ]
  },
  {
   "cell_type": "code",
   "execution_count": 211,
   "id": "efba1456",
   "metadata": {},
   "outputs": [],
   "source": [
    "from gensim.models.callbacks import CallbackAny2Vec\n",
    "# Durante el entrenamiento gensim por defecto no informa el \"loss\" en cada época\n",
    "# Sobrecargamos el callback para poder tener esta información\n",
    "class callback(CallbackAny2Vec):\n",
    "    \"\"\"\n",
    "    Callback to print loss after each epoch\n",
    "    \"\"\"\n",
    "    def __init__(self):\n",
    "        self.epoch = 0\n",
    "        self.losses = []\n",
    "\n",
    "    def on_epoch_end(self, model):\n",
    "        loss = model.get_latest_training_loss()\n",
    "        if self.epoch == 0:\n",
    "            print('Loss after epoch {}: {}'.format(self.epoch, loss))\n",
    "            self.losses.append(loss)\n",
    "        else:\n",
    "            print('Loss after epoch {}: {}'.format(self.epoch, loss- self.loss_previous_step))\n",
    "            self.losses.append(loss - sum(self.losses))\n",
    "        self.epoch += 1\n",
    "        self.loss_previous_step = loss"
   ]
  },
  {
   "cell_type": "code",
   "execution_count": 212,
   "id": "a090f89a",
   "metadata": {},
   "outputs": [],
   "source": [
    "# Crearmos el modelo generador de vectores\n",
    "# En este caso utilizaremos la estructura modelo Skipgram\n",
    "w2v_model = Word2Vec(min_count=5,           # frecuencia mínima de palabra para incluirla en el vocabulario\n",
    "                     window=2,              # cant de palabras antes y desp de la predicha\n",
    "                     vector_size=400,       # dimensionalidad de los vectores \n",
    "                     negative=20,           # cantidad de negative samples... 0 es no se usa\n",
    "                     workers=4,             # si tienen más cores pueden cambiar este valor\n",
    "                     sg=1)                  # modelo 0:CBOW  1:skipgram"
   ]
  },
  {
   "cell_type": "code",
   "execution_count": 213,
   "id": "a119d4a2",
   "metadata": {},
   "outputs": [],
   "source": [
    "# Obtener el vocabulario con los tokens\n",
    "w2v_model.build_vocab(sentence_tokens)"
   ]
  },
  {
   "cell_type": "code",
   "execution_count": 214,
   "id": "38b05d0a",
   "metadata": {},
   "outputs": [
    {
     "name": "stdout",
     "output_type": "stream",
     "text": [
      "Cantidad de docs en el corpus: 4137\n"
     ]
    }
   ],
   "source": [
    "# Cantidad de filas/docs encontradas en el corpus\n",
    "print(\"Cantidad de docs en el corpus:\", w2v_model.corpus_count)"
   ]
  },
  {
   "cell_type": "code",
   "execution_count": 215,
   "id": "4503c69c",
   "metadata": {},
   "outputs": [
    {
     "name": "stdout",
     "output_type": "stream",
     "text": [
      "Cantidad de words distintas en el corpus: 698\n"
     ]
    }
   ],
   "source": [
    "# Cantidad de words encontradas en el corpus\n",
    "print(\"Cantidad de words distintas en el corpus:\", len(w2v_model.wv.index_to_key))"
   ]
  },
  {
   "cell_type": "code",
   "execution_count": 216,
   "id": "1b01927e",
   "metadata": {},
   "outputs": [
    {
     "name": "stdout",
     "output_type": "stream",
     "text": [
      "Loss after epoch 0: 76387.7578125\n",
      "Loss after epoch 1: 46599.765625\n",
      "Loss after epoch 2: 45284.2421875\n",
      "Loss after epoch 3: 46810.171875\n",
      "Loss after epoch 4: 45573.421875\n",
      "Loss after epoch 5: 45238.265625\n",
      "Loss after epoch 6: 46508.65625\n",
      "Loss after epoch 7: 45322.65625\n",
      "Loss after epoch 8: 44991.6875\n",
      "Loss after epoch 9: 44644.59375\n",
      "Loss after epoch 10: 44748.15625\n",
      "Loss after epoch 11: 44737.3125\n",
      "Loss after epoch 12: 44882.0625\n",
      "Loss after epoch 13: 43756.375\n",
      "Loss after epoch 14: 43829.1875\n",
      "Loss after epoch 15: 43096.1875\n",
      "Loss after epoch 16: 42047.625\n",
      "Loss after epoch 17: 42169.625\n",
      "Loss after epoch 18: 41872.875\n",
      "Loss after epoch 19: 41414.1875\n",
      "Loss after epoch 20: 41751.1875\n",
      "Loss after epoch 21: 40311.6875\n",
      "Loss after epoch 22: 40542.75\n",
      "Loss after epoch 23: 35757.4375\n",
      "Loss after epoch 24: 36711.0\n",
      "Loss after epoch 25: 35197.75\n",
      "Loss after epoch 26: 36522.875\n",
      "Loss after epoch 27: 35905.25\n",
      "Loss after epoch 28: 36139.125\n",
      "Loss after epoch 29: 35051.375\n",
      "Loss after epoch 30: 35000.75\n",
      "Loss after epoch 31: 34837.75\n",
      "Loss after epoch 32: 34689.375\n",
      "Loss after epoch 33: 35244.0\n",
      "Loss after epoch 34: 34380.0\n",
      "Loss after epoch 35: 34871.25\n",
      "Loss after epoch 36: 34432.0\n",
      "Loss after epoch 37: 34139.875\n",
      "Loss after epoch 38: 33893.25\n",
      "Loss after epoch 39: 34540.75\n"
     ]
    },
    {
     "data": {
      "image/png": "[encoded data removed]",
      "text/plain": [
       "<Figure size 640x480 with 1 Axes>"
      ]
     },
     "metadata": {},
     "output_type": "display_data"
    }
   ],
   "source": [
    "# Entrenamos el modelo generador de vectores\n",
    "# Utilizamos nuestro callback\n",
    "\n",
    "loss_logger = callback()\n",
    "\n",
    "w2v_model.train(sentence_tokens,\n",
    "                 total_examples=w2v_model.corpus_count,\n",
    "                 epochs=40,\n",
    "                 compute_loss = True,\n",
    "                 callbacks=[loss_logger]\n",
    "                 )\n",
    "\n",
    "\n",
    "plt.plot(loss_logger.losses)\n",
    "plt.title(\"Training Loss per Epoch\")\n",
    "plt.xlabel(\"Epoch\")\n",
    "plt.ylabel(\"Loss\")\n",
    "plt.grid(True)\n",
    "plt.show()"
   ]
  },
  {
   "cell_type": "markdown",
   "id": "9d1b5f9f",
   "metadata": {},
   "source": [
    "Relaciones entre palabras! Pruebo términos de interés como **Romeo** y analizo la relación semántica que tiene con otros términos dentro del corpus y su relación narrativa dentro de la obra."
   ]
  },
  {
   "cell_type": "code",
   "execution_count": 217,
   "id": "0c93f6f5",
   "metadata": {},
   "outputs": [
    {
     "data": {
      "text/plain": [
       "[('prince', 0.8026931881904602),\n",
       " ('mercutio’s', 0.7961214184761047),\n",
       " ('slew', 0.7959634065628052),\n",
       " ('already', 0.7700316905975342),\n",
       " ('anon', 0.7688239812850952),\n",
       " ('mercutio', 0.7547091841697693),\n",
       " ('wherefore', 0.7282834649085999),\n",
       " ('wake', 0.7154416441917419),\n",
       " ('chorus', 0.709601879119873),\n",
       " ('slain', 0.7029446959495544)]"
      ]
     },
     "execution_count": 217,
     "metadata": {},
     "output_type": "execute_result"
    }
   ],
   "source": [
    "# Palabras que MÁS se relacionan con...:\n",
    "w2v_model.wv.most_similar(positive=[\"romeo\"], topn=10)"
   ]
  },
  {
   "cell_type": "markdown",
   "id": "46852996",
   "metadata": {},
   "source": [
    "Estas son las *10 palabras (tokens) con más relación de contexto respecto a **Romeo**.  \n",
    "Palabras (tokens) como **mercutio’s** y **prince**, por ejemplo, son las que más veces aparecen cerca de *Romeo* en el texto (corpus).  \n",
    "Un ejemplo de esto es la línea (documento):  \n",
    "\n",
    "> *\"Not Romeo, Prince, he was Mercutio’s friend;\"*  \n",
    "\n",
    "También aparecen otras palabras relacionadas como **slew**, **already**, **anon**, que comparten contexto con Romeo en distintas escenas.  \n",
    "Asimismo, se destacan términos como **chorus**, **noble**, **falls** y **wherefore**, cuya presencia frecuente cerca de *Romeo* sugiere una asociación estadística significativa aprendida por el modelo.\n",
    "\n",
    "Esto refleja cómo el modelo Word2Vec captura asociaciones basadas en coocurrencia dentro del texto de la obra (corpus).\n",
    "\n",
    "*El valor de similitud puede variar de corrida a corrida por la aleatoriedad de los entrenamientos."
   ]
  },
  {
   "cell_type": "markdown",
   "id": "91e398c6",
   "metadata": {},
   "source": [
    "Ahora analizo la relación entre **Romeo** y **Julieta**. Es esperable que tengan una alta relación (alta similitud)."
   ]
  },
  {
   "cell_type": "code",
   "execution_count": 218,
   "id": "def5622a",
   "metadata": {},
   "outputs": [
    {
     "data": {
      "text/plain": [
       "0.6855141"
      ]
     },
     "execution_count": 218,
     "metadata": {},
     "output_type": "execute_result"
    }
   ],
   "source": [
    "w2v_model.wv.similarity('romeo', 'juliet')"
   ]
  },
  {
   "cell_type": "markdown",
   "id": "8e50bf35",
   "metadata": {},
   "source": [
    "Tal como puede verse, y era de esperar, la similitud coseno entre estos dos tokens es alta!"
   ]
  },
  {
   "cell_type": "code",
   "execution_count": 219,
   "id": "d7c52b4e",
   "metadata": {},
   "outputs": [
    {
     "data": {
      "text/plain": [
       "[('doth', -0.11129745841026306),\n",
       " ('an', -0.1415383517742157),\n",
       " ('eyes', -0.14313755929470062),\n",
       " ('on', -0.16052749752998352),\n",
       " ('thine', -0.16747424006462097),\n",
       " ('eye', -0.18135853111743927),\n",
       " ('no', -0.18515907227993011),\n",
       " ('nor', -0.1892879605293274),\n",
       " ('at', -0.19285432994365692),\n",
       " ('upon', -0.19441330432891846)]"
      ]
     },
     "execution_count": 219,
     "metadata": {},
     "output_type": "execute_result"
    }
   ],
   "source": [
    "# Palabras que MENOS se relacionan con...:\n",
    "w2v_model.wv.most_similar(negative=[\"romeo\"], topn=10)"
   ]
  },
  {
   "cell_type": "markdown",
   "id": "7bf0b0dc",
   "metadata": {},
   "source": [
    "Estas son las 10 palabras que tienen mayor **relación negativa** con el token **romeo**, según el modelo.  \n",
    "Palabras como **tears** o **eyes** aparecen en contextos diferentes a los de *Romeo*.  \n",
    "Por ejemplo, **tears** (no se muestra en todas las ejecuciones dentro de las 10 menos similares, aunque tiene alta similitud) se asocia más con escenas emocionales o con otros personajes."
   ]
  },
  {
   "cell_type": "markdown",
   "id": "d356cc22",
   "metadata": {},
   "source": [
    "Ahora paso a los gráficos."
   ]
  },
  {
   "cell_type": "code",
   "execution_count": 220,
   "id": "b9cd5aa4",
   "metadata": {},
   "outputs": [],
   "source": [
    "from sklearn.decomposition import IncrementalPCA    \n",
    "from sklearn.manifold import TSNE                   \n",
    "import numpy as np                                  \n",
    "\n",
    "def reduce_dimensions(model, num_dimensions = 2 ):\n",
    "     \n",
    "    vectors = np.asarray(model.wv.vectors)\n",
    "    labels = np.asarray(model.wv.index_to_key)  \n",
    "\n",
    "    tsne = TSNE(n_components=num_dimensions, random_state=0)\n",
    "    vectors = tsne.fit_transform(vectors)\n",
    "\n",
    "    return vectors, labels"
   ]
  },
  {
   "cell_type": "code",
   "execution_count": 221,
   "id": "daeba99b",
   "metadata": {},
   "outputs": [
    {
     "data": {
      "application/vnd.plotly.v1+json": {
       "config": {
        "plotlyServerURL": "https://plot.ly"
       },
       "data": [
        {
         "hovertemplate": "x=%{x}<br>y=%{y}<br>text=%{text}<extra></extra>",
         "legendgroup": "",
         "marker": {
          "color": "#636efa",
          "symbol": "circle"
         },
         "mode": "markers+text",
         "name": "",
         "orientation": "v",
         "showlegend": false,
         "text": [
          "and",
          "the",
          "i",
          "to",
          "a",
          "of",
          "my",
          "that",
          "is",
          "in",
          "romeo",
          "you",
          "thou",
          "me",
          "not",
          "with",
          "it",
          "for",
          "this",
          "be",
          "but",
          "juliet",
          "thy",
          "what",
          "as",
          "her",
          "o",
          "nurse",
          "will",
          "so",
          "capulet",
          "love",
          "thee",
          "his",
          "have",
          "he",
          "by",
          "she",
          "shall",
          "lady",
          "friar",
          "your",
          "no",
          "him",
          "all",
          "come",
          "do",
          "from",
          "good",
          "if",
          "then",
          "mercutio",
          "now",
          "on",
          "enter",
          "here",
          "benvolio",
          "go",
          "i’ll",
          "an",
          "death",
          "at",
          "tybalt",
          "night",
          "lawrence",
          "or",
          "man",
          "more",
          "we",
          "are",
          "hath",
          "there",
          "which",
          "well",
          "our",
          "am",
          "one",
          "how",
          "paris",
          "they",
          "sir",
          "some",
          "up",
          "too",
          "art",
          "would",
          "out",
          "when",
          "say",
          "scene",
          "where",
          "should",
          "was",
          "may",
          "dead",
          "give",
          "yet",
          "day",
          "than",
          "their",
          "doth",
          "such",
          "montague",
          "let",
          "fair",
          "tell",
          "them",
          "upon",
          "these",
          "take",
          "make",
          "’tis",
          "must",
          "did",
          "can",
          "like",
          "why",
          "much",
          "were",
          "prince",
          "see",
          "know",
          "first",
          "sweet",
          "exeunt",
          "who",
          "gone",
          "house",
          "exit",
          "time",
          "lord",
          "servant",
          "look",
          "us",
          "ay",
          "heaven",
          "back",
          "mine",
          "wilt",
          "light",
          "eyes",
          "speak",
          "old",
          "hast",
          "hence",
          "comes",
          "again",
          "true",
          "bed",
          "god",
          "word",
          "stay",
          "being",
          "peter",
          "dear",
          "heart",
          "hand",
          "very",
          "stand",
          "name",
          "find",
          "part",
          "young",
          "made",
          "life",
          "die",
          "both",
          "madam",
          "watch",
          "therefore",
          "away",
          "call",
          "sampson",
          "till",
          "hear",
          "cell",
          "capulet’s",
          "men",
          "father",
          "face",
          "ere",
          "marry",
          "think",
          "holy",
          "bid",
          "lie",
          "cannot",
          "earth",
          "wife",
          "nay",
          "had",
          "tears",
          "farewell",
          "before",
          "nor",
          "been",
          "two",
          "eye",
          "within",
          "peace"
         ],
         "type": "scatter",
         "x": {
          "bdata": "LvMCwPDDI8Eza45Bj0I1QC2H0r+RQF7BkPRmwSCaCUGOlBNAWjpqwWOmI8E5exFBdx0uQZtVwEAsBvNA5caVwLJubkGvOYNAPNrTvnDvJkFqofFAtFicwZUCML+MdvdAmzwRPgYAS8H1VoHB/vWZwbg8wEBluCNAW/ypwb0KaT6MWZNAnKwVwf99g0EcuZJADlPjP6x/bUBuBz1BTAybwe7xxMHsTr/AOm/SP7LRc0A0qzvBN9hEQWNHYkF8tHzBo/cNwOmnIEHevQNBiviywRI/0kAZgptBe9+zwVWT0j+XKrLBs8IjQSRS7UCnBK/ARK34QMrzj7/B1ijBrfsRwK8GusHdf7s/6rjEQBAocr/3GoNBjKqHwT0IIcHJ8qI7fEgnwN8FUkFSjvXAWlmvQHAtnz7qvu9AIaiqwWabBL/KKoJBL4/0QELYCcG9B3dAOiJQQaPDZ0HIQlDB/FVjQdGqeEHPBLPBLsbSP8N+U0EeYktAjfRDQby+Q8GrAEdBfb46Qc5tcsESARu/rA8bwWnwY0CdVDPAyFWmweF7oEDNAtM/klxCQTOC1cABKf7AD/K3Qc/E/8CM3gFBft8dwMrwjkGyUD5BMCxOQVC9jr9Y3Q9ByjQzv0TJf0Fe8irBF8cMQdISvUCotbvBNV4IwF+zrMEzUKhA0CU6QaCdhMHYi7jB3/qWP8ZgncAuQL7BQmOMQKJ9xUCd0wZBJ/U3wTsTFECTqjvBWPFTQf1ESsERVVjB/pkkQddQ28CqYmJB+UQCQbveIsEs5FlA8c5IwGH5B0FSithAsPMlQOTLNUBYQCDB91CsweM3aMFYckrBrL4rwAcRVMDbddlAi2GvwBtlqMAf4lbBkseBQL1Wj8DLuU3BvpKZQNFZbMAQLGtBFji/wfU2X0DcjiVBIekYQXJKo8GPKzdBvY7IQGb7vsEDLbjBLYsbwAK3qMDGMY/ARbAiQbI4akGWdHVBU0W/P30VJEFxBYa/bd5PQagdEsFtzt3Avdoav6yYYEGplkfBPerCwG8xBMEZgp7AnxiYQR1+qEHBxkzBNtpiwVc3yMA=",
          "dtype": "f4"
         },
         "xaxis": "x",
         "y": {
          "bdata": "4y7HPyjiCkCwtYfAMoVaQepTscDnDCdADXlbwCwIlMB6HXnBnDKYQO5zc8HHXMJAw4ETwV6/D0FgI3XAKu8AQT99tMD7Wq7AmAgtwacHcD9pw0ZA2bfBwBK5JD+33wvB2oEAwdsCu8AAqWPBFYDbwOzYNEFEXpbAoOTmwMCpez+t+CFBEolywHH9AMA5B5LBmuDYQEX4NcEJEvC+gKoAwdjCFUAXqDhB9dtCQbfEjUBQxatAYQB9QT0ekUD6t+K+QzuJwfTTW79I5wXABgDBwP+0UsG34ipB7hbfwBCC2MBIFrvAurNXQfIjLkHOidTAH9jfwJApvkBWuGDB9EaawdSQ6j4cBQhBKXI/wCN2XkFDuQ0/jQ8iwWxZAMHtDhbAPcAuwQUopsDp1LtApH4Ewch0fcDW4ELBfH1FwIJPNUGSpQZB89eYQb4pYkHGbvvAImUxwbJld8CiOwXBzezDv/cUj0DgyHRAnnwhwW16EMBht2TB2x1DwI3VVMEBxhlBrCunwORUcsGpz3lB74kxQZpoUMEXG6LA1vD1wLFVVEEe4W7Aybr8QPZXSEGlSqW/OV6iPxFLGkEJtfRAV5SCQUQfiEAbhlfAS6OFQOxJlcBtkSrBylSYQdf/hcBK2nzB71VawednzD/WsAfAht1XwSKQ08AAZj9Adu3cwIFhs0Bmom/Aj69EwWkIfMHVOnfAZRp8QcAeH0HgEDJBdhmBwKVvhEEo1FhBX74FwY9g8UC5silBS1ilQMCY8MCSrBvBd+BTQYJZFMFqdIlBllKSPwEKZ0GyMm3B4PWbQMhsEUHxXXhAwciKwJAOl8Bh82TAE2QJwRPn0cDgBVBBf7I2wUQfUEEJn6hAjLkUwUDftL4+3c+9XwIQQYi1P0Eym09BuwGJwAuQO0EDdIJBWYj2QELxkcCYXrU/h89/QSj9+j86Xs5Aw0EqQfUIdcEqVAtACETkQPZaIkEvAdo/3gmvPzOLI0Gen1e/WeK5vraOAb/G8nTBAPuNwYiTWT5LQRVBDEeHwZbNtsAejYNBPGAVwPDtLED/FkJBs+q9wM87IkE=",
          "dtype": "f4"
         },
         "yaxis": "y"
        }
       ],
       "layout": {
        "legend": {
         "tracegroupgap": 0
        },
        "margin": {
         "t": 60
        },
        "template": {
         "data": {
          "bar": [
           {
            "error_x": {
             "color": "#2a3f5f"
            },
            "error_y": {
             "color": "#2a3f5f"
            },
            "marker": {
             "line": {
              "color": "#E5ECF6",
              "width": 0.5
             },
             "pattern": {
              "fillmode": "overlay",
              "size": 10,
              "solidity": 0.2
             }
            },
            "type": "bar"
           }
          ],
          "barpolar": [
           {
            "marker": {
             "line": {
              "color": "#E5ECF6",
              "width": 0.5
             },
             "pattern": {
              "fillmode": "overlay",
              "size": 10,
              "solidity": 0.2
             }
            },
            "type": "barpolar"
           }
          ],
          "carpet": [
           {
            "aaxis": {
             "endlinecolor": "#2a3f5f",
             "gridcolor": "white",
             "linecolor": "white",
             "minorgridcolor": "white",
             "startlinecolor": "#2a3f5f"
            },
            "baxis": {
             "endlinecolor": "#2a3f5f",
             "gridcolor": "white",
             "linecolor": "white",
             "minorgridcolor": "white",
             "startlinecolor": "#2a3f5f"
            },
            "type": "carpet"
           }
          ],
          "choropleth": [
           {
            "colorbar": {
             "outlinewidth": 0,
             "ticks": ""
            },
            "type": "choropleth"
           }
          ],
          "contour": [
           {
            "colorbar": {
             "outlinewidth": 0,
             "ticks": ""
            },
            "colorscale": [
             [
              0,
              "#0d0887"
             ],
             [
              0.1111111111111111,
              "#46039f"
             ],
             [
              0.2222222222222222,
              "#7201a8"
             ],
             [
              0.3333333333333333,
              "#9c179e"
             ],
             [
              0.4444444444444444,
              "#bd3786"
             ],
             [
              0.5555555555555556,
              "#d8576b"
             ],
             [
              0.6666666666666666,
              "#ed7953"
             ],
             [
              0.7777777777777778,
              "#fb9f3a"
             ],
             [
              0.8888888888888888,
              "#fdca26"
             ],
             [
              1,
              "#f0f921"
             ]
            ],
            "type": "contour"
           }
          ],
          "contourcarpet": [
           {
            "colorbar": {
             "outlinewidth": 0,
             "ticks": ""
            },
            "type": "contourcarpet"
           }
          ],
          "heatmap": [
           {
            "colorbar": {
             "outlinewidth": 0,
             "ticks": ""
            },
            "colorscale": [
             [
              0,
              "#0d0887"
             ],
             [
              0.1111111111111111,
              "#46039f"
             ],
             [
              0.2222222222222222,
              "#7201a8"
             ],
             [
              0.3333333333333333,
              "#9c179e"
             ],
             [
              0.4444444444444444,
              "#bd3786"
             ],
             [
              0.5555555555555556,
              "#d8576b"
             ],
             [
              0.6666666666666666,
              "#ed7953"
             ],
             [
              0.7777777777777778,
              "#fb9f3a"
             ],
             [
              0.8888888888888888,
              "#fdca26"
             ],
             [
              1,
              "#f0f921"
             ]
            ],
            "type": "heatmap"
           }
          ],
          "histogram": [
           {
            "marker": {
             "pattern": {
              "fillmode": "overlay",
              "size": 10,
              "solidity": 0.2
             }
            },
            "type": "histogram"
           }
          ],
          "histogram2d": [
           {
            "colorbar": {
             "outlinewidth": 0,
             "ticks": ""
            },
            "colorscale": [
             [
              0,
              "#0d0887"
             ],
             [
              0.1111111111111111,
              "#46039f"
             ],
             [
              0.2222222222222222,
              "#7201a8"
             ],
             [
              0.3333333333333333,
              "#9c179e"
             ],
             [
              0.4444444444444444,
              "#bd3786"
             ],
             [
              0.5555555555555556,
              "#d8576b"
             ],
             [
              0.6666666666666666,
              "#ed7953"
             ],
             [
              0.7777777777777778,
              "#fb9f3a"
             ],
             [
              0.8888888888888888,
              "#fdca26"
             ],
             [
              1,
              "#f0f921"
             ]
            ],
            "type": "histogram2d"
           }
          ],
          "histogram2dcontour": [
           {
            "colorbar": {
             "outlinewidth": 0,
             "ticks": ""
            },
            "colorscale": [
             [
              0,
              "#0d0887"
             ],
             [
              0.1111111111111111,
              "#46039f"
             ],
             [
              0.2222222222222222,
              "#7201a8"
             ],
             [
              0.3333333333333333,
              "#9c179e"
             ],
             [
              0.4444444444444444,
              "#bd3786"
             ],
             [
              0.5555555555555556,
              "#d8576b"
             ],
             [
              0.6666666666666666,
              "#ed7953"
             ],
             [
              0.7777777777777778,
              "#fb9f3a"
             ],
             [
              0.8888888888888888,
              "#fdca26"
             ],
             [
              1,
              "#f0f921"
             ]
            ],
            "type": "histogram2dcontour"
           }
          ],
          "mesh3d": [
           {
            "colorbar": {
             "outlinewidth": 0,
             "ticks": ""
            },
            "type": "mesh3d"
           }
          ],
          "parcoords": [
           {
            "line": {
             "colorbar": {
              "outlinewidth": 0,
              "ticks": ""
             }
            },
            "type": "parcoords"
           }
          ],
          "pie": [
           {
            "automargin": true,
            "type": "pie"
           }
          ],
          "scatter": [
           {
            "fillpattern": {
             "fillmode": "overlay",
             "size": 10,
             "solidity": 0.2
            },
            "type": "scatter"
           }
          ],
          "scatter3d": [
           {
            "line": {
             "colorbar": {
              "outlinewidth": 0,
              "ticks": ""
             }
            },
            "marker": {
             "colorbar": {
              "outlinewidth": 0,
              "ticks": ""
             }
            },
            "type": "scatter3d"
           }
          ],
          "scattercarpet": [
           {
            "marker": {
             "colorbar": {
              "outlinewidth": 0,
              "ticks": ""
             }
            },
            "type": "scattercarpet"
           }
          ],
          "scattergeo": [
           {
            "marker": {
             "colorbar": {
              "outlinewidth": 0,
              "ticks": ""
             }
            },
            "type": "scattergeo"
           }
          ],
          "scattergl": [
           {
            "marker": {
             "colorbar": {
              "outlinewidth": 0,
              "ticks": ""
             }
            },
            "type": "scattergl"
           }
          ],
          "scattermap": [
           {
            "marker": {
             "colorbar": {
              "outlinewidth": 0,
              "ticks": ""
             }
            },
            "type": "scattermap"
           }
          ],
          "scattermapbox": [
           {
            "marker": {
             "colorbar": {
              "outlinewidth": 0,
              "ticks": ""
             }
            },
            "type": "scattermapbox"
           }
          ],
          "scatterpolar": [
           {
            "marker": {
             "colorbar": {
              "outlinewidth": 0,
              "ticks": ""
             }
            },
            "type": "scatterpolar"
           }
          ],
          "scatterpolargl": [
           {
            "marker": {
             "colorbar": {
              "outlinewidth": 0,
              "ticks": ""
             }
            },
            "type": "scatterpolargl"
           }
          ],
          "scatterternary": [
           {
            "marker": {
             "colorbar": {
              "outlinewidth": 0,
              "ticks": ""
             }
            },
            "type": "scatterternary"
           }
          ],
          "surface": [
           {
            "colorbar": {
             "outlinewidth": 0,
             "ticks": ""
            },
            "colorscale": [
             [
              0,
              "#0d0887"
             ],
             [
              0.1111111111111111,
              "#46039f"
             ],
             [
              0.2222222222222222,
              "#7201a8"
             ],
             [
              0.3333333333333333,
              "#9c179e"
             ],
             [
              0.4444444444444444,
              "#bd3786"
             ],
             [
              0.5555555555555556,
              "#d8576b"
             ],
             [
              0.6666666666666666,
              "#ed7953"
             ],
             [
              0.7777777777777778,
              "#fb9f3a"
             ],
             [
              0.8888888888888888,
              "#fdca26"
             ],
             [
              1,
              "#f0f921"
             ]
            ],
            "type": "surface"
           }
          ],
          "table": [
           {
            "cells": {
             "fill": {
              "color": "#EBF0F8"
             },
             "line": {
              "color": "white"
             }
            },
            "header": {
             "fill": {
              "color": "#C8D4E3"
             },
             "line": {
              "color": "white"
             }
            },
            "type": "table"
           }
          ]
         },
         "layout": {
          "annotationdefaults": {
           "arrowcolor": "#2a3f5f",
           "arrowhead": 0,
           "arrowwidth": 1
          },
          "autotypenumbers": "strict",
          "coloraxis": {
           "colorbar": {
            "outlinewidth": 0,
            "ticks": ""
           }
          },
          "colorscale": {
           "diverging": [
            [
             0,
             "#8e0152"
            ],
            [
             0.1,
             "#c51b7d"
            ],
            [
             0.2,
             "#de77ae"
            ],
            [
             0.3,
             "#f1b6da"
            ],
            [
             0.4,
             "#fde0ef"
            ],
            [
             0.5,
             "#f7f7f7"
            ],
            [
             0.6,
             "#e6f5d0"
            ],
            [
             0.7,
             "#b8e186"
            ],
            [
             0.8,
             "#7fbc41"
            ],
            [
             0.9,
             "#4d9221"
            ],
            [
             1,
             "#276419"
            ]
           ],
           "sequential": [
            [
             0,
             "#0d0887"
            ],
            [
             0.1111111111111111,
             "#46039f"
            ],
            [
             0.2222222222222222,
             "#7201a8"
            ],
            [
             0.3333333333333333,
             "#9c179e"
            ],
            [
             0.4444444444444444,
             "#bd3786"
            ],
            [
             0.5555555555555556,
             "#d8576b"
            ],
            [
             0.6666666666666666,
             "#ed7953"
            ],
            [
             0.7777777777777778,
             "#fb9f3a"
            ],
            [
             0.8888888888888888,
             "#fdca26"
            ],
            [
             1,
             "#f0f921"
            ]
           ],
           "sequentialminus": [
            [
             0,
             "#0d0887"
            ],
            [
             0.1111111111111111,
             "#46039f"
            ],
            [
             0.2222222222222222,
             "#7201a8"
            ],
            [
             0.3333333333333333,
             "#9c179e"
            ],
            [
             0.4444444444444444,
             "#bd3786"
            ],
            [
             0.5555555555555556,
             "#d8576b"
            ],
            [
             0.6666666666666666,
             "#ed7953"
            ],
            [
             0.7777777777777778,
             "#fb9f3a"
            ],
            [
             0.8888888888888888,
             "#fdca26"
            ],
            [
             1,
             "#f0f921"
            ]
           ]
          },
          "colorway": [
           "#636efa",
           "#EF553B",
           "#00cc96",
           "#ab63fa",
           "#FFA15A",
           "#19d3f3",
           "#FF6692",
           "#B6E880",
           "#FF97FF",
           "#FECB52"
          ],
          "font": {
           "color": "#2a3f5f"
          },
          "geo": {
           "bgcolor": "white",
           "lakecolor": "white",
           "landcolor": "#E5ECF6",
           "showlakes": true,
           "showland": true,
           "subunitcolor": "white"
          },
          "hoverlabel": {
           "align": "left"
          },
          "hovermode": "closest",
          "mapbox": {
           "style": "light"
          },
          "paper_bgcolor": "white",
          "plot_bgcolor": "#E5ECF6",
          "polar": {
           "angularaxis": {
            "gridcolor": "white",
            "linecolor": "white",
            "ticks": ""
           },
           "bgcolor": "#E5ECF6",
           "radialaxis": {
            "gridcolor": "white",
            "linecolor": "white",
            "ticks": ""
           }
          },
          "scene": {
           "xaxis": {
            "backgroundcolor": "#E5ECF6",
            "gridcolor": "white",
            "gridwidth": 2,
            "linecolor": "white",
            "showbackground": true,
            "ticks": "",
            "zerolinecolor": "white"
           },
           "yaxis": {
            "backgroundcolor": "#E5ECF6",
            "gridcolor": "white",
            "gridwidth": 2,
            "linecolor": "white",
            "showbackground": true,
            "ticks": "",
            "zerolinecolor": "white"
           },
           "zaxis": {
            "backgroundcolor": "#E5ECF6",
            "gridcolor": "white",
            "gridwidth": 2,
            "linecolor": "white",
            "showbackground": true,
            "ticks": "",
            "zerolinecolor": "white"
           }
          },
          "shapedefaults": {
           "line": {
            "color": "#2a3f5f"
           }
          },
          "ternary": {
           "aaxis": {
            "gridcolor": "white",
            "linecolor": "white",
            "ticks": ""
           },
           "baxis": {
            "gridcolor": "white",
            "linecolor": "white",
            "ticks": ""
           },
           "bgcolor": "#E5ECF6",
           "caxis": {
            "gridcolor": "white",
            "linecolor": "white",
            "ticks": ""
           }
          },
          "title": {
           "x": 0.05
          },
          "xaxis": {
           "automargin": true,
           "gridcolor": "white",
           "linecolor": "white",
           "ticks": "",
           "title": {
            "standoff": 15
           },
           "zerolinecolor": "white",
           "zerolinewidth": 2
          },
          "yaxis": {
           "automargin": true,
           "gridcolor": "white",
           "linecolor": "white",
           "ticks": "",
           "title": {
            "standoff": 15
           },
           "zerolinecolor": "white",
           "zerolinewidth": 2
          }
         }
        },
        "xaxis": {
         "anchor": "y",
         "domain": [
          0,
          1
         ],
         "title": {
          "text": "x"
         }
        },
        "yaxis": {
         "anchor": "x",
         "domain": [
          0,
          1
         ],
         "title": {
          "text": "y"
         }
        }
       }
      }
     },
     "metadata": {},
     "output_type": "display_data"
    }
   ],
   "source": [
    "# Graficar los embedddings en 2D\n",
    "#!pip install plotly\n",
    "import plotly.graph_objects as go\n",
    "import plotly.express as px\n",
    "\n",
    "vecs, labels = reduce_dimensions(w2v_model)\n",
    "\n",
    "MAX_WORDS=200\n",
    "fig = px.scatter(x=vecs[:MAX_WORDS,0], y=vecs[:MAX_WORDS,1], text=labels[:MAX_WORDS])\n",
    "fig.show() "
   ]
  },
  {
   "cell_type": "markdown",
   "id": "507fc02e",
   "metadata": {},
   "source": [
    "Se aprecia similitud entre tokens como **face**, **eyes** y **tears**, tanto desde el punto de vista semántico como lógico, ya que es esperable encontrar estas palabras en contextos similares. En este sentido, el modelo de embeddings logra reflejar relaciones intuitivas del lenguaje.\n",
    "\n",
    "También se observa proximidad entre palabras como **father** y **lord**, y entre **wife** y **lady**, así como entre los cuatro términos en conjunto.\n",
    "\n",
    "Vale destacar que las representaciones en 2D (al igual que en 3D) pueden variar entre ejecuciones, ya que pequeños cambios en los vectores originales pueden provocar grandes diferencias en las proyecciones obtenidas mediante PCA. "
   ]
  },
  {
   "cell_type": "code",
   "execution_count": 222,
   "id": "1a8d45db",
   "metadata": {},
   "outputs": [
    {
     "data": {
      "application/vnd.plotly.v1+json": {
       "config": {
        "plotlyServerURL": "https://plot.ly"
       },
       "data": [
        {
         "hovertemplate": "x=%{x}<br>y=%{y}<br>z=%{z}<br>text=%{text}<extra></extra>",
         "legendgroup": "",
         "marker": {
          "color": "#636efa",
          "size": 2,
          "symbol": "circle"
         },
         "mode": "markers+text",
         "name": "",
         "scene": "scene",
         "showlegend": false,
         "text": [
          "and",
          "the",
          "i",
          "to",
          "a",
          "of",
          "my",
          "that",
          "is",
          "in",
          "romeo",
          "you",
          "thou",
          "me",
          "not",
          "with",
          "it",
          "for",
          "this",
          "be",
          "but",
          "juliet",
          "thy",
          "what",
          "as",
          "her",
          "o",
          "nurse",
          "will",
          "so",
          "capulet",
          "love",
          "thee",
          "his",
          "have",
          "he",
          "by",
          "she",
          "shall",
          "lady",
          "friar",
          "your",
          "no",
          "him",
          "all",
          "come",
          "do",
          "from",
          "good",
          "if",
          "then",
          "mercutio",
          "now",
          "on",
          "enter",
          "here",
          "benvolio",
          "go",
          "i’ll",
          "an",
          "death",
          "at",
          "tybalt",
          "night",
          "lawrence",
          "or",
          "man",
          "more",
          "we",
          "are",
          "hath",
          "there",
          "which",
          "well",
          "our",
          "am",
          "one",
          "how",
          "paris",
          "they",
          "sir",
          "some",
          "up",
          "too",
          "art",
          "would",
          "out",
          "when",
          "say",
          "scene",
          "where",
          "should",
          "was",
          "may",
          "dead",
          "give",
          "yet",
          "day",
          "than",
          "their",
          "doth",
          "such",
          "montague",
          "let",
          "fair",
          "tell",
          "them",
          "upon",
          "these",
          "take",
          "make",
          "’tis",
          "must",
          "did",
          "can",
          "like",
          "why",
          "much",
          "were",
          "prince",
          "see",
          "know",
          "first",
          "sweet",
          "exeunt",
          "who",
          "gone",
          "house",
          "exit",
          "time",
          "lord",
          "servant",
          "look",
          "us",
          "ay",
          "heaven",
          "back",
          "mine",
          "wilt",
          "light",
          "eyes",
          "speak",
          "old",
          "hast",
          "hence",
          "comes",
          "again",
          "true",
          "bed",
          "god",
          "word",
          "stay",
          "being",
          "peter",
          "dear",
          "heart",
          "hand",
          "very",
          "stand",
          "name",
          "find",
          "part",
          "young",
          "made",
          "life",
          "die",
          "both",
          "madam",
          "watch",
          "therefore",
          "away",
          "call",
          "sampson",
          "till",
          "hear",
          "cell",
          "capulet’s",
          "men",
          "father",
          "face",
          "ere",
          "marry",
          "think",
          "holy",
          "bid",
          "lie",
          "cannot",
          "earth",
          "wife",
          "nay",
          "had",
          "tears",
          "farewell",
          "before",
          "nor",
          "been",
          "two",
          "eye",
          "within",
          "peace"
         ],
         "type": "scatter3d",
         "x": {
          "bdata": "IjtTwfAyKUHgVMXB9MJLwQxKAkHdtMFBimEawM+SQsCj6fDBRQcBQmyHbsHGVt3B4f+KQZtZ3j/s2dLAPjQawQBtC8K345PBux+lP3vDOMFpLw3CRBKWwIbYz0F9h7U/0h15QBYyWcGTYxZBDyX1wGeqcsFldULBVAM8QON56MF/YeM/HXIOwYDxbsG726nBaar1wabx68GUFBDC7jNJwWIi4EC7BNzAtFJiQccIVsG21qpBLZK/wVQW/sHp/apBUVDKwc1ancBxGOfBO/GewJfuyMFr/W/A7ZyaQDEA3cE0JgnAMn0TwRDWJr1TsrFB7AwAQrQvnMHJPEPBc5YBwjqQFkH6hXpBHOPwQObktEFaaL3BmPEJQvkh0MHzupNBIkcIwOVljsH5MKM/QfqAwRg2G8LxzPnBYFE5QCG/C0FzuxDCEF0AQkOOOsBWTS/BgdqBQZ5kpsHbTBZCNeUGwZwSmsExnIpBQhG8wbxG28H/Q/vBUR/6wW5c+MBiTCVBiKgjQd+cOkGXlKdBnelQQfOGEsLMwZa/bkGHvuK0yUCPBM1Bvkigwcp1Z0Ciuq5BkjTcQfwlcEA5HbRA/8PwQV1Ksr/MzADCpOjkwc5BeEEcNiFBPuxJwAdmhMHBWT7BElcGwmtQKEDxl2FBL8dPwWzMez+Aw+Y/GewRQGcp/UEw4iFB2mEJQi5hG8HKGFJBM0MwwWBRp8CubGbArLt2QacLZsHiLflBh0TcQFDpT0HUyNJBJamUwefqw0G5S0dBYqs9wB7xqcF525nBIRuewJ/CKUJ5wOvBy1iJvxfzNEEdN4/BQQCxQLOVD8EELkPB19IpQb5ys8DAHe/A/cLNwM2bTcDaJ4lBHJjjwba1/D+EHrBA5s3pQA78uECzB4HB1jZsQXRNB783i6PBjEmewRq2TEBQYgnBuwmiwUPgDUEzVcVBaY9xQR7bPMG5Ecm+QSV2wf6Um8HU0J7BMsDNPzrUQcHs2FdBhWwCwjHqLUCe5W/B63LbwXt93MFxQ9ZB4AeywYunA0KqZvRBcQ7uQfItqkE1MApCbOQIQFxGz8A=",
          "dtype": "f4"
         },
         "y": {
          "bdata": "9XNlQSZ1R0GI+AvCAHbpQXkDP8CFp6RBOdQHQqhS3cFAT2lBvWcWQSn3O0GCZD8/d+7gwXq8m78DpovBCAEQQlbG/sDNdc3ADoIjwI67u8FOncVAYHqXv7wRBEKVk67B5oeIwe6W60EW2vtB5Bk5wAiW6MDqDN6/OYJRQdzekkHsO2FAoiKjQZXfFsJ8tDdBgzmUQbf01UDCz7LBAu2UP0y9v8EATbdB2qcFwS1gS8DpAZBB8tJ3wadCgcEVHs1B+I+UPqqpvcGMyo/As/7VQOMvz8FlBJVBhdYBQaGxuEEt8YVAXnaMwTzGCsHZqqDAqVaGwRhSpkGFM5BBA5DZwFxiBcGzI6vB3K7jwcTuqsCpLQXC9Yo7QSYn50FekZrBVtzXwXceZsGWMRxCjzKqwQQtyj+TOKLBaArzwL65T0H0Pn3AOBRhwfAbEEIp587BqHbuwSdD1sF7Lc3AIgAIwkv2ocGwK7zBmaTjQDOZncFkPnVBwgU+QAmXw0Gg76DBJkn2wdLiuEHXhFDBMNz8QRzRMEE8BrFAGCM3QXSwZMGVS0rBNJ2+wOuK0kGmVfJBFVqKQaxwhkF7cJLBiY8CwWhFBcIYx+dAbTAYwfoNAMFh4ezBC7hfwT5zCsJxYxhBR4C5wXWbicGAMkFBi9soQUKvE0EQohjBXvbIwdM6WEE7rl5A7P1PwTTgF8BodE5A8EtDQdJS+j/R7XDBZf8iQgEGu0ESLtlBXDsLwlQcGELcBqtBUvGUP2QgAsD4OBHClqyowUAXk0FMEopBLZ9QQZB5GsHBZ1rBShUNwepxTsHg4qpB+nGXv5krGkIFwq9AQIl2QTTsmkAwCXLBEt/0wCWqqkEYthdCzE6EQJcJVkFGNhdCHeFxwO/ok0FlumDB6nAAvAZUgr/yf/9BLLoBQVwnVUCj5wnCeE8VQSujlsETX3jBPSCEQcyUxD+zM3FBP15FwTFiusFL8evBBu2IwaNigMHxe/s+SIOQwbbJrUGU7S9AtPqDwJoEycFiIwVCw8hkwFImCMD1Dgw/tfykwVU2B0Ee2LlBG4yMQY6tqUE=",
          "dtype": "f4"
         },
         "z": {
          "bdata": "0dLaQIqEgECjRKy/CFc6we/Y2kAoqBNBGm1EQYYePsBX5JdBO/vjQHrxCkLjupjB3f+cwSWN+cEYKhzBU1DtwFcMA0CUcLc/ydmcQYjidsHfolDB2OcIQkwiYUEzaurAI9ExQccdPkFFMNFBAB0aQkXyKMKNoFVAUWcaQhNNocGmaBfC22AMQRo3nMDYsg1CveEQwYevUT6i6lfB4KIcQoDG+EG3057BPTYIwt0Vn8By/MbBNb7sQUfAlcGPEaFBZvaJQcxjmsFKN17AJ9olQi2OYEFozxXCSes2Qlgk4j5nqDFCS6oVQqpqFcKQRtxAV8kFwWfhGcHjCRlCsLW7QcPYBEJol9vB5+YqQet618GJqYbBaIhGwVSePEHO8vg/ekiGQXWeub9MyJ3AVJMEQWFnKsD2GYFBsEMmQv7pGcKb3pPBOxSlQWDKdsEapVNBc8EowWoSLkBkHvnA+5g1wTPzt8GRDQZCEgUvQcLIq7+Bxh9BlkwBwv7Z/kG7MYZBl0v+wQ5A5kGwXKnB+2GYwcUlmUCfRwbA85IHQtcCLMJrbYq/Y0sGwqx/zMEkE6RADY2ZwQmpocEmr/XByYWuwYRvq8FAfNjBchiPwR0nNEA9j1m/IV5bQYgZu0CKphtCWAQJQZWTlcHXOQVClSx6QcELJ0IiyZrBjwjMwd2oh0HKqhJC0IEcQfpuuUFvJyNChBHSwaBXCsI+nQHCgm8EQXfr38EPX5rBezaZwd8PH8AzkyPBrC6BwaX9tEGxxffA1CkcwtwsgkFR+PbBz0cFQajeA0BPT/hAm/BiwLASzsFX9ZLB37UgQne8FUHt/B1BaOWeQeBJiECO5TDCIaKMQdYz2cE2m0nBLjrtQXmPM8Fgr75AD2MYwstr7cFZ7JhBSZgKQiRXOcLJDxrARmr+wbLh9EF1PMXBQiOvwcn47kFNJTFCYJYDwgLOyUFLgf4+QhvDwSvLDsLsacPByHK7QWGvBMJqeUbBbTy5wHDn2z4zMANCBOooQc+5DcHwq9rAm6HEQVc6mEGHgfHBA7SOwfgk1cFsBBrB1cm5QcwzScE=",
          "dtype": "f4"
         }
        }
       ],
       "layout": {
        "legend": {
         "tracegroupgap": 0
        },
        "margin": {
         "t": 60
        },
        "scene": {
         "domain": {
          "x": [
           0,
           1
          ],
          "y": [
           0,
           1
          ]
         },
         "xaxis": {
          "title": {
           "text": "x"
          }
         },
         "yaxis": {
          "title": {
           "text": "y"
          }
         },
         "zaxis": {
          "title": {
           "text": "z"
          }
         }
        },
        "template": {
         "data": {
          "bar": [
           {
            "error_x": {
             "color": "#2a3f5f"
            },
            "error_y": {
             "color": "#2a3f5f"
            },
            "marker": {
             "line": {
              "color": "#E5ECF6",
              "width": 0.5
             },
             "pattern": {
              "fillmode": "overlay",
              "size": 10,
              "solidity": 0.2
             }
            },
            "type": "bar"
           }
          ],
          "barpolar": [
           {
            "marker": {
             "line": {
              "color": "#E5ECF6",
              "width": 0.5
             },
             "pattern": {
              "fillmode": "overlay",
              "size": 10,
              "solidity": 0.2
             }
            },
            "type": "barpolar"
           }
          ],
          "carpet": [
           {
            "aaxis": {
             "endlinecolor": "#2a3f5f",
             "gridcolor": "white",
             "linecolor": "white",
             "minorgridcolor": "white",
             "startlinecolor": "#2a3f5f"
            },
            "baxis": {
             "endlinecolor": "#2a3f5f",
             "gridcolor": "white",
             "linecolor": "white",
             "minorgridcolor": "white",
             "startlinecolor": "#2a3f5f"
            },
            "type": "carpet"
           }
          ],
          "choropleth": [
           {
            "colorbar": {
             "outlinewidth": 0,
             "ticks": ""
            },
            "type": "choropleth"
           }
          ],
          "contour": [
           {
            "colorbar": {
             "outlinewidth": 0,
             "ticks": ""
            },
            "colorscale": [
             [
              0,
              "#0d0887"
             ],
             [
              0.1111111111111111,
              "#46039f"
             ],
             [
              0.2222222222222222,
              "#7201a8"
             ],
             [
              0.3333333333333333,
              "#9c179e"
             ],
             [
              0.4444444444444444,
              "#bd3786"
             ],
             [
              0.5555555555555556,
              "#d8576b"
             ],
             [
              0.6666666666666666,
              "#ed7953"
             ],
             [
              0.7777777777777778,
              "#fb9f3a"
             ],
             [
              0.8888888888888888,
              "#fdca26"
             ],
             [
              1,
              "#f0f921"
             ]
            ],
            "type": "contour"
           }
          ],
          "contourcarpet": [
           {
            "colorbar": {
             "outlinewidth": 0,
             "ticks": ""
            },
            "type": "contourcarpet"
           }
          ],
          "heatmap": [
           {
            "colorbar": {
             "outlinewidth": 0,
             "ticks": ""
            },
            "colorscale": [
             [
              0,
              "#0d0887"
             ],
             [
              0.1111111111111111,
              "#46039f"
             ],
             [
              0.2222222222222222,
              "#7201a8"
             ],
             [
              0.3333333333333333,
              "#9c179e"
             ],
             [
              0.4444444444444444,
              "#bd3786"
             ],
             [
              0.5555555555555556,
              "#d8576b"
             ],
             [
              0.6666666666666666,
              "#ed7953"
             ],
             [
              0.7777777777777778,
              "#fb9f3a"
             ],
             [
              0.8888888888888888,
              "#fdca26"
             ],
             [
              1,
              "#f0f921"
             ]
            ],
            "type": "heatmap"
           }
          ],
          "histogram": [
           {
            "marker": {
             "pattern": {
              "fillmode": "overlay",
              "size": 10,
              "solidity": 0.2
             }
            },
            "type": "histogram"
           }
          ],
          "histogram2d": [
           {
            "colorbar": {
             "outlinewidth": 0,
             "ticks": ""
            },
            "colorscale": [
             [
              0,
              "#0d0887"
             ],
             [
              0.1111111111111111,
              "#46039f"
             ],
             [
              0.2222222222222222,
              "#7201a8"
             ],
             [
              0.3333333333333333,
              "#9c179e"
             ],
             [
              0.4444444444444444,
              "#bd3786"
             ],
             [
              0.5555555555555556,
              "#d8576b"
             ],
             [
              0.6666666666666666,
              "#ed7953"
             ],
             [
              0.7777777777777778,
              "#fb9f3a"
             ],
             [
              0.8888888888888888,
              "#fdca26"
             ],
             [
              1,
              "#f0f921"
             ]
            ],
            "type": "histogram2d"
           }
          ],
          "histogram2dcontour": [
           {
            "colorbar": {
             "outlinewidth": 0,
             "ticks": ""
            },
            "colorscale": [
             [
              0,
              "#0d0887"
             ],
             [
              0.1111111111111111,
              "#46039f"
             ],
             [
              0.2222222222222222,
              "#7201a8"
             ],
             [
              0.3333333333333333,
              "#9c179e"
             ],
             [
              0.4444444444444444,
              "#bd3786"
             ],
             [
              0.5555555555555556,
              "#d8576b"
             ],
             [
              0.6666666666666666,
              "#ed7953"
             ],
             [
              0.7777777777777778,
              "#fb9f3a"
             ],
             [
              0.8888888888888888,
              "#fdca26"
             ],
             [
              1,
              "#f0f921"
             ]
            ],
            "type": "histogram2dcontour"
           }
          ],
          "mesh3d": [
           {
            "colorbar": {
             "outlinewidth": 0,
             "ticks": ""
            },
            "type": "mesh3d"
           }
          ],
          "parcoords": [
           {
            "line": {
             "colorbar": {
              "outlinewidth": 0,
              "ticks": ""
             }
            },
            "type": "parcoords"
           }
          ],
          "pie": [
           {
            "automargin": true,
            "type": "pie"
           }
          ],
          "scatter": [
           {
            "fillpattern": {
             "fillmode": "overlay",
             "size": 10,
             "solidity": 0.2
            },
            "type": "scatter"
           }
          ],
          "scatter3d": [
           {
            "line": {
             "colorbar": {
              "outlinewidth": 0,
              "ticks": ""
             }
            },
            "marker": {
             "colorbar": {
              "outlinewidth": 0,
              "ticks": ""
             }
            },
            "type": "scatter3d"
           }
          ],
          "scattercarpet": [
           {
            "marker": {
             "colorbar": {
              "outlinewidth": 0,
              "ticks": ""
             }
            },
            "type": "scattercarpet"
           }
          ],
          "scattergeo": [
           {
            "marker": {
             "colorbar": {
              "outlinewidth": 0,
              "ticks": ""
             }
            },
            "type": "scattergeo"
           }
          ],
          "scattergl": [
           {
            "marker": {
             "colorbar": {
              "outlinewidth": 0,
              "ticks": ""
             }
            },
            "type": "scattergl"
           }
          ],
          "scattermap": [
           {
            "marker": {
             "colorbar": {
              "outlinewidth": 0,
              "ticks": ""
             }
            },
            "type": "scattermap"
           }
          ],
          "scattermapbox": [
           {
            "marker": {
             "colorbar": {
              "outlinewidth": 0,
              "ticks": ""
             }
            },
            "type": "scattermapbox"
           }
          ],
          "scatterpolar": [
           {
            "marker": {
             "colorbar": {
              "outlinewidth": 0,
              "ticks": ""
             }
            },
            "type": "scatterpolar"
           }
          ],
          "scatterpolargl": [
           {
            "marker": {
             "colorbar": {
              "outlinewidth": 0,
              "ticks": ""
             }
            },
            "type": "scatterpolargl"
           }
          ],
          "scatterternary": [
           {
            "marker": {
             "colorbar": {
              "outlinewidth": 0,
              "ticks": ""
             }
            },
            "type": "scatterternary"
           }
          ],
          "surface": [
           {
            "colorbar": {
             "outlinewidth": 0,
             "ticks": ""
            },
            "colorscale": [
             [
              0,
              "#0d0887"
             ],
             [
              0.1111111111111111,
              "#46039f"
             ],
             [
              0.2222222222222222,
              "#7201a8"
             ],
             [
              0.3333333333333333,
              "#9c179e"
             ],
             [
              0.4444444444444444,
              "#bd3786"
             ],
             [
              0.5555555555555556,
              "#d8576b"
             ],
             [
              0.6666666666666666,
              "#ed7953"
             ],
             [
              0.7777777777777778,
              "#fb9f3a"
             ],
             [
              0.8888888888888888,
              "#fdca26"
             ],
             [
              1,
              "#f0f921"
             ]
            ],
            "type": "surface"
           }
          ],
          "table": [
           {
            "cells": {
             "fill": {
              "color": "#EBF0F8"
             },
             "line": {
              "color": "white"
             }
            },
            "header": {
             "fill": {
              "color": "#C8D4E3"
             },
             "line": {
              "color": "white"
             }
            },
            "type": "table"
           }
          ]
         },
         "layout": {
          "annotationdefaults": {
           "arrowcolor": "#2a3f5f",
           "arrowhead": 0,
           "arrowwidth": 1
          },
          "autotypenumbers": "strict",
          "coloraxis": {
           "colorbar": {
            "outlinewidth": 0,
            "ticks": ""
           }
          },
          "colorscale": {
           "diverging": [
            [
             0,
             "#8e0152"
            ],
            [
             0.1,
             "#c51b7d"
            ],
            [
             0.2,
             "#de77ae"
            ],
            [
             0.3,
             "#f1b6da"
            ],
            [
             0.4,
             "#fde0ef"
            ],
            [
             0.5,
             "#f7f7f7"
            ],
            [
             0.6,
             "#e6f5d0"
            ],
            [
             0.7,
             "#b8e186"
            ],
            [
             0.8,
             "#7fbc41"
            ],
            [
             0.9,
             "#4d9221"
            ],
            [
             1,
             "#276419"
            ]
           ],
           "sequential": [
            [
             0,
             "#0d0887"
            ],
            [
             0.1111111111111111,
             "#46039f"
            ],
            [
             0.2222222222222222,
             "#7201a8"
            ],
            [
             0.3333333333333333,
             "#9c179e"
            ],
            [
             0.4444444444444444,
             "#bd3786"
            ],
            [
             0.5555555555555556,
             "#d8576b"
            ],
            [
             0.6666666666666666,
             "#ed7953"
            ],
            [
             0.7777777777777778,
             "#fb9f3a"
            ],
            [
             0.8888888888888888,
             "#fdca26"
            ],
            [
             1,
             "#f0f921"
            ]
           ],
           "sequentialminus": [
            [
             0,
             "#0d0887"
            ],
            [
             0.1111111111111111,
             "#46039f"
            ],
            [
             0.2222222222222222,
             "#7201a8"
            ],
            [
             0.3333333333333333,
             "#9c179e"
            ],
            [
             0.4444444444444444,
             "#bd3786"
            ],
            [
             0.5555555555555556,
             "#d8576b"
            ],
            [
             0.6666666666666666,
             "#ed7953"
            ],
            [
             0.7777777777777778,
             "#fb9f3a"
            ],
            [
             0.8888888888888888,
             "#fdca26"
            ],
            [
             1,
             "#f0f921"
            ]
           ]
          },
          "colorway": [
           "#636efa",
           "#EF553B",
           "#00cc96",
           "#ab63fa",
           "#FFA15A",
           "#19d3f3",
           "#FF6692",
           "#B6E880",
           "#FF97FF",
           "#FECB52"
          ],
          "font": {
           "color": "#2a3f5f"
          },
          "geo": {
           "bgcolor": "white",
           "lakecolor": "white",
           "landcolor": "#E5ECF6",
           "showlakes": true,
           "showland": true,
           "subunitcolor": "white"
          },
          "hoverlabel": {
           "align": "left"
          },
          "hovermode": "closest",
          "mapbox": {
           "style": "light"
          },
          "paper_bgcolor": "white",
          "plot_bgcolor": "#E5ECF6",
          "polar": {
           "angularaxis": {
            "gridcolor": "white",
            "linecolor": "white",
            "ticks": ""
           },
           "bgcolor": "#E5ECF6",
           "radialaxis": {
            "gridcolor": "white",
            "linecolor": "white",
            "ticks": ""
           }
          },
          "scene": {
           "xaxis": {
            "backgroundcolor": "#E5ECF6",
            "gridcolor": "white",
            "gridwidth": 2,
            "linecolor": "white",
            "showbackground": true,
            "ticks": "",
            "zerolinecolor": "white"
           },
           "yaxis": {
            "backgroundcolor": "#E5ECF6",
            "gridcolor": "white",
            "gridwidth": 2,
            "linecolor": "white",
            "showbackground": true,
            "ticks": "",
            "zerolinecolor": "white"
           },
           "zaxis": {
            "backgroundcolor": "#E5ECF6",
            "gridcolor": "white",
            "gridwidth": 2,
            "linecolor": "white",
            "showbackground": true,
            "ticks": "",
            "zerolinecolor": "white"
           }
          },
          "shapedefaults": {
           "line": {
            "color": "#2a3f5f"
           }
          },
          "ternary": {
           "aaxis": {
            "gridcolor": "white",
            "linecolor": "white",
            "ticks": ""
           },
           "baxis": {
            "gridcolor": "white",
            "linecolor": "white",
            "ticks": ""
           },
           "bgcolor": "#E5ECF6",
           "caxis": {
            "gridcolor": "white",
            "linecolor": "white",
            "ticks": ""
           }
          },
          "title": {
           "x": 0.05
          },
          "xaxis": {
           "automargin": true,
           "gridcolor": "white",
           "linecolor": "white",
           "ticks": "",
           "title": {
            "standoff": 15
           },
           "zerolinecolor": "white",
           "zerolinewidth": 2
          },
          "yaxis": {
           "automargin": true,
           "gridcolor": "white",
           "linecolor": "white",
           "ticks": "",
           "title": {
            "standoff": 15
           },
           "zerolinecolor": "white",
           "zerolinewidth": 2
          }
         }
        }
       }
      }
     },
     "metadata": {},
     "output_type": "display_data"
    }
   ],
   "source": [
    "# Graficar los embedddings en 3D\n",
    "\n",
    "vecs, labels = reduce_dimensions(w2v_model,3)\n",
    "\n",
    "fig = px.scatter_3d(x=vecs[:MAX_WORDS,0], y=vecs[:MAX_WORDS,1], z=vecs[:MAX_WORDS,2],text=labels[:MAX_WORDS])\n",
    "fig.update_traces(marker_size = 2)\n",
    "fig.show() "
   ]
  },
  {
   "cell_type": "markdown",
   "id": "aae5b65d",
   "metadata": {},
   "source": [
    "En el gráfico 3D se aprecian relaciones similares a las del gráfico 2D, como por ejemplo entre **face**, **eyes** y **tears**. Sin embargo, al estar en tres dimensiones, resulta un poco más difícil interpretar visualmente la cercanía entre tokens.\n",
    "\n",
    "Es importante tener en cuenta que tanto en el gráfico 2D como en el 3D se están proyectando los vectores en un espacio de dimensión mucho menor que la original (400), por lo que las distancias mostradas no siempre reflejan con fidelidad las relaciones del modelo de embeddings."
   ]
  }
 ],
 "metadata": {
  "kernelspec": {
   "display_name": "base",
   "language": "python",
   "name": "python3"
  },
  "language_info": {
   "codemirror_mode": {
    "name": "ipython",
    "version": 3
   },
   "file_extension": ".py",
   "mimetype": "text/x-python",
   "name": "python",
   "nbconvert_exporter": "python",
   "pygments_lexer": "ipython3",
   "version": "3.12.3"
  }
 },
 "nbformat": 4,
 "nbformat_minor": 5
}
