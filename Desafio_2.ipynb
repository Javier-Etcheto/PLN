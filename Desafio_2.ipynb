{
 "cells": [
  {
   "cell_type": "markdown",
   "id": "46b9204d",
   "metadata": {},
   "source": [
    "# Desafío 2\n",
    "\n",
    "Importo bibliotecas y leo el dataset. En este caso, trabajo con el dataset da la obra de Romeo y Julieta, descargada como texto plano de *The Project Gutenberg eBook*. "
   ]
  },
  {
   "cell_type": "code",
   "execution_count": 70,
   "id": "8379b367",
   "metadata": {},
   "outputs": [],
   "source": [
    "import pandas as pd\n",
    "import matplotlib.pyplot as plt\n",
    "import seaborn as sns\n",
    "\n",
    "import multiprocessing\n",
    "from gensim.models import Word2Vec"
   ]
  },
  {
   "cell_type": "code",
   "execution_count": 71,
   "id": "75309bbc",
   "metadata": {},
   "outputs": [
    {
     "name": "stderr",
     "output_type": "stream",
     "text": [
      "C:\\Users\\javier\\AppData\\Local\\Temp\\ipykernel_22352\\2801571640.py:2: ParserWarning: Falling back to the 'python' engine because the 'c' engine does not support regex separators (separators > 1 char and different from '\\s+' are interpreted as regex); you can avoid this warning by specifying engine='python'.\n",
      "  df_original = pd.read_csv('Romeo_and_Juliet.txt', sep='/n', header=None)\n"
     ]
    },
    {
     "data": {
      "text/html": [
       "<div>\n",
       "<style scoped>\n",
       "    .dataframe tbody tr th:only-of-type {\n",
       "        vertical-align: middle;\n",
       "    }\n",
       "\n",
       "    .dataframe tbody tr th {\n",
       "        vertical-align: top;\n",
       "    }\n",
       "\n",
       "    .dataframe thead th {\n",
       "        text-align: right;\n",
       "    }\n",
       "</style>\n",
       "<table border=\"1\" class=\"dataframe\">\n",
       "  <thead>\n",
       "    <tr style=\"text-align: right;\">\n",
       "      <th></th>\n",
       "      <th>0</th>\n",
       "    </tr>\n",
       "  </thead>\n",
       "  <tbody>\n",
       "    <tr>\n",
       "      <th>0</th>\n",
       "      <td>The Project Gutenberg eBook of Romeo and Juliet</td>\n",
       "    </tr>\n",
       "    <tr>\n",
       "      <th>1</th>\n",
       "      <td>This ebook is for the use of anyone anywhere i...</td>\n",
       "    </tr>\n",
       "    <tr>\n",
       "      <th>2</th>\n",
       "      <td>most other parts of the world at no cost and w...</td>\n",
       "    </tr>\n",
       "    <tr>\n",
       "      <th>3</th>\n",
       "      <td>whatsoever. You may copy it, give it away or r...</td>\n",
       "    </tr>\n",
       "    <tr>\n",
       "      <th>4</th>\n",
       "      <td>of the Project Gutenberg License included with...</td>\n",
       "    </tr>\n",
       "  </tbody>\n",
       "</table>\n",
       "</div>"
      ],
      "text/plain": [
       "                                                   0\n",
       "0    The Project Gutenberg eBook of Romeo and Juliet\n",
       "1  This ebook is for the use of anyone anywhere i...\n",
       "2  most other parts of the world at no cost and w...\n",
       "3  whatsoever. You may copy it, give it away or r...\n",
       "4  of the Project Gutenberg License included with..."
      ]
     },
     "execution_count": 71,
     "metadata": {},
     "output_type": "execute_result"
    }
   ],
   "source": [
    "# Armar el dataset utilizando salto de línea para separar las oraciones/docs\n",
    "df_original = pd.read_csv('Romeo_and_Juliet.txt', sep='/n', header=None)\n",
    "df_original.head()"
   ]
  },
  {
   "cell_type": "code",
   "execution_count": 72,
   "id": "b93dc29d",
   "metadata": {},
   "outputs": [
    {
     "data": {
      "text/html": [
       "<div>\n",
       "<style scoped>\n",
       "    .dataframe tbody tr th:only-of-type {\n",
       "        vertical-align: middle;\n",
       "    }\n",
       "\n",
       "    .dataframe tbody tr th {\n",
       "        vertical-align: top;\n",
       "    }\n",
       "\n",
       "    .dataframe thead th {\n",
       "        text-align: right;\n",
       "    }\n",
       "</style>\n",
       "<table border=\"1\" class=\"dataframe\">\n",
       "  <thead>\n",
       "    <tr style=\"text-align: right;\">\n",
       "      <th></th>\n",
       "      <th>0</th>\n",
       "    </tr>\n",
       "  </thead>\n",
       "  <tbody>\n",
       "    <tr>\n",
       "      <th>0</th>\n",
       "      <td>THE TRAGEDY OF ROMEO AND JULIET</td>\n",
       "    </tr>\n",
       "    <tr>\n",
       "      <th>1</th>\n",
       "      <td>by William Shakespeare</td>\n",
       "    </tr>\n",
       "    <tr>\n",
       "      <th>2</th>\n",
       "      <td>Contents</td>\n",
       "    </tr>\n",
       "    <tr>\n",
       "      <th>3</th>\n",
       "      <td>THE PROLOGUE.</td>\n",
       "    </tr>\n",
       "    <tr>\n",
       "      <th>4</th>\n",
       "      <td>ACT I</td>\n",
       "    </tr>\n",
       "  </tbody>\n",
       "</table>\n",
       "</div>"
      ],
      "text/plain": [
       "                                 0\n",
       "0  THE TRAGEDY OF ROMEO AND JULIET\n",
       "1           by William Shakespeare\n",
       "2                         Contents\n",
       "3                    THE PROLOGUE.\n",
       "4                            ACT I"
      ]
     },
     "execution_count": 72,
     "metadata": {},
     "output_type": "execute_result"
    }
   ],
   "source": [
    "# Limpio la obra (saco parte del texto que no es relevante en el analisis)\n",
    "# Busco el inicio y el final de la obra\n",
    "start_idx = df_original[df_original[0].str.contains(r'\\*\\*\\* START OF', na=False)].index[0]\n",
    "end_idx = df_original[df_original[0].str.contains(r'\\*\\*\\* END OF', na=False)].index[0]\n",
    "\n",
    "df = df_original.iloc[start_idx + 1:end_idx].reset_index(drop=True)\n",
    "df.head()"
   ]
  },
  {
   "cell_type": "code",
   "execution_count": null,
   "id": "e0a8c8af",
   "metadata": {},
   "outputs": [
    {
     "name": "stdout",
     "output_type": "stream",
     "text": [
      "Cantidad de documentos: 4137\n"
     ]
    }
   ],
   "source": [
    "# Imprimo cantidad de documentos dentro del corpus\n",
    "print(\"Cantidad de documentos:\", df.shape[0])"
   ]
  },
  {
   "cell_type": "code",
   "execution_count": 74,
   "id": "71de36e4",
   "metadata": {},
   "outputs": [],
   "source": [
    "#!pip install --upgrade tensorflow\n",
    "from tensorflow.keras.preprocessing.text import text_to_word_sequence\n",
    "\n",
    "sentence_tokens = []\n",
    "# Recorrer todas las filas y transformar las oraciones\n",
    "# en una secuencia de palabras (esto podría realizarse con NLTK o spaCy también)\n",
    "for _, row in df[:None].iterrows():\n",
    "    sentence_tokens.append(text_to_word_sequence(row[0]))"
   ]
  },
  {
   "cell_type": "code",
   "execution_count": 75,
   "id": "48451f4c",
   "metadata": {},
   "outputs": [
    {
     "data": {
      "text/plain": [
       "[['the', 'tragedy', 'of', 'romeo', 'and', 'juliet'],\n",
       " ['by', 'william', 'shakespeare']]"
      ]
     },
     "execution_count": 75,
     "metadata": {},
     "output_type": "execute_result"
    }
   ],
   "source": [
    "# Demos un vistazo\n",
    "sentence_tokens[:2]"
   ]
  },
  {
   "cell_type": "markdown",
   "id": "00a0f772",
   "metadata": {},
   "source": [
    "Defino la clase *callback* vista en la teoría y le agrego el atributo `losses` para graficar la pérdida en función de las épocas de entrenamiento."
   ]
  },
  {
   "cell_type": "code",
   "execution_count": 76,
   "id": "efba1456",
   "metadata": {},
   "outputs": [],
   "source": [
    "from gensim.models.callbacks import CallbackAny2Vec\n",
    "# Durante el entrenamiento gensim por defecto no informa el \"loss\" en cada época\n",
    "# Sobrecargamos el callback para poder tener esta información\n",
    "class callback(CallbackAny2Vec):\n",
    "    \"\"\"\n",
    "    Callback to print loss after each epoch\n",
    "    \"\"\"\n",
    "    def __init__(self):\n",
    "        self.epoch = 0\n",
    "        self.losses = []\n",
    "\n",
    "    def on_epoch_end(self, model):\n",
    "        loss = model.get_latest_training_loss()\n",
    "        if self.epoch == 0:\n",
    "            print('Loss after epoch {}: {}'.format(self.epoch, loss))\n",
    "            self.losses.append(loss)\n",
    "        else:\n",
    "            print('Loss after epoch {}: {}'.format(self.epoch, loss- self.loss_previous_step))\n",
    "            self.losses.append(loss - sum(self.losses))\n",
    "        self.epoch += 1\n",
    "        self.loss_previous_step = loss"
   ]
  },
  {
   "cell_type": "code",
   "execution_count": 77,
   "id": "a090f89a",
   "metadata": {},
   "outputs": [],
   "source": [
    "# Crearmos el modelo generador de vectores\n",
    "# En este caso utilizaremos la estructura modelo Skipgram\n",
    "w2v_model = Word2Vec(min_count=5,           # frecuencia mínima de palabra para incluirla en el vocabulario\n",
    "                     window=2,              # cant de palabras antes y desp de la predicha\n",
    "                     vector_size=400,       # dimensionalidad de los vectores \n",
    "                     negative=20,           # cantidad de negative samples... 0 es no se usa\n",
    "                     workers=4,             # si tienen más cores pueden cambiar este valor\n",
    "                     sg=1)                  # modelo 0:CBOW  1:skipgram"
   ]
  },
  {
   "cell_type": "code",
   "execution_count": 78,
   "id": "a119d4a2",
   "metadata": {},
   "outputs": [],
   "source": [
    "# Obtener el vocabulario con los tokens\n",
    "w2v_model.build_vocab(sentence_tokens)"
   ]
  },
  {
   "cell_type": "code",
   "execution_count": 79,
   "id": "38b05d0a",
   "metadata": {},
   "outputs": [
    {
     "name": "stdout",
     "output_type": "stream",
     "text": [
      "Cantidad de docs en el corpus: 4137\n"
     ]
    }
   ],
   "source": [
    "# Cantidad de filas/docs encontradas en el corpus\n",
    "print(\"Cantidad de docs en el corpus:\", w2v_model.corpus_count)"
   ]
  },
  {
   "cell_type": "code",
   "execution_count": 80,
   "id": "4503c69c",
   "metadata": {},
   "outputs": [
    {
     "name": "stdout",
     "output_type": "stream",
     "text": [
      "Cantidad de words distintas en el corpus: 698\n"
     ]
    }
   ],
   "source": [
    "# Cantidad de words encontradas en el corpus\n",
    "print(\"Cantidad de words distintas en el corpus:\", len(w2v_model.wv.index_to_key))"
   ]
  },
  {
   "cell_type": "code",
   "execution_count": 81,
   "id": "1b01927e",
   "metadata": {},
   "outputs": [
    {
     "name": "stdout",
     "output_type": "stream",
     "text": [
      "Loss after epoch 0: 77279.1953125\n",
      "Loss after epoch 1: 46677.78125\n",
      "Loss after epoch 2: 45308.4296875\n",
      "Loss after epoch 3: 46822.234375\n",
      "Loss after epoch 4: 45600.03125\n",
      "Loss after epoch 5: 46166.078125\n",
      "Loss after epoch 6: 46618.28125\n",
      "Loss after epoch 7: 46026.5625\n",
      "Loss after epoch 8: 45324.34375\n",
      "Loss after epoch 9: 44865.5\n",
      "Loss after epoch 10: 45073.8125\n",
      "Loss after epoch 11: 45252.75\n",
      "Loss after epoch 12: 44187.5625\n",
      "Loss after epoch 13: 43550.375\n",
      "Loss after epoch 14: 43503.125\n",
      "Loss after epoch 15: 42478.875\n",
      "Loss after epoch 16: 42745.0\n",
      "Loss after epoch 17: 42182.9375\n",
      "Loss after epoch 18: 41852.5625\n",
      "Loss after epoch 19: 40775.125\n",
      "Loss after epoch 20: 41475.0\n",
      "Loss after epoch 21: 40862.75\n",
      "Loss after epoch 22: 40453.125\n",
      "Loss after epoch 23: 36774.0625\n",
      "Loss after epoch 24: 36548.75\n",
      "Loss after epoch 25: 36034.25\n",
      "Loss after epoch 26: 36503.25\n",
      "Loss after epoch 27: 36109.875\n",
      "Loss after epoch 28: 35660.875\n",
      "Loss after epoch 29: 35135.5\n",
      "Loss after epoch 30: 35600.375\n",
      "Loss after epoch 31: 35265.0\n",
      "Loss after epoch 32: 34996.5\n",
      "Loss after epoch 33: 34947.75\n",
      "Loss after epoch 34: 34629.625\n",
      "Loss after epoch 35: 34750.75\n",
      "Loss after epoch 36: 34951.125\n",
      "Loss after epoch 37: 34036.375\n",
      "Loss after epoch 38: 34625.75\n",
      "Loss after epoch 39: 33952.125\n"
     ]
    },
    {
     "data": {
      "image/png": "[encoded data removed]",
      "text/plain": [
       "<Figure size 640x480 with 1 Axes>"
      ]
     },
     "metadata": {},
     "output_type": "display_data"
    }
   ],
   "source": [
    "# Entrenamos el modelo generador de vectores\n",
    "# Utilizamos nuestro callback\n",
    "\n",
    "loss_logger = callback()\n",
    "\n",
    "w2v_model.train(sentence_tokens,\n",
    "                 total_examples=w2v_model.corpus_count,\n",
    "                 epochs=40,\n",
    "                 compute_loss = True,\n",
    "                 callbacks=[loss_logger]\n",
    "                 )\n",
    "\n",
    "\n",
    "plt.plot(loss_logger.losses)\n",
    "plt.title(\"Training Loss per Epoch\")\n",
    "plt.xlabel(\"Epoch\")\n",
    "plt.ylabel(\"Loss\")\n",
    "plt.grid(True)\n",
    "plt.show()"
   ]
  },
  {
   "cell_type": "markdown",
   "id": "9d1b5f9f",
   "metadata": {},
   "source": [
    "Relaciones entre palabras! Pruebo términos de interés como **Romeo** y analizo la relación semántica que tiene con otros términos dentro del corpus y su relación narrativa dentro de la obra."
   ]
  },
  {
   "cell_type": "code",
   "execution_count": 82,
   "id": "0c93f6f5",
   "metadata": {},
   "outputs": [
    {
     "data": {
      "text/plain": [
       "[('mercutio’s', 0.814871072769165),\n",
       " ('prince', 0.8090491890907288),\n",
       " ('slew', 0.7901497483253479),\n",
       " ('anon', 0.7794341444969177),\n",
       " ('mercutio', 0.7718563079833984),\n",
       " ('chorus', 0.7527446150779724),\n",
       " ('tybalt', 0.7407406568527222),\n",
       " ('already', 0.7401363253593445),\n",
       " ('wherefore', 0.7219776511192322),\n",
       " ('wake', 0.7211833596229553)]"
      ]
     },
     "execution_count": 82,
     "metadata": {},
     "output_type": "execute_result"
    }
   ],
   "source": [
    "# Palabras que MÁS se relacionan con...:\n",
    "w2v_model.wv.most_similar(positive=[\"romeo\"], topn=10)"
   ]
  },
  {
   "cell_type": "markdown",
   "id": "46852996",
   "metadata": {},
   "source": [
    "Estas son las 10 palabras (tokens) con más relación de contexto respecto a **Romeo**.  \n",
    "Palabras (tokens) como **mercutio’s** y **prince**, por ejemplo, son las que más veces aparecen cerca de *Romeo* en el texto (corpus).  \n",
    "Un ejemplo de esto es la línea (documento):  \n",
    "\n",
    "> *\"Not Romeo, Prince, he was Mercutio’s friend;\"*  \n",
    "\n",
    "También aparecen otras palabras relacionadas como **slew**, **already**, **anon**, que comparten contexto con Romeo en distintas escenas.  \n",
    "Asimismo, se destacan términos como **chorus**, **noble**, **falls** y **wherefore**, cuya presencia frecuente cerca de *Romeo* sugiere una asociación estadística significativa aprendida por el modelo.\n",
    "\n",
    "Esto refleja cómo el modelo Word2Vec captura asociaciones basadas en coocurrencia dentro del texto de la obra (corpus)."
   ]
  },
  {
   "cell_type": "markdown",
   "id": "91e398c6",
   "metadata": {},
   "source": [
    "Ahora analizo la relación entre **Romeo** y **Julieta**. Es esperable que tengan una alta relación (alta similitud)."
   ]
  },
  {
   "cell_type": "code",
   "execution_count": 83,
   "id": "def5622a",
   "metadata": {},
   "outputs": [
    {
     "data": {
      "text/plain": [
       "0.70573604"
      ]
     },
     "execution_count": 83,
     "metadata": {},
     "output_type": "execute_result"
    }
   ],
   "source": [
    "w2v_model.wv.similarity('romeo', 'juliet')"
   ]
  },
  {
   "cell_type": "markdown",
   "id": "8e50bf35",
   "metadata": {},
   "source": [
    "Tal como puede verse, y era de esperar, la similitud coseno entre estos dos tokens es alta!"
   ]
  },
  {
   "cell_type": "code",
   "execution_count": 84,
   "id": "d7c52b4e",
   "metadata": {},
   "outputs": [
    {
     "data": {
      "text/plain": [
       "[('doth', -0.15292635560035706),\n",
       " ('eyes', -0.1567087322473526),\n",
       " ('an', -0.15943731367588043),\n",
       " ('nor', -0.15961670875549316),\n",
       " ('tears', -0.16108624637126923),\n",
       " ('eye', -0.1682519018650055),\n",
       " ('own', -0.17000427842140198),\n",
       " ('on', -0.18123982846736908),\n",
       " ('no', -0.19714991748332977),\n",
       " ('more', -0.20289234817028046)]"
      ]
     },
     "execution_count": 84,
     "metadata": {},
     "output_type": "execute_result"
    }
   ],
   "source": [
    "# Palabras que MENOS se relacionan con...:\n",
    "w2v_model.wv.most_similar(negative=[\"romeo\"], topn=10)"
   ]
  },
  {
   "cell_type": "markdown",
   "id": "7bf0b0dc",
   "metadata": {},
   "source": [
    "Estas son las 10 palabras que tienen mayor **relación negativa** con el token **romeo**, según el modelo.  \n",
    "Palabras como **tears** y **shall** aparecen en contextos diferentes a los de *Romeo*.  \n",
    "Por ejemplo, **tears** se asocia más con escenas emocionales o con otros personajes."
   ]
  },
  {
   "cell_type": "markdown",
   "id": "d356cc22",
   "metadata": {},
   "source": [
    "Ahora paso a los gráficos."
   ]
  },
  {
   "cell_type": "code",
   "execution_count": 85,
   "id": "b9cd5aa4",
   "metadata": {},
   "outputs": [],
   "source": [
    "from sklearn.decomposition import IncrementalPCA    \n",
    "from sklearn.manifold import TSNE                   \n",
    "import numpy as np                                  \n",
    "\n",
    "def reduce_dimensions(model, num_dimensions = 2 ):\n",
    "     \n",
    "    vectors = np.asarray(model.wv.vectors)\n",
    "    labels = np.asarray(model.wv.index_to_key)  \n",
    "\n",
    "    tsne = TSNE(n_components=num_dimensions, random_state=0)\n",
    "    vectors = tsne.fit_transform(vectors)\n",
    "\n",
    "    return vectors, labels"
   ]
  },
  {
   "cell_type": "code",
   "execution_count": 92,
   "id": "daeba99b",
   "metadata": {},
   "outputs": [
    {
     "data": {
      "application/vnd.plotly.v1+json": {
       "config": {
        "plotlyServerURL": "https://plot.ly"
       },
       "data": [
        {
         "hovertemplate": "x=%{x}<br>y=%{y}<br>text=%{text}<extra></extra>",
         "legendgroup": "",
         "marker": {
          "color": "#636efa",
          "symbol": "circle"
         },
         "mode": "markers+text",
         "name": "",
         "orientation": "v",
         "showlegend": false,
         "text": [
          "and",
          "the",
          "i",
          "to",
          "a",
          "of",
          "my",
          "that",
          "is",
          "in",
          "romeo",
          "you",
          "thou",
          "me",
          "not",
          "with",
          "it",
          "for",
          "this",
          "be",
          "but",
          "juliet",
          "thy",
          "what",
          "as",
          "her",
          "o",
          "nurse",
          "will",
          "so",
          "capulet",
          "love",
          "thee",
          "his",
          "have",
          "he",
          "by",
          "she",
          "shall",
          "lady",
          "friar",
          "your",
          "no",
          "him",
          "all",
          "come",
          "do",
          "from",
          "good",
          "if",
          "then",
          "mercutio",
          "now",
          "on",
          "enter",
          "here",
          "benvolio",
          "go",
          "i’ll",
          "an",
          "death",
          "at",
          "tybalt",
          "night",
          "lawrence",
          "or",
          "man",
          "more",
          "we",
          "are",
          "hath",
          "there",
          "which",
          "well",
          "our",
          "am",
          "one",
          "how",
          "paris",
          "they",
          "sir",
          "some",
          "up",
          "too",
          "art",
          "would",
          "out",
          "when",
          "say",
          "scene",
          "where",
          "should",
          "was",
          "may",
          "dead",
          "give",
          "yet",
          "day",
          "than",
          "their",
          "doth",
          "such",
          "montague",
          "let",
          "fair",
          "tell",
          "them",
          "upon",
          "these",
          "take",
          "make",
          "’tis",
          "must",
          "did",
          "can",
          "like",
          "why",
          "much",
          "were",
          "prince",
          "see",
          "know",
          "first",
          "sweet",
          "exeunt",
          "who",
          "gone",
          "house",
          "exit",
          "time",
          "lord",
          "servant",
          "look",
          "us",
          "ay",
          "heaven",
          "back",
          "mine",
          "wilt",
          "light",
          "eyes",
          "speak",
          "old",
          "hast",
          "hence",
          "comes",
          "again",
          "true",
          "bed",
          "god",
          "word",
          "stay",
          "being",
          "peter",
          "dear",
          "heart",
          "hand",
          "very",
          "stand",
          "name",
          "find",
          "part",
          "young",
          "made",
          "life",
          "die",
          "both",
          "madam",
          "watch",
          "therefore",
          "away",
          "call",
          "sampson",
          "till",
          "hear",
          "cell",
          "capulet’s",
          "men",
          "father",
          "face",
          "ere",
          "marry",
          "think",
          "holy",
          "bid",
          "lie",
          "cannot",
          "earth",
          "wife",
          "nay",
          "had",
          "tears",
          "farewell",
          "before",
          "nor",
          "been",
          "two",
          "eye",
          "within",
          "peace"
         ],
         "type": "scatter",
         "x": {
          "bdata": "TRkRwVpR68DvvNRAxXZtQQKYq8BcjxXBZ05DwcAatUDToHfBLl/0wAYmlMFK1ipB0s7wQAyaSEE+DjZBm8N/QTKvkEC2p6+/W4OOvzo3H0GKY81A+TeiwR85BsGNVQVBvaebwA9wR8G2rBfBA3W2wULJdEF+nXlAcee5wX+QpD/opVpB35nWwMOHrECrigBB+dQLwUntsj6NbhJBgE6rwYN2ncGLxadB5yeKQLjzG0GckhrA63ReQWU+XkG/jMzALBvsP64hK0G5vipBMW6swTmK/L4J7rlByHa3wZihZkBleK3BDW1XQYlBWUElX7DA22hgwAeVBcGEdJPB+q2XwfATn8GRUmZBu1CPwDrVXUAkKT1B3i2kPzlVYcGt/rU+o5+WwTg3pEBc1iXBUAAQv4kxPsCGBzE/MGaiwQYq2UCQpZFBp3WCwXEQlUG5jBbAtHfBQOTW70DgQtc/w0XMQPXQbkFlJJHBTWlEwIKXE0EsQ3vByTsZQRvVQ8Hk4JhBLAemQAwFEcFlVhhAz9PevwPLZ8EY0/y/9q65wbYMa0E3s4HBjeyLQagBh0FkYM/A5/5wwdPtkUHWB4tBkRqgP721oEGgua1AyOQsQfPPhsC4HI5A7396wAWC9UCdLpfBPoujQbZ51UAL/MLB16bbvwpWtMEw6eY+s/oFQRFQQMHSWrPBSPTOvx99pcG60rTB9ImdQUeygkFrJSBBfAjiwCNspUGxjTLA7hANQSDsDMHRoEfAKWljQaB2TcGHaelAtcJeQYCLZcFJUKtB1jSFPyrWUkEw0zpAQmL0v4upcEH4GL/ANMyowaU1WsGZTEjBkr+twD3zrMCmRW1Bw8PmwJq2rkGkOAXBdC6evxQzLMAwLSjBJ39CQWnJtkF0RD9B4buwwa8ugUFeTnxB7XygQbRioMG2JDhB2j8mQZtsmMH57oPBdd1sv3rOosGsMY/AHNB8QbxRMEE4xjNBfWyLwQCQaUFwCTo/Cp4eQYs/5MARk6PBDSDuPmpLDkHebn/AWom5walvocDy9TfAGgtbQERvyEBPOnzAkVNfwc6ql0E=",
          "dtype": "f4"
         },
         "xaxis": "x",
         "y": {
          "bdata": "zq1dwZAXLD+v3k3BYymcQAh248CN8o0+HZgYQZ/2k8ATH4VA6eatwAI0Jr/NbNa/uUkxQYCJDcB3r8jAZtC/QIgUD0AgoBDBoL8wQUIImMDl7U7ADtUywBWxD0HKiJpA/FlQwcTWkUCXz2JBAAmcPvfT78DuE4dAbLQrwGwcDEF/fvi/79QVQXt9LMEFH4rB6GMlQYLvYkF0VeLAUi8RQLqxMcFkK7VA/QTEwIbfXcBUv01AuWkPQT2eBMGRcSxBOYkuwazM4sApUoJB7CUhwFlagEEu+E/A5DiEwJPFYMFjnjzAUNWpQEE6Eb8WpKHAIdo0vusDC8HIgoI8SyBHQaP4DsH591xBEsqAwYTRicG3tlDBTK4vQVsCCkAzQIzBVBUUQRcmk0EiATBA23NVwZ1Y0sCOn4dB59S5wHzmp8AnaTHB+FYvwEwxq0Ao4ULBh4pTQYi+K8HzNmpApnYDwRe4LcFk01zBXDZCQZx1IsHCu6ZA0HsCwRHMj0Gn1W7AQrqWQEH+jEHDcuxA7JLhQGeyyED+z6fAt/MSwJEl0z+7mj5BIq6swIMoiD/vPthA7ihtQVUquD9qJjXAu4ZwwcXFt8B1nURA7CgFwTL0usBANkZBmFk5wZxXPsFj/Lu//oYDwVWkn0A+DMfAI1GLQUxkUsDx9OJA3oMWQfhp4sCzcMDA2/ZUQbDZr0Cni83AWYM0P0M/GkAz85xAg9YAQYr0A0AFyxZBoxtTQR+nnUCgoeZAPCSwwHy+n8C/72BB7Q9CQDSWZUDYmJ4/9t4hPmhQG0Co3ntB0QPdwLj/TkERLt49xPGZwCsOEEG91zFBhXswwf76ikHAuJQ+QsM/wRaR0kCiuXTAcS1twXj+Xj4asj9BNUZxvxiemUAPrh9BIvTVwEWPdb8m7A9BgH+Tv3hOgMBGnklB+xInPrL6KMGg5WfBtrJtQDVUmkDIPQtBJRyYwJPvbkAjSTDBYpcIwTdCVcBH6bBA/ccbwUk0q0B150hAW2wiwc/qUMH7qLdAvRXlP4fMPkEcLApB5QsGwVeWAkFrzIrA4AADQVFX1UA=",
          "dtype": "f4"
         },
         "yaxis": "y"
        }
       ],
       "layout": {
        "legend": {
         "tracegroupgap": 0
        },
        "margin": {
         "t": 60
        },
        "template": {
         "data": {
          "bar": [
           {
            "error_x": {
             "color": "#2a3f5f"
            },
            "error_y": {
             "color": "#2a3f5f"
            },
            "marker": {
             "line": {
              "color": "#E5ECF6",
              "width": 0.5
             },
             "pattern": {
              "fillmode": "overlay",
              "size": 10,
              "solidity": 0.2
             }
            },
            "type": "bar"
           }
          ],
          "barpolar": [
           {
            "marker": {
             "line": {
              "color": "#E5ECF6",
              "width": 0.5
             },
             "pattern": {
              "fillmode": "overlay",
              "size": 10,
              "solidity": 0.2
             }
            },
            "type": "barpolar"
           }
          ],
          "carpet": [
           {
            "aaxis": {
             "endlinecolor": "#2a3f5f",
             "gridcolor": "white",
             "linecolor": "white",
             "minorgridcolor": "white",
             "startlinecolor": "#2a3f5f"
            },
            "baxis": {
             "endlinecolor": "#2a3f5f",
             "gridcolor": "white",
             "linecolor": "white",
             "minorgridcolor": "white",
             "startlinecolor": "#2a3f5f"
            },
            "type": "carpet"
           }
          ],
          "choropleth": [
           {
            "colorbar": {
             "outlinewidth": 0,
             "ticks": ""
            },
            "type": "choropleth"
           }
          ],
          "contour": [
           {
            "colorbar": {
             "outlinewidth": 0,
             "ticks": ""
            },
            "colorscale": [
             [
              0,
              "#0d0887"
             ],
             [
              0.1111111111111111,
              "#46039f"
             ],
             [
              0.2222222222222222,
              "#7201a8"
             ],
             [
              0.3333333333333333,
              "#9c179e"
             ],
             [
              0.4444444444444444,
              "#bd3786"
             ],
             [
              0.5555555555555556,
              "#d8576b"
             ],
             [
              0.6666666666666666,
              "#ed7953"
             ],
             [
              0.7777777777777778,
              "#fb9f3a"
             ],
             [
              0.8888888888888888,
              "#fdca26"
             ],
             [
              1,
              "#f0f921"
             ]
            ],
            "type": "contour"
           }
          ],
          "contourcarpet": [
           {
            "colorbar": {
             "outlinewidth": 0,
             "ticks": ""
            },
            "type": "contourcarpet"
           }
          ],
          "heatmap": [
           {
            "colorbar": {
             "outlinewidth": 0,
             "ticks": ""
            },
            "colorscale": [
             [
              0,
              "#0d0887"
             ],
             [
              0.1111111111111111,
              "#46039f"
             ],
             [
              0.2222222222222222,
              "#7201a8"
             ],
             [
              0.3333333333333333,
              "#9c179e"
             ],
             [
              0.4444444444444444,
              "#bd3786"
             ],
             [
              0.5555555555555556,
              "#d8576b"
             ],
             [
              0.6666666666666666,
              "#ed7953"
             ],
             [
              0.7777777777777778,
              "#fb9f3a"
             ],
             [
              0.8888888888888888,
              "#fdca26"
             ],
             [
              1,
              "#f0f921"
             ]
            ],
            "type": "heatmap"
           }
          ],
          "histogram": [
           {
            "marker": {
             "pattern": {
              "fillmode": "overlay",
              "size": 10,
              "solidity": 0.2
             }
            },
            "type": "histogram"
           }
          ],
          "histogram2d": [
           {
            "colorbar": {
             "outlinewidth": 0,
             "ticks": ""
            },
            "colorscale": [
             [
              0,
              "#0d0887"
             ],
             [
              0.1111111111111111,
              "#46039f"
             ],
             [
              0.2222222222222222,
              "#7201a8"
             ],
             [
              0.3333333333333333,
              "#9c179e"
             ],
             [
              0.4444444444444444,
              "#bd3786"
             ],
             [
              0.5555555555555556,
              "#d8576b"
             ],
             [
              0.6666666666666666,
              "#ed7953"
             ],
             [
              0.7777777777777778,
              "#fb9f3a"
             ],
             [
              0.8888888888888888,
              "#fdca26"
             ],
             [
              1,
              "#f0f921"
             ]
            ],
            "type": "histogram2d"
           }
          ],
          "histogram2dcontour": [
           {
            "colorbar": {
             "outlinewidth": 0,
             "ticks": ""
            },
            "colorscale": [
             [
              0,
              "#0d0887"
             ],
             [
              0.1111111111111111,
              "#46039f"
             ],
             [
              0.2222222222222222,
              "#7201a8"
             ],
             [
              0.3333333333333333,
              "#9c179e"
             ],
             [
              0.4444444444444444,
              "#bd3786"
             ],
             [
              0.5555555555555556,
              "#d8576b"
             ],
             [
              0.6666666666666666,
              "#ed7953"
             ],
             [
              0.7777777777777778,
              "#fb9f3a"
             ],
             [
              0.8888888888888888,
              "#fdca26"
             ],
             [
              1,
              "#f0f921"
             ]
            ],
            "type": "histogram2dcontour"
           }
          ],
          "mesh3d": [
           {
            "colorbar": {
             "outlinewidth": 0,
             "ticks": ""
            },
            "type": "mesh3d"
           }
          ],
          "parcoords": [
           {
            "line": {
             "colorbar": {
              "outlinewidth": 0,
              "ticks": ""
             }
            },
            "type": "parcoords"
           }
          ],
          "pie": [
           {
            "automargin": true,
            "type": "pie"
           }
          ],
          "scatter": [
           {
            "fillpattern": {
             "fillmode": "overlay",
             "size": 10,
             "solidity": 0.2
            },
            "type": "scatter"
           }
          ],
          "scatter3d": [
           {
            "line": {
             "colorbar": {
              "outlinewidth": 0,
              "ticks": ""
             }
            },
            "marker": {
             "colorbar": {
              "outlinewidth": 0,
              "ticks": ""
             }
            },
            "type": "scatter3d"
           }
          ],
          "scattercarpet": [
           {
            "marker": {
             "colorbar": {
              "outlinewidth": 0,
              "ticks": ""
             }
            },
            "type": "scattercarpet"
           }
          ],
          "scattergeo": [
           {
            "marker": {
             "colorbar": {
              "outlinewidth": 0,
              "ticks": ""
             }
            },
            "type": "scattergeo"
           }
          ],
          "scattergl": [
           {
            "marker": {
             "colorbar": {
              "outlinewidth": 0,
              "ticks": ""
             }
            },
            "type": "scattergl"
           }
          ],
          "scattermap": [
           {
            "marker": {
             "colorbar": {
              "outlinewidth": 0,
              "ticks": ""
             }
            },
            "type": "scattermap"
           }
          ],
          "scattermapbox": [
           {
            "marker": {
             "colorbar": {
              "outlinewidth": 0,
              "ticks": ""
             }
            },
            "type": "scattermapbox"
           }
          ],
          "scatterpolar": [
           {
            "marker": {
             "colorbar": {
              "outlinewidth": 0,
              "ticks": ""
             }
            },
            "type": "scatterpolar"
           }
          ],
          "scatterpolargl": [
           {
            "marker": {
             "colorbar": {
              "outlinewidth": 0,
              "ticks": ""
             }
            },
            "type": "scatterpolargl"
           }
          ],
          "scatterternary": [
           {
            "marker": {
             "colorbar": {
              "outlinewidth": 0,
              "ticks": ""
             }
            },
            "type": "scatterternary"
           }
          ],
          "surface": [
           {
            "colorbar": {
             "outlinewidth": 0,
             "ticks": ""
            },
            "colorscale": [
             [
              0,
              "#0d0887"
             ],
             [
              0.1111111111111111,
              "#46039f"
             ],
             [
              0.2222222222222222,
              "#7201a8"
             ],
             [
              0.3333333333333333,
              "#9c179e"
             ],
             [
              0.4444444444444444,
              "#bd3786"
             ],
             [
              0.5555555555555556,
              "#d8576b"
             ],
             [
              0.6666666666666666,
              "#ed7953"
             ],
             [
              0.7777777777777778,
              "#fb9f3a"
             ],
             [
              0.8888888888888888,
              "#fdca26"
             ],
             [
              1,
              "#f0f921"
             ]
            ],
            "type": "surface"
           }
          ],
          "table": [
           {
            "cells": {
             "fill": {
              "color": "#EBF0F8"
             },
             "line": {
              "color": "white"
             }
            },
            "header": {
             "fill": {
              "color": "#C8D4E3"
             },
             "line": {
              "color": "white"
             }
            },
            "type": "table"
           }
          ]
         },
         "layout": {
          "annotationdefaults": {
           "arrowcolor": "#2a3f5f",
           "arrowhead": 0,
           "arrowwidth": 1
          },
          "autotypenumbers": "strict",
          "coloraxis": {
           "colorbar": {
            "outlinewidth": 0,
            "ticks": ""
           }
          },
          "colorscale": {
           "diverging": [
            [
             0,
             "#8e0152"
            ],
            [
             0.1,
             "#c51b7d"
            ],
            [
             0.2,
             "#de77ae"
            ],
            [
             0.3,
             "#f1b6da"
            ],
            [
             0.4,
             "#fde0ef"
            ],
            [
             0.5,
             "#f7f7f7"
            ],
            [
             0.6,
             "#e6f5d0"
            ],
            [
             0.7,
             "#b8e186"
            ],
            [
             0.8,
             "#7fbc41"
            ],
            [
             0.9,
             "#4d9221"
            ],
            [
             1,
             "#276419"
            ]
           ],
           "sequential": [
            [
             0,
             "#0d0887"
            ],
            [
             0.1111111111111111,
             "#46039f"
            ],
            [
             0.2222222222222222,
             "#7201a8"
            ],
            [
             0.3333333333333333,
             "#9c179e"
            ],
            [
             0.4444444444444444,
             "#bd3786"
            ],
            [
             0.5555555555555556,
             "#d8576b"
            ],
            [
             0.6666666666666666,
             "#ed7953"
            ],
            [
             0.7777777777777778,
             "#fb9f3a"
            ],
            [
             0.8888888888888888,
             "#fdca26"
            ],
            [
             1,
             "#f0f921"
            ]
           ],
           "sequentialminus": [
            [
             0,
             "#0d0887"
            ],
            [
             0.1111111111111111,
             "#46039f"
            ],
            [
             0.2222222222222222,
             "#7201a8"
            ],
            [
             0.3333333333333333,
             "#9c179e"
            ],
            [
             0.4444444444444444,
             "#bd3786"
            ],
            [
             0.5555555555555556,
             "#d8576b"
            ],
            [
             0.6666666666666666,
             "#ed7953"
            ],
            [
             0.7777777777777778,
             "#fb9f3a"
            ],
            [
             0.8888888888888888,
             "#fdca26"
            ],
            [
             1,
             "#f0f921"
            ]
           ]
          },
          "colorway": [
           "#636efa",
           "#EF553B",
           "#00cc96",
           "#ab63fa",
           "#FFA15A",
           "#19d3f3",
           "#FF6692",
           "#B6E880",
           "#FF97FF",
           "#FECB52"
          ],
          "font": {
           "color": "#2a3f5f"
          },
          "geo": {
           "bgcolor": "white",
           "lakecolor": "white",
           "landcolor": "#E5ECF6",
           "showlakes": true,
           "showland": true,
           "subunitcolor": "white"
          },
          "hoverlabel": {
           "align": "left"
          },
          "hovermode": "closest",
          "mapbox": {
           "style": "light"
          },
          "paper_bgcolor": "white",
          "plot_bgcolor": "#E5ECF6",
          "polar": {
           "angularaxis": {
            "gridcolor": "white",
            "linecolor": "white",
            "ticks": ""
           },
           "bgcolor": "#E5ECF6",
           "radialaxis": {
            "gridcolor": "white",
            "linecolor": "white",
            "ticks": ""
           }
          },
          "scene": {
           "xaxis": {
            "backgroundcolor": "#E5ECF6",
            "gridcolor": "white",
            "gridwidth": 2,
            "linecolor": "white",
            "showbackground": true,
            "ticks": "",
            "zerolinecolor": "white"
           },
           "yaxis": {
            "backgroundcolor": "#E5ECF6",
            "gridcolor": "white",
            "gridwidth": 2,
            "linecolor": "white",
            "showbackground": true,
            "ticks": "",
            "zerolinecolor": "white"
           },
           "zaxis": {
            "backgroundcolor": "#E5ECF6",
            "gridcolor": "white",
            "gridwidth": 2,
            "linecolor": "white",
            "showbackground": true,
            "ticks": "",
            "zerolinecolor": "white"
           }
          },
          "shapedefaults": {
           "line": {
            "color": "#2a3f5f"
           }
          },
          "ternary": {
           "aaxis": {
            "gridcolor": "white",
            "linecolor": "white",
            "ticks": ""
           },
           "baxis": {
            "gridcolor": "white",
            "linecolor": "white",
            "ticks": ""
           },
           "bgcolor": "#E5ECF6",
           "caxis": {
            "gridcolor": "white",
            "linecolor": "white",
            "ticks": ""
           }
          },
          "title": {
           "x": 0.05
          },
          "xaxis": {
           "automargin": true,
           "gridcolor": "white",
           "linecolor": "white",
           "ticks": "",
           "title": {
            "standoff": 15
           },
           "zerolinecolor": "white",
           "zerolinewidth": 2
          },
          "yaxis": {
           "automargin": true,
           "gridcolor": "white",
           "linecolor": "white",
           "ticks": "",
           "title": {
            "standoff": 15
           },
           "zerolinecolor": "white",
           "zerolinewidth": 2
          }
         }
        },
        "xaxis": {
         "anchor": "y",
         "domain": [
          0,
          1
         ],
         "title": {
          "text": "x"
         }
        },
        "yaxis": {
         "anchor": "x",
         "domain": [
          0,
          1
         ],
         "title": {
          "text": "y"
         }
        }
       }
      }
     },
     "metadata": {},
     "output_type": "display_data"
    }
   ],
   "source": [
    "# Graficar los embedddings en 2D\n",
    "#!pip install plotly\n",
    "import plotly.graph_objects as go\n",
    "import plotly.express as px\n",
    "\n",
    "vecs, labels = reduce_dimensions(w2v_model)\n",
    "\n",
    "MAX_WORDS=200\n",
    "fig = px.scatter(x=vecs[:MAX_WORDS,0], y=vecs[:MAX_WORDS,1], text=labels[:MAX_WORDS])\n",
    "fig.show() "
   ]
  },
  {
   "cell_type": "markdown",
   "id": "507fc02e",
   "metadata": {},
   "source": [
    "Se aprecia similitud entre tokens como **face** (-4.47, 8.70), **eyes** (-3.12, 7.21) y **tears** (-3.99, 5.74), tanto desde el punto de vista semántico como lógico, ya que es esperable encontrar estas palabras en contextos similares. En este sentido, el modelo de embeddings logra reflejar relaciones intuitivas del lenguaje.\n",
    "\n",
    "También se observa proximidad entre palabras como **father** y **lord**, y entre **wife** y **lady**, así como entre los cuatro términos en conjunto."
   ]
  },
  {
   "cell_type": "code",
   "execution_count": 90,
   "id": "1a8d45db",
   "metadata": {},
   "outputs": [
    {
     "data": {
      "application/vnd.plotly.v1+json": {
       "config": {
        "plotlyServerURL": "https://plot.ly"
       },
       "data": [
        {
         "hovertemplate": "x=%{x}<br>y=%{y}<br>z=%{z}<br>text=%{text}<extra></extra>",
         "legendgroup": "",
         "marker": {
          "color": "#636efa",
          "size": 2,
          "symbol": "circle"
         },
         "mode": "markers+text",
         "name": "",
         "scene": "scene",
         "showlegend": false,
         "text": [
          "and",
          "the",
          "i",
          "to",
          "a",
          "of",
          "my",
          "that",
          "is",
          "in",
          "romeo",
          "you",
          "thou",
          "me",
          "not",
          "with",
          "it",
          "for",
          "this",
          "be",
          "but",
          "juliet",
          "thy",
          "what",
          "as",
          "her",
          "o",
          "nurse",
          "will",
          "so",
          "capulet",
          "love",
          "thee",
          "his",
          "have",
          "he",
          "by",
          "she",
          "shall",
          "lady",
          "friar",
          "your",
          "no",
          "him",
          "all",
          "come",
          "do",
          "from",
          "good",
          "if",
          "then",
          "mercutio",
          "now",
          "on",
          "enter",
          "here",
          "benvolio",
          "go",
          "i’ll",
          "an",
          "death",
          "at",
          "tybalt",
          "night",
          "lawrence",
          "or",
          "man",
          "more",
          "we",
          "are",
          "hath",
          "there",
          "which",
          "well",
          "our",
          "am",
          "one",
          "how",
          "paris",
          "they",
          "sir",
          "some",
          "up",
          "too",
          "art",
          "would",
          "out",
          "when",
          "say",
          "scene",
          "where",
          "should",
          "was",
          "may",
          "dead",
          "give",
          "yet",
          "day",
          "than",
          "their",
          "doth",
          "such",
          "montague",
          "let",
          "fair",
          "tell",
          "them",
          "upon",
          "these",
          "take",
          "make",
          "’tis",
          "must",
          "did",
          "can",
          "like",
          "why",
          "much",
          "were",
          "prince",
          "see",
          "know",
          "first",
          "sweet",
          "exeunt",
          "who",
          "gone",
          "house",
          "exit",
          "time",
          "lord",
          "servant",
          "look",
          "us",
          "ay",
          "heaven",
          "back",
          "mine",
          "wilt",
          "light",
          "eyes",
          "speak",
          "old",
          "hast",
          "hence",
          "comes",
          "again",
          "true",
          "bed",
          "god",
          "word",
          "stay",
          "being",
          "peter",
          "dear",
          "heart",
          "hand",
          "very",
          "stand",
          "name",
          "find",
          "part",
          "young",
          "made",
          "life",
          "die",
          "both",
          "madam",
          "watch",
          "therefore",
          "away",
          "call",
          "sampson",
          "till",
          "hear",
          "cell",
          "capulet’s",
          "men",
          "father",
          "face",
          "ere",
          "marry",
          "think",
          "holy",
          "bid",
          "lie",
          "cannot",
          "earth",
          "wife",
          "nay",
          "had",
          "tears",
          "farewell",
          "before",
          "nor",
          "been",
          "two",
          "eye",
          "within",
          "peace"
         ],
         "type": "scatter3d",
         "x": {
          "bdata": "ghvXQVBOBkECwta8YwrOQAWJFcFrBgXBGQ6OQTthHUDLOhhCHb7HvzTktEHC4JbBTQ7owUbAmMHAc9jBjENgQS/hkUEJTR1AnGg3QePNocDJt6XBM4BXQWbOX0Cx4YzBaLtVwR0pl0Hcwo9Brj0aQkhXX8HZAhJAevuMQJs+EcKhUabBvWdCwIBRwEG9iKy/JILUQc7EvkESuTNAMkJFQcvfpMBiripBZ/RnwQ/yBMJ76SLBYcTlQYxsdMHkDwRCwE6LQQVkicF5igVCK06FQbRc4kGHJHlBBse5QFUgtUGY1VdBDf4qQYgWj8C0BqnBqBC3wbvDC8K2+99B672nQTEo0z+QvvnBy5ENwZUqgMGRxuC/VpSMvbQu70HukXxBZeezwCBxC8Gnn5dA5ZfjPgIbJUGIA/ZB1OySQcm38EDf85fBW7tNQQ2NukEeTGxA5ZXQwTAQVkF+GG/Bf0ywwMcwHsFe5WbBW6wWQqfIz78giQRC1v3Lwa9JxUE/f0XBlbQIwmkZl0GhnKpB4Am+wU82A0Kn7RzCSsGkQNorJ8BrEa6/mRdwwLDpVcGbYk5BPPBKweOkqUFNSQBBxeICwjdfx0FbhLZAN82hwQ/FhMFhcGXBh+XQwdsp00FM5qxBG2cBQn69RcGmrmvAatLyQctrEEE4dXjAK5DPwbTht7+IXeg/hVspwgej40EFRHW/O6d0QczhVUG0GjvByo8eQQIpzUFrZ9/BRw31wfhZisCxj9nBYyyxwaJCjsH9UMLB70SBP0PV5EFNpqhBGbaIwI7Yv0DrKqlBh80IQSg7tsE8J35BxnQBQdgDuUGDD19BbMIEwr5ShcEK7PLA1PaFQTMcnUBb2lI/tGYdQGrZh8GelGdBDLJGwUOiEsCFWoxBoDZqvuNshsFjkcZB5t5oQbEeAkGs/jNAtV8iQVU4Y8DZ1r3BZZCAwfLH5kGtG/7BNLAEPgUeZUETa1PBK2LLQJpF0j/pbJlAJEHpPQJ1mUDzJu9BGkkyQXiAyEG5g53BNA0QQuVqy0G5I+nB7Pt+QfKsa8EdGJ7BiHraQQ2QxkE=",
          "dtype": "f4"
         },
         "y": {
          "bdata": "5AacP6DWIsGkvwRCqKfGQQdtmUAsiaTB6SYBwuYD778IATzBMTFyQEjORcHJYNVBgNNqwGuPw0EegLVAbwnCQQYRNzsV17LAV2howXlikEH7IpJBGs5QwSUVLsJTP7xA0ETPwRkjOMF7FSbCZq+8wdDHC0KYNHLBIL+ZwdHn0MBqHQVCyyzmwVSNFEFr3aPAv1mnwfqc2cC0rlxB8Ga5wWjmgkHuxgFB3+OaQTpGgkF0VAXCXP5VQcP950E38AxBDKd0wPUjDEGxzodBPLNTwSOpYMGIk+BBhRJgwdfrHsDmVDvBEHAhQnnkHkIj0KrBzkgcwXKNnsHWCG/Bno5xwcyynEBYicBB9cKQwbtWk0EXFppBcsgEwv0W68DX6OBBAgWMwRD5DEFLeebBWcdWwbwMtkCE1dHAIa4mwL8W5T9yM+FBbsmFQcSR2EEPU6bBI0t3wezs6UAoF6DAR7NnQORezUCoi4FBGMMAQLGSiEBytsfANeBdQcik0cFHWjJCywbGQUTaKMJRXjJBYgbmwfBtaMFOJO/A67V7wWXY6EGCpx/Be1P/QZz19EGcEZTBGfoNwpCrDUI1hw5CAAZPQVT3G0IysahAH8ORQZEOGL/qgwHB/yRIQAaJ3T/7DTDBQhY/v84Z7j8+M6nAAa11wRTLgMGrtyvCalUNQUB13r53tLfACb94QGnM38GBxh3BzLGWQW6zAUL/6jRCw+70wcK4u0EkR80/8wA0P5+RDMKzy8HBE3uVQaWYb8ECoBfByqETQtn2e8EN66lBb6WQPvPlBkKL1C7BJDo8QU8y5EEImcbAQ2Ovv1JV88ERusDBIoOYwF1vK8JFhBZC9YbOwRwsd0HX5NbAYPG1wZtLUcGI3xHC0avWQUFshUCWNBxBrkJrwEttE0JxtgBCMs3aQT6KB8F6d6hBktGjQQ84YEF7agxADbjnwWTlwcGRKnnB4xbBQTcmGkJ3bYxBpbCPQULkIkJ/5BPBk48JQaszkcGJ4QTCvtblwPKmBEHPQObBnLzLwc4dnEHd+n/BHSOCQGhKnMEgF9bAOuXOwTy2pEE=",
          "dtype": "f4"
         },
         "z": {
          "bdata": "PmDcwRadjsHTJANCmPEtwXnvRcFDuKXBFjjsQLhQaEGNEZjAW/qGwYPd78Gc7+RAinqLQXNr079WU4BBDer9wDHHYEFPLOFB8KAvQc/Gh0E985FAtngHwlZhG8GmvPJB6B/rQQc1UME9U7xAOVjKwO7+BUGj4nlBfE0gwlGjCEFcWcI/IwO8wWmBa0BAyBxCGOxRQFFp70DZa99BBr4iwpIrEcLS5DRCBGn7wGf+pkA8iQ1Ba3jtQfpM1UHJXaDBJ54WQvRNq0Fw6B3B3E4mwubdfUEJEuVBHWU6wiE958DU3TPCaqIDwWcUUr/lmLvB5GBTwBSStEDaD/PBfHsCQpGEJ8IEXzPBAgQjQkAZsMFsRxNCHYOSQQLDRMFrC8/BqKiNQRIsukE5TudAKtEAQn8jfcE8eq5BhzYrwpFrEEI0+XFBzVrnwQhjsb9EnLdB8OLbQZ9Wd0FcGvFApLOAQYSvEUKMxRfC98yzQDLb7UFfLS0++3AuQUbAzMH2SSpB1Ohnvl+YccFd6/rBEp8IwJ50ukC5qbvAWYMOwp0VbsHuaaBB0iQYQdTmRMHTaUbBseCCP6bsRkGAgHlBnDgtwVlgQr19vMtBAUFNQZDENMH4whBCFOkMwGS0+0DI5wzC2sF5QYZrn0FmTkPC/dvKQVNRJ8IqmsNA1UjCQc0w4cFloyTCkPzhvo6MrkFcSR/CsMI/QXxsEUHPgN2/yJd0Qd1pWUFW77NAJGvuQVf6bsFLigrB7E8AQv+A4sFlCgxCtpoYwa7AlcBAGZVBbJKlPzelcMFIgatB7zKpwbkcMMHQ35rB5RcuwgmA08DzowxBEGBiwR2irsA7pSzBpZi6QbAGLUJX47vBNzcIQvSCOECxeNbAxRaqwNCMN0Io6ApC6JAQwiHMpsBiMzbB9m6AQaxoDMI3HsRBm+yfQaH/JsLdvA7CfXZtQf/Pi0Gfhz/B6a6CQbBpIL5/zg1CRS0VwvyAPUHApwpBsmcHQrD8QMGmmzlBPZcDQhAGR0FaiXDBLWN8QEuso8Hxh4DA4/kTwVS+hkEmxSLB6AUMwfflqcA=",
          "dtype": "f4"
         }
        }
       ],
       "layout": {
        "legend": {
         "tracegroupgap": 0
        },
        "margin": {
         "t": 60
        },
        "scene": {
         "domain": {
          "x": [
           0,
           1
          ],
          "y": [
           0,
           1
          ]
         },
         "xaxis": {
          "title": {
           "text": "x"
          }
         },
         "yaxis": {
          "title": {
           "text": "y"
          }
         },
         "zaxis": {
          "title": {
           "text": "z"
          }
         }
        },
        "template": {
         "data": {
          "bar": [
           {
            "error_x": {
             "color": "#2a3f5f"
            },
            "error_y": {
             "color": "#2a3f5f"
            },
            "marker": {
             "line": {
              "color": "#E5ECF6",
              "width": 0.5
             },
             "pattern": {
              "fillmode": "overlay",
              "size": 10,
              "solidity": 0.2
             }
            },
            "type": "bar"
           }
          ],
          "barpolar": [
           {
            "marker": {
             "line": {
              "color": "#E5ECF6",
              "width": 0.5
             },
             "pattern": {
              "fillmode": "overlay",
              "size": 10,
              "solidity": 0.2
             }
            },
            "type": "barpolar"
           }
          ],
          "carpet": [
           {
            "aaxis": {
             "endlinecolor": "#2a3f5f",
             "gridcolor": "white",
             "linecolor": "white",
             "minorgridcolor": "white",
             "startlinecolor": "#2a3f5f"
            },
            "baxis": {
             "endlinecolor": "#2a3f5f",
             "gridcolor": "white",
             "linecolor": "white",
             "minorgridcolor": "white",
             "startlinecolor": "#2a3f5f"
            },
            "type": "carpet"
           }
          ],
          "choropleth": [
           {
            "colorbar": {
             "outlinewidth": 0,
             "ticks": ""
            },
            "type": "choropleth"
           }
          ],
          "contour": [
           {
            "colorbar": {
             "outlinewidth": 0,
             "ticks": ""
            },
            "colorscale": [
             [
              0,
              "#0d0887"
             ],
             [
              0.1111111111111111,
              "#46039f"
             ],
             [
              0.2222222222222222,
              "#7201a8"
             ],
             [
              0.3333333333333333,
              "#9c179e"
             ],
             [
              0.4444444444444444,
              "#bd3786"
             ],
             [
              0.5555555555555556,
              "#d8576b"
             ],
             [
              0.6666666666666666,
              "#ed7953"
             ],
             [
              0.7777777777777778,
              "#fb9f3a"
             ],
             [
              0.8888888888888888,
              "#fdca26"
             ],
             [
              1,
              "#f0f921"
             ]
            ],
            "type": "contour"
           }
          ],
          "contourcarpet": [
           {
            "colorbar": {
             "outlinewidth": 0,
             "ticks": ""
            },
            "type": "contourcarpet"
           }
          ],
          "heatmap": [
           {
            "colorbar": {
             "outlinewidth": 0,
             "ticks": ""
            },
            "colorscale": [
             [
              0,
              "#0d0887"
             ],
             [
              0.1111111111111111,
              "#46039f"
             ],
             [
              0.2222222222222222,
              "#7201a8"
             ],
             [
              0.3333333333333333,
              "#9c179e"
             ],
             [
              0.4444444444444444,
              "#bd3786"
             ],
             [
              0.5555555555555556,
              "#d8576b"
             ],
             [
              0.6666666666666666,
              "#ed7953"
             ],
             [
              0.7777777777777778,
              "#fb9f3a"
             ],
             [
              0.8888888888888888,
              "#fdca26"
             ],
             [
              1,
              "#f0f921"
             ]
            ],
            "type": "heatmap"
           }
          ],
          "histogram": [
           {
            "marker": {
             "pattern": {
              "fillmode": "overlay",
              "size": 10,
              "solidity": 0.2
             }
            },
            "type": "histogram"
           }
          ],
          "histogram2d": [
           {
            "colorbar": {
             "outlinewidth": 0,
             "ticks": ""
            },
            "colorscale": [
             [
              0,
              "#0d0887"
             ],
             [
              0.1111111111111111,
              "#46039f"
             ],
             [
              0.2222222222222222,
              "#7201a8"
             ],
             [
              0.3333333333333333,
              "#9c179e"
             ],
             [
              0.4444444444444444,
              "#bd3786"
             ],
             [
              0.5555555555555556,
              "#d8576b"
             ],
             [
              0.6666666666666666,
              "#ed7953"
             ],
             [
              0.7777777777777778,
              "#fb9f3a"
             ],
             [
              0.8888888888888888,
              "#fdca26"
             ],
             [
              1,
              "#f0f921"
             ]
            ],
            "type": "histogram2d"
           }
          ],
          "histogram2dcontour": [
           {
            "colorbar": {
             "outlinewidth": 0,
             "ticks": ""
            },
            "colorscale": [
             [
              0,
              "#0d0887"
             ],
             [
              0.1111111111111111,
              "#46039f"
             ],
             [
              0.2222222222222222,
              "#7201a8"
             ],
             [
              0.3333333333333333,
              "#9c179e"
             ],
             [
              0.4444444444444444,
              "#bd3786"
             ],
             [
              0.5555555555555556,
              "#d8576b"
             ],
             [
              0.6666666666666666,
              "#ed7953"
             ],
             [
              0.7777777777777778,
              "#fb9f3a"
             ],
             [
              0.8888888888888888,
              "#fdca26"
             ],
             [
              1,
              "#f0f921"
             ]
            ],
            "type": "histogram2dcontour"
           }
          ],
          "mesh3d": [
           {
            "colorbar": {
             "outlinewidth": 0,
             "ticks": ""
            },
            "type": "mesh3d"
           }
          ],
          "parcoords": [
           {
            "line": {
             "colorbar": {
              "outlinewidth": 0,
              "ticks": ""
             }
            },
            "type": "parcoords"
           }
          ],
          "pie": [
           {
            "automargin": true,
            "type": "pie"
           }
          ],
          "scatter": [
           {
            "fillpattern": {
             "fillmode": "overlay",
             "size": 10,
             "solidity": 0.2
            },
            "type": "scatter"
           }
          ],
          "scatter3d": [
           {
            "line": {
             "colorbar": {
              "outlinewidth": 0,
              "ticks": ""
             }
            },
            "marker": {
             "colorbar": {
              "outlinewidth": 0,
              "ticks": ""
             }
            },
            "type": "scatter3d"
           }
          ],
          "scattercarpet": [
           {
            "marker": {
             "colorbar": {
              "outlinewidth": 0,
              "ticks": ""
             }
            },
            "type": "scattercarpet"
           }
          ],
          "scattergeo": [
           {
            "marker": {
             "colorbar": {
              "outlinewidth": 0,
              "ticks": ""
             }
            },
            "type": "scattergeo"
           }
          ],
          "scattergl": [
           {
            "marker": {
             "colorbar": {
              "outlinewidth": 0,
              "ticks": ""
             }
            },
            "type": "scattergl"
           }
          ],
          "scattermap": [
           {
            "marker": {
             "colorbar": {
              "outlinewidth": 0,
              "ticks": ""
             }
            },
            "type": "scattermap"
           }
          ],
          "scattermapbox": [
           {
            "marker": {
             "colorbar": {
              "outlinewidth": 0,
              "ticks": ""
             }
            },
            "type": "scattermapbox"
           }
          ],
          "scatterpolar": [
           {
            "marker": {
             "colorbar": {
              "outlinewidth": 0,
              "ticks": ""
             }
            },
            "type": "scatterpolar"
           }
          ],
          "scatterpolargl": [
           {
            "marker": {
             "colorbar": {
              "outlinewidth": 0,
              "ticks": ""
             }
            },
            "type": "scatterpolargl"
           }
          ],
          "scatterternary": [
           {
            "marker": {
             "colorbar": {
              "outlinewidth": 0,
              "ticks": ""
             }
            },
            "type": "scatterternary"
           }
          ],
          "surface": [
           {
            "colorbar": {
             "outlinewidth": 0,
             "ticks": ""
            },
            "colorscale": [
             [
              0,
              "#0d0887"
             ],
             [
              0.1111111111111111,
              "#46039f"
             ],
             [
              0.2222222222222222,
              "#7201a8"
             ],
             [
              0.3333333333333333,
              "#9c179e"
             ],
             [
              0.4444444444444444,
              "#bd3786"
             ],
             [
              0.5555555555555556,
              "#d8576b"
             ],
             [
              0.6666666666666666,
              "#ed7953"
             ],
             [
              0.7777777777777778,
              "#fb9f3a"
             ],
             [
              0.8888888888888888,
              "#fdca26"
             ],
             [
              1,
              "#f0f921"
             ]
            ],
            "type": "surface"
           }
          ],
          "table": [
           {
            "cells": {
             "fill": {
              "color": "#EBF0F8"
             },
             "line": {
              "color": "white"
             }
            },
            "header": {
             "fill": {
              "color": "#C8D4E3"
             },
             "line": {
              "color": "white"
             }
            },
            "type": "table"
           }
          ]
         },
         "layout": {
          "annotationdefaults": {
           "arrowcolor": "#2a3f5f",
           "arrowhead": 0,
           "arrowwidth": 1
          },
          "autotypenumbers": "strict",
          "coloraxis": {
           "colorbar": {
            "outlinewidth": 0,
            "ticks": ""
           }
          },
          "colorscale": {
           "diverging": [
            [
             0,
             "#8e0152"
            ],
            [
             0.1,
             "#c51b7d"
            ],
            [
             0.2,
             "#de77ae"
            ],
            [
             0.3,
             "#f1b6da"
            ],
            [
             0.4,
             "#fde0ef"
            ],
            [
             0.5,
             "#f7f7f7"
            ],
            [
             0.6,
             "#e6f5d0"
            ],
            [
             0.7,
             "#b8e186"
            ],
            [
             0.8,
             "#7fbc41"
            ],
            [
             0.9,
             "#4d9221"
            ],
            [
             1,
             "#276419"
            ]
           ],
           "sequential": [
            [
             0,
             "#0d0887"
            ],
            [
             0.1111111111111111,
             "#46039f"
            ],
            [
             0.2222222222222222,
             "#7201a8"
            ],
            [
             0.3333333333333333,
             "#9c179e"
            ],
            [
             0.4444444444444444,
             "#bd3786"
            ],
            [
             0.5555555555555556,
             "#d8576b"
            ],
            [
             0.6666666666666666,
             "#ed7953"
            ],
            [
             0.7777777777777778,
             "#fb9f3a"
            ],
            [
             0.8888888888888888,
             "#fdca26"
            ],
            [
             1,
             "#f0f921"
            ]
           ],
           "sequentialminus": [
            [
             0,
             "#0d0887"
            ],
            [
             0.1111111111111111,
             "#46039f"
            ],
            [
             0.2222222222222222,
             "#7201a8"
            ],
            [
             0.3333333333333333,
             "#9c179e"
            ],
            [
             0.4444444444444444,
             "#bd3786"
            ],
            [
             0.5555555555555556,
             "#d8576b"
            ],
            [
             0.6666666666666666,
             "#ed7953"
            ],
            [
             0.7777777777777778,
             "#fb9f3a"
            ],
            [
             0.8888888888888888,
             "#fdca26"
            ],
            [
             1,
             "#f0f921"
            ]
           ]
          },
          "colorway": [
           "#636efa",
           "#EF553B",
           "#00cc96",
           "#ab63fa",
           "#FFA15A",
           "#19d3f3",
           "#FF6692",
           "#B6E880",
           "#FF97FF",
           "#FECB52"
          ],
          "font": {
           "color": "#2a3f5f"
          },
          "geo": {
           "bgcolor": "white",
           "lakecolor": "white",
           "landcolor": "#E5ECF6",
           "showlakes": true,
           "showland": true,
           "subunitcolor": "white"
          },
          "hoverlabel": {
           "align": "left"
          },
          "hovermode": "closest",
          "mapbox": {
           "style": "light"
          },
          "paper_bgcolor": "white",
          "plot_bgcolor": "#E5ECF6",
          "polar": {
           "angularaxis": {
            "gridcolor": "white",
            "linecolor": "white",
            "ticks": ""
           },
           "bgcolor": "#E5ECF6",
           "radialaxis": {
            "gridcolor": "white",
            "linecolor": "white",
            "ticks": ""
           }
          },
          "scene": {
           "xaxis": {
            "backgroundcolor": "#E5ECF6",
            "gridcolor": "white",
            "gridwidth": 2,
            "linecolor": "white",
            "showbackground": true,
            "ticks": "",
            "zerolinecolor": "white"
           },
           "yaxis": {
            "backgroundcolor": "#E5ECF6",
            "gridcolor": "white",
            "gridwidth": 2,
            "linecolor": "white",
            "showbackground": true,
            "ticks": "",
            "zerolinecolor": "white"
           },
           "zaxis": {
            "backgroundcolor": "#E5ECF6",
            "gridcolor": "white",
            "gridwidth": 2,
            "linecolor": "white",
            "showbackground": true,
            "ticks": "",
            "zerolinecolor": "white"
           }
          },
          "shapedefaults": {
           "line": {
            "color": "#2a3f5f"
           }
          },
          "ternary": {
           "aaxis": {
            "gridcolor": "white",
            "linecolor": "white",
            "ticks": ""
           },
           "baxis": {
            "gridcolor": "white",
            "linecolor": "white",
            "ticks": ""
           },
           "bgcolor": "#E5ECF6",
           "caxis": {
            "gridcolor": "white",
            "linecolor": "white",
            "ticks": ""
           }
          },
          "title": {
           "x": 0.05
          },
          "xaxis": {
           "automargin": true,
           "gridcolor": "white",
           "linecolor": "white",
           "ticks": "",
           "title": {
            "standoff": 15
           },
           "zerolinecolor": "white",
           "zerolinewidth": 2
          },
          "yaxis": {
           "automargin": true,
           "gridcolor": "white",
           "linecolor": "white",
           "ticks": "",
           "title": {
            "standoff": 15
           },
           "zerolinecolor": "white",
           "zerolinewidth": 2
          }
         }
        }
       }
      }
     },
     "metadata": {},
     "output_type": "display_data"
    }
   ],
   "source": [
    "# Graficar los embedddings en 3D\n",
    "\n",
    "vecs, labels = reduce_dimensions(w2v_model,3)\n",
    "\n",
    "fig = px.scatter_3d(x=vecs[:MAX_WORDS,0], y=vecs[:MAX_WORDS,1], z=vecs[:MAX_WORDS,2],text=labels[:MAX_WORDS])\n",
    "fig.update_traces(marker_size = 2)\n",
    "fig.show() "
   ]
  },
  {
   "cell_type": "markdown",
   "id": "aae5b65d",
   "metadata": {},
   "source": [
    "En el gráfico 3D se aprecian relaciones similares a las del gráfico 2D, como por ejemplo entre **face** (-21.76, -15.57, -11.97), **eyes** (-27.19, -24.22, -8.66) y **tears** (-19.69, -28.78, -15.03). Sin embargo, al estar en tres dimensiones, resulta un poco más difícil interpretar visualmente la cercanía entre tokens.\n",
    "\n",
    "Es importante tener en cuenta que tanto en el gráfico 2D como en el 3D se están proyectando los vectores en un espacio de dimensión mucho menor que la original (400), por lo que las distancias mostradas no siempre reflejan con fidelidad las relaciones del modelo de embeddings."
   ]
  }
 ],
 "metadata": {
  "kernelspec": {
   "display_name": "base",
   "language": "python",
   "name": "python3"
  },
  "language_info": {
   "codemirror_mode": {
    "name": "ipython",
    "version": 3
   },
   "file_extension": ".py",
   "mimetype": "text/x-python",
   "name": "python",
   "nbconvert_exporter": "python",
   "pygments_lexer": "ipython3",
   "version": "3.12.3"
  }
 },
 "nbformat": 4,
 "nbformat_minor": 5
}
