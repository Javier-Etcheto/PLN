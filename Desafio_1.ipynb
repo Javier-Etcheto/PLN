{
  "cells": [
    {
      "cell_type": "code",
      "execution_count": 1,
      "metadata": {},
      "outputs": [
        {
          "name": "stdout",
          "output_type": "stream",
          "text": [
            "Requirement already satisfied: numpy in c:\\users\\javier\\anaconda3\\lib\\site-packages (1.26.4)\n",
            "Requirement already satisfied: scikit-learn in c:\\users\\javier\\anaconda3\\lib\\site-packages (1.6.1)\n",
            "Requirement already satisfied: scipy>=1.6.0 in c:\\users\\javier\\anaconda3\\lib\\site-packages (from scikit-learn) (1.15.2)\n",
            "Requirement already satisfied: joblib>=1.2.0 in c:\\users\\javier\\anaconda3\\lib\\site-packages (from scikit-learn) (1.4.2)\n",
            "Requirement already satisfied: threadpoolctl>=3.1.0 in c:\\users\\javier\\anaconda3\\lib\\site-packages (from scikit-learn) (3.6.0)\n",
            "Note: you may need to restart the kernel to use updated packages.\n"
          ]
        },
        {
          "name": "stderr",
          "output_type": "stream",
          "text": [
            "WARNING: Ignoring invalid distribution ~atplotlib (c:\\Users\\javier\\anaconda3\\Lib\\site-packages)\n",
            "WARNING: Ignoring invalid distribution ~atplotlib (c:\\Users\\javier\\anaconda3\\Lib\\site-packages)\n",
            "WARNING: Ignoring invalid distribution ~atplotlib (c:\\Users\\javier\\anaconda3\\Lib\\site-packages)\n"
          ]
        }
      ],
      "source": [
        "%pip install numpy scikit-learn"
      ]
    },
    {
      "cell_type": "markdown",
      "metadata": {
        "id": "zq6j8LsYq1Dr"
      },
      "source": [
        "### Vectorización de texto y modelo de clasificación Naïve Bayes con el dataset 20 newsgroups"
      ]
    },
    {
      "cell_type": "code",
      "execution_count": 2,
      "metadata": {
        "id": "l7cXR6CI30ry"
      },
      "outputs": [],
      "source": [
        "from sklearn.feature_extraction.text import CountVectorizer, TfidfVectorizer\n",
        "from sklearn.metrics.pairwise import cosine_similarity\n",
        "from sklearn.naive_bayes import MultinomialNB, ComplementNB\n",
        "from sklearn.metrics import f1_score\n",
        "\n",
        "# 20newsgroups por ser un dataset clásico de NLP ya viene incluido y formateado\n",
        "# en sklearn\n",
        "from sklearn.datasets import fetch_20newsgroups\n",
        "import numpy as np"
      ]
    },
    {
      "cell_type": "markdown",
      "metadata": {
        "id": "yD-pVDWV_rQc"
      },
      "source": [
        "## Carga de datos"
      ]
    },
    {
      "cell_type": "code",
      "execution_count": 3,
      "metadata": {
        "id": "Ech9qJaUo9vK"
      },
      "outputs": [],
      "source": [
        "# cargamos los datos (ya separados de forma predeterminada en train y test)\n",
        "newsgroups_train = fetch_20newsgroups(subset='train', remove=('headers', 'footers', 'quotes'))\n",
        "newsgroups_test = fetch_20newsgroups(subset='test', remove=('headers', 'footers', 'quotes'))"
      ]
    },
    {
      "cell_type": "code",
      "execution_count": null,
      "metadata": {},
      "outputs": [
        {
          "name": "stdout",
          "output_type": "stream",
          "text": [
            "['alt.atheism', 'comp.graphics', 'comp.os.ms-windows.misc', 'comp.sys.ibm.pc.hardware', 'comp.sys.mac.hardware', 'comp.windows.x', 'misc.forsale', 'rec.autos', 'rec.motorcycles', 'rec.sport.baseball', 'rec.sport.hockey', 'sci.crypt', 'sci.electronics', 'sci.med', 'sci.space', 'soc.religion.christian', 'talk.politics.guns', 'talk.politics.mideast', 'talk.politics.misc', 'talk.religion.misc']\n",
            "7\n",
            "[7 4 4 ... 3 1 8]\n"
          ]
        }
      ],
      "source": [
        "print(newsgroups_train.target_names)\n",
        "print(newsgroups_train.target[0]) "
      ]
    },
    {
      "cell_type": "markdown",
      "metadata": {
        "id": "UxjSI7su_uWI"
      },
      "source": [
        "## Vectorización"
      ]
    },
    {
      "cell_type": "code",
      "execution_count": 4,
      "metadata": {
        "id": "-94VP0QYCzDn"
      },
      "outputs": [],
      "source": [
        "# instanciamos un vectorizador\n",
        "# ver diferentes parámetros de instanciación en la documentación de sklearn https://scikit-learn.org/stable/modules/generated/sklearn.feature_extraction.text.TfidfVectorizer.html\n",
        "tfidfvect = TfidfVectorizer()"
      ]
    },
    {
      "cell_type": "code",
      "execution_count": 5,
      "metadata": {
        "colab": {
          "base_uri": "https://localhost:8080/",
          "height": 104
        },
        "id": "ftPlyanuak8n",
        "outputId": "45a94d0e-49e7-4f7c-c806-7d5b66779dd0"
      },
      "outputs": [
        {
          "name": "stdout",
          "output_type": "stream",
          "text": [
            "I was wondering if anyone out there could enlighten me on this car I saw\n",
            "the other day. It was a 2-door sports car, looked to be from the late 60s/\n",
            "early 70s. It was called a Bricklin. The doors were really small. In addition,\n",
            "the front bumper was separate from the rest of the body. This is \n",
            "all I know. If anyone can tellme a model name, engine specs, years\n",
            "of production, where this car is made, history, or whatever info you\n",
            "have on this funky looking car, please e-mail.\n"
          ]
        }
      ],
      "source": [
        "# en el atributo `data` accedemos al texto\n",
        "print(newsgroups_train.data[0])"
      ]
    },
    {
      "cell_type": "code",
      "execution_count": 6,
      "metadata": {
        "id": "1zxcXV6aC_oL"
      },
      "outputs": [],
      "source": [
        "# con la interfaz habitual de sklearn podemos fitear el vectorizador\n",
        "# (obtener el vocabulario y calcular el vector IDF)\n",
        "# y transformar directamente los datos\n",
        "X_train = tfidfvect.fit_transform(newsgroups_train.data)\n",
        "# `X_train` la podemos denominar como la matriz documento-término"
      ]
    },
    {
      "cell_type": "code",
      "execution_count": 7,
      "metadata": {
        "colab": {
          "base_uri": "https://localhost:8080/"
        },
        "id": "4Sv7TXbda41-",
        "outputId": "dcca5de6-dac1-4d68-d284-ce7be2ed9e2f"
      },
      "outputs": [
        {
          "name": "stdout",
          "output_type": "stream",
          "text": [
            "<class 'scipy.sparse._csr.csr_matrix'>\n",
            "shape: (11314, 101631)\n",
            "Cantidad de documentos: 11314\n",
            "Tamaño del vocabulario (dimensionalidad de los vectores): 101631\n"
          ]
        }
      ],
      "source": [
        "# recordar que las vectorizaciones por conteos son esparsas\n",
        "# por ello sklearn convenientemente devuelve los vectores de documentos\n",
        "# como matrices esparsas\n",
        "print(type(X_train))\n",
        "print(f'shape: {X_train.shape}')\n",
        "print(f'Cantidad de documentos: {X_train.shape[0]}')\n",
        "print(f'Tamaño del vocabulario (dimensionalidad de los vectores): {X_train.shape[1]}')"
      ]
    },
    {
      "cell_type": "code",
      "execution_count": 8,
      "metadata": {
        "colab": {
          "base_uri": "https://localhost:8080/"
        },
        "id": "dgydNTZ2pAgR",
        "outputId": "95111464-e40c-4b57-d154-ede153739a82"
      },
      "outputs": [
        {
          "data": {
            "text/plain": [
              "25775"
            ]
          },
          "execution_count": 8,
          "metadata": {},
          "output_type": "execute_result"
        }
      ],
      "source": [
        "# una vez fiteado el vectorizador, podemos acceder a atributos como el vocabulario\n",
        "# aprendido. Es un diccionario que va de términos a índices.\n",
        "# El índice es la posición en el vector de documento.\n",
        "tfidfvect.vocabulary_['car']"
      ]
    },
    {
      "cell_type": "code",
      "execution_count": 9,
      "metadata": {
        "id": "xnTSZuvyrTcP"
      },
      "outputs": [],
      "source": [
        "# es muy útil tener el diccionario opuesto que va de índices a términos\n",
        "idx2word = {v: k for k,v in tfidfvect.vocabulary_.items()}"
      ]
    },
    {
      "cell_type": "code",
      "execution_count": 10,
      "metadata": {
        "colab": {
          "base_uri": "https://localhost:8080/"
        },
        "id": "swa-AgWrMSHM",
        "outputId": "93d09f31-4c42-4215-e750-a13c83ecf96a"
      },
      "outputs": [
        {
          "data": {
            "text/plain": [
              "array([ 7,  4,  4,  1, 14, 16, 13,  3,  2,  4])"
            ]
          },
          "execution_count": 10,
          "metadata": {},
          "output_type": "execute_result"
        }
      ],
      "source": [
        "# en `y_train` guardamos los targets que son enteros\n",
        "y_train = newsgroups_train.target\n",
        "y_train[:10]"
      ]
    },
    {
      "cell_type": "code",
      "execution_count": 11,
      "metadata": {
        "colab": {
          "base_uri": "https://localhost:8080/"
        },
        "id": "je5kxvQMDLvf",
        "outputId": "59799046-9799-406f-c4be-81c5765de58d"
      },
      "outputs": [
        {
          "name": "stdout",
          "output_type": "stream",
          "text": [
            "clases [ 0  1  2  3  4  5  6  7  8  9 10 11 12 13 14 15 16 17 18 19]\n"
          ]
        },
        {
          "data": {
            "text/plain": [
              "['alt.atheism',\n",
              " 'comp.graphics',\n",
              " 'comp.os.ms-windows.misc',\n",
              " 'comp.sys.ibm.pc.hardware',\n",
              " 'comp.sys.mac.hardware',\n",
              " 'comp.windows.x',\n",
              " 'misc.forsale',\n",
              " 'rec.autos',\n",
              " 'rec.motorcycles',\n",
              " 'rec.sport.baseball',\n",
              " 'rec.sport.hockey',\n",
              " 'sci.crypt',\n",
              " 'sci.electronics',\n",
              " 'sci.med',\n",
              " 'sci.space',\n",
              " 'soc.religion.christian',\n",
              " 'talk.politics.guns',\n",
              " 'talk.politics.mideast',\n",
              " 'talk.politics.misc',\n",
              " 'talk.religion.misc']"
            ]
          },
          "execution_count": 11,
          "metadata": {},
          "output_type": "execute_result"
        }
      ],
      "source": [
        "# hay 20 clases correspondientes a los 20 grupos de noticias\n",
        "print(f'clases {np.unique(newsgroups_test.target)}')\n",
        "newsgroups_test.target_names"
      ]
    },
    {
      "cell_type": "markdown",
      "metadata": {
        "id": "SXCICFSd_y90"
      },
      "source": [
        "## Similaridad de documentos"
      ]
    },
    {
      "cell_type": "code",
      "execution_count": 12,
      "metadata": {
        "colab": {
          "base_uri": "https://localhost:8080/"
        },
        "id": "_pki_olShnyE",
        "outputId": "b2bd8485-40c7-4923-c8a9-4ad6b735576e"
      },
      "outputs": [
        {
          "name": "stdout",
          "output_type": "stream",
          "text": [
            "THE WHITE HOUSE\n",
            "\n",
            "                  Office of the Press Secretary\n",
            "                   (Pittsburgh, Pennslyvania)\n",
            "______________________________________________________________\n",
            "For Immediate Release                         April 17, 1993     \n",
            "\n",
            "             \n",
            "                  RADIO ADDRESS TO THE NATION \n",
            "                        BY THE PRESIDENT\n",
            "             \n",
            "                Pittsburgh International Airport\n",
            "                    Pittsburgh, Pennsylvania\n",
            "             \n",
            "             \n",
            "10:06 A.M. EDT\n",
            "             \n",
            "             \n",
            "             THE PRESIDENT:  Good morning.  My voice is coming to\n",
            "you this morning through the facilities of the oldest radio\n",
            "station in America, KDKA in Pittsburgh.  I'm visiting the city to\n",
            "meet personally with citizens here to discuss my plans for jobs,\n",
            "health care and the economy.  But I wanted first to do my weekly\n",
            "broadcast with the American people. \n",
            "             \n",
            "             I'm told this station first broadcast in 1920 when\n",
            "it reported that year's presidential elections.  Over the past\n",
            "seven decades presidents have found ways to keep in touch with\n",
            "the people, from whistle-stop tours to fire-side chats to the bus\n",
            "tour that I adopted, along with Vice President Gore, in last\n",
            "year's campaign.\n",
            "             \n",
            "             Every Saturday morning I take this time to talk with\n",
            "you, my fellow Americans, about the problems on your minds and\n",
            "what I'm doing to try and solve them.  It's my way of reporting\n",
            "to you and of giving you a way to hold me accountable.\n",
            "             \n",
            "             You sent me to Washington to get our government and\n",
            "economy moving after years of paralysis and policy and a bad\n",
            "experiment with trickle-down economics.  You know how important\n",
            "it is for us to make bold, comprehensive changes in the way we do\n",
            "business.  \n",
            "             \n",
            "             We live in a competitive global economy.  Nations\n",
            "rise and fall on the skills of their workers, the competitiveness\n",
            "of their companies, the imagination of their industries, and the\n",
            "cooperative experience and spirit that exists between business,\n",
            "labor and government.  Although many of the economies of the\n",
            "industrialized world are now suffering from slow growth, they've\n",
            "made many of the smart investments and the tough choices which\n",
            "our government has for too long ignored.  That's why many of them\n",
            "have been moving ahead and too many of our people have been\n",
            "falling behind.\n",
            "             \n",
            "             We have an economy today that even when it grows is\n",
            "not producing new jobs.  We've increased the debt of our nation\n",
            "by four times over the last 12 years, and we don't have much to\n",
            "show for it.  We know that wages of most working people have\n",
            "stopped rising, that most people are working longer work weeks\n",
            "and that too many families can no longer afford the escalating\n",
            "cost of health care.\n",
            "             \n",
            "             But we also know that, given the right tools, the\n",
            "right incentives and the right encouragement, our workers and\n",
            "businesses can make the kinds of products and profits our economy\n",
            "needs to expand opportunity and to make our communities better\n",
            "places to live.\n",
            "             \n",
            "             In many critical products today Americans are the\n",
            "low cost, high quality producers.  Our task is to make sure that\n",
            "we create more of those kinds of jobs.\n",
            "             \n",
            "             Just two months ago I gave Congress my plan for\n",
            "long-term jobs and economic growth.  It changes the old\n",
            "priorities in Washington and puts our emphasis where it needs to\n",
            "be -- on people's real needs, on increasing investments and jobs\n",
            "and education, on cutting the federal deficit, on stopping the\n",
            "waste which pays no dividends, and redirecting our precious\n",
            "resources toward investment that creates jobs now and lays the\n",
            "groundwork for robust economic growth in the future.\n",
            "             \n",
            "             These new directions passed the Congress in record\n",
            "time and created a new sense of hope and opportunity in our\n",
            "country.  Then the jobs plan I presented to Congress, which would\n",
            "create hundreds of thousands of jobs, most of them in the private\n",
            "sector in 1993 and 1994, passed the House of Representatives.  It\n",
            "now has the support of a majority of the United States Senate. \n",
            "But it's been held up by a filibuster of a minority in the\n",
            "Senate, just 43 senators.  They blocked a vote that they know\n",
            "would result in the passage of our bill and the creation of jobs.\n",
            "             \n",
            "             The issue isn't politics; the issue is people. \n",
            "Millions of Americans are waiting for this legislation and\n",
            "counting on it, counting on us in Washington.  But the jobs bill\n",
            "has been grounded by gridlock.  \n",
            "             \n",
            "             I know the American people are tired of business as\n",
            "usual and politics as usual.  I know they don't want us to spin\n",
            "or wheels.  They want the recovery to get moving.  So I have\n",
            "taken a first step to break this gridlock and gone the extra\n",
            "mile.  Yesterday I offered to cut the size of this plan by 25\n",
            "percent -- from $16 billion to $12 billion.  \n",
            "             \n",
            "             It's not what I'd hoped for.  With 16 million\n",
            "Americans looking for full-time work, I simply can't let the bill\n",
            "languish when I know that even a compromise bill will mean\n",
            "hundreds of thousands of jobs for our people.  The mandate is to\n",
            "act to achieve change and move the country forward.  By taking\n",
            "this initiative in the face of an unrelenting Senate talkathon, I\n",
            "think we can respond to your mandate and achieve a significant\n",
            "portion of our original goals.\n",
            "             \n",
            "             First, we want to keep the programs as much as\n",
            "possible that are needed to generate jobs and meet human needs,\n",
            "including highway and road construction, summer jobs for young\n",
            "people, immunization for children, construction of waste water\n",
            "sites, and aid to small businesses.  We also want to keep funding\n",
            "for extended unemployment compensation benefits, for people who\n",
            "have been unemployed for a long time because the economy isn't\n",
            "creating jobs.\n",
            "             \n",
            "             Second, I've recommended that all the other programs\n",
            "in the bill be cut across-the-board by a little more than 40\n",
            "percent.\n",
            "             \n",
            "             And third, I've recommended a new element in this\n",
            "program to help us immediately start our attempt to fight against\n",
            "crime by providing $200 million for cities and towns to rehire\n",
            "police officers who lost their jobs during the recession and put\n",
            "them back to work protecting our people.  I'm also going to fight\n",
            "for a tough crime bill because the people of this country need it\n",
            "and deserve it.\n",
            "             \n",
            "             Now, the people who are filibustering this bill --\n",
            "the Republican senators -- say they won't vote for it because it\n",
            "increases deficit spending, because there's extra spending this\n",
            "year that hasn't already been approved.  That sounds reasonable,\n",
            "doesn't it?  Here's what they don't say.  This program is more\n",
            "than paid for by budget cuts over my five-year budget, and this\n",
            "budget is well within the spending limits already approved by the\n",
            "Congress this year.\n",
            "             \n",
            "             It's amazing to me that many of these same senators\n",
            "who are filibustering the bill voted during the previous\n",
            "administration for billions of dollars of the same kind of\n",
            "emergency spending, and much of it was not designed to put the\n",
            "American people to work.  \n",
            "             \n",
            "             This is not about deficit spending.  We have offered\n",
            "a plan to cut the deficit.  This is about where your priorities\n",
            "are -- on people or on politics.  \n",
            "             \n",
            "             Keep in mind that our jobs bill is paid for dollar\n",
            "for dollar.  It is paid for by budget cuts.  And it's the\n",
            "soundest investment we can now make for ourselves and our\n",
            "children.  I urge all Americans to take another look at this jobs\n",
            "and investment program; to consider again the benefits for all of\n",
            "us when we've helped make more American partners working to\n",
            "ensure the future of our nation and the strength of our economy.\n",
            "             \n",
            "             You know, if every American who wanted a job had\n",
            "one, we wouldn't have a lot of the other problems we have in this\n",
            "country today.  This bill is not a miracle, it's a modest first\n",
            "step to try to set off a job creation explosion in this country\n",
            "again.  But it's a step we ought to take.  And it is fully paid\n",
            "for over the life of our budget.\n",
            "             \n",
            "             Tell your lawmakers what you think.  Tell them how\n",
            "important the bill is.  If it passes, we'll all be winners.\n",
            "             \n",
            "             Good morning, and thank you for listening.\n"
          ]
        }
      ],
      "source": [
        "# Veamos similaridad de documentos. Tomemos algún documento\n",
        "idx = 4811\n",
        "print(newsgroups_train.data[idx])"
      ]
    },
    {
      "cell_type": "code",
      "execution_count": 13,
      "metadata": {
        "id": "Ssa9bqJ-hA_v"
      },
      "outputs": [],
      "source": [
        "# midamos la similaridad coseno con todos los documentos de train\n",
        "cossim = cosine_similarity(X_train[idx], X_train)[0]"
      ]
    },
    {
      "cell_type": "code",
      "execution_count": 14,
      "metadata": {
        "colab": {
          "base_uri": "https://localhost:8080/"
        },
        "id": "p_mDA7p3AzcQ",
        "outputId": "747a3923-4b1c-4e2b-921d-4ebf2b271b00"
      },
      "outputs": [
        {
          "data": {
            "text/plain": [
              "array([1.        , 0.70930477, 0.67474953, ..., 0.        , 0.        ,\n",
              "       0.        ])"
            ]
          },
          "execution_count": 14,
          "metadata": {},
          "output_type": "execute_result"
        }
      ],
      "source": [
        "# podemos ver los valores de similaridad ordenados de mayor a menos\n",
        "np.sort(cossim)[::-1]"
      ]
    },
    {
      "cell_type": "code",
      "execution_count": 15,
      "metadata": {
        "colab": {
          "base_uri": "https://localhost:8080/"
        },
        "id": "0OIhDA1jAryX",
        "outputId": "04ddf3ca-0741-42d7-8bbb-00bb395f7834"
      },
      "outputs": [
        {
          "data": {
            "text/plain": [
              "array([ 4811,  6635,  4253, ...,  1534, 10055,  4750], dtype=int64)"
            ]
          },
          "execution_count": 15,
          "metadata": {},
          "output_type": "execute_result"
        }
      ],
      "source": [
        "# y a qué documentos corresponden\n",
        "np.argsort(cossim)[::-1]"
      ]
    },
    {
      "cell_type": "code",
      "execution_count": 27,
      "metadata": {
        "id": "hP7qLS4ZBLps"
      },
      "outputs": [],
      "source": [
        "# los 5 documentos más similares:\n",
        "mostsim = np.argsort(cossim)[::-1][1:6]"
      ]
    },
    {
      "cell_type": "code",
      "execution_count": 17,
      "metadata": {
        "colab": {
          "base_uri": "https://localhost:8080/",
          "height": 35
        },
        "id": "QdJLHPJACvaj",
        "outputId": "926186cf-7d4c-4bd3-927b-ad00bf7f24f9"
      },
      "outputs": [
        {
          "data": {
            "text/plain": [
              "'talk.politics.misc'"
            ]
          },
          "execution_count": 17,
          "metadata": {},
          "output_type": "execute_result"
        }
      ],
      "source": [
        "# el documento original pertenece a la clase:\n",
        "newsgroups_train.target_names[y_train[idx]]"
      ]
    },
    {
      "cell_type": "code",
      "execution_count": 18,
      "metadata": {
        "colab": {
          "base_uri": "https://localhost:8080/"
        },
        "id": "RWy_73epCbFG",
        "outputId": "daf534e5-b2a8-43d4-d05a-9c52b816cf69"
      },
      "outputs": [
        {
          "name": "stdout",
          "output_type": "stream",
          "text": [
            "talk.politics.misc\n",
            "talk.politics.misc\n",
            "talk.politics.misc\n",
            "talk.politics.misc\n",
            "talk.politics.misc\n"
          ]
        }
      ],
      "source": [
        "# y los 5 más similares son de las clases:\n",
        "for i in mostsim:\n",
        "  print(newsgroups_train.target_names[y_train[i]])"
      ]
    },
    {
      "cell_type": "markdown",
      "metadata": {
        "id": "zRoNnKwhBqzq"
      },
      "source": [
        "### Modelo de clasificación Naïve Bayes"
      ]
    },
    {
      "cell_type": "code",
      "execution_count": 19,
      "metadata": {
        "colab": {
          "base_uri": "https://localhost:8080/",
          "height": 74
        },
        "id": "TPM0thDaLk0R",
        "outputId": "bc7fdc3e-d912-4e0c-9d9e-33efc97b46fc"
      },
      "outputs": [
        {
          "data": {
            "text/html": [
              "<style>#sk-container-id-1 {\n",
              "  /* Definition of color scheme common for light and dark mode */\n",
              "  --sklearn-color-text: #000;\n",
              "  --sklearn-color-text-muted: #666;\n",
              "  --sklearn-color-line: gray;\n",
              "  /* Definition of color scheme for unfitted estimators */\n",
              "  --sklearn-color-unfitted-level-0: #fff5e6;\n",
              "  --sklearn-color-unfitted-level-1: #f6e4d2;\n",
              "  --sklearn-color-unfitted-level-2: #ffe0b3;\n",
              "  --sklearn-color-unfitted-level-3: chocolate;\n",
              "  /* Definition of color scheme for fitted estimators */\n",
              "  --sklearn-color-fitted-level-0: #f0f8ff;\n",
              "  --sklearn-color-fitted-level-1: #d4ebff;\n",
              "  --sklearn-color-fitted-level-2: #b3dbfd;\n",
              "  --sklearn-color-fitted-level-3: cornflowerblue;\n",
              "\n",
              "  /* Specific color for light theme */\n",
              "  --sklearn-color-text-on-default-background: var(--sg-text-color, var(--theme-code-foreground, var(--jp-content-font-color1, black)));\n",
              "  --sklearn-color-background: var(--sg-background-color, var(--theme-background, var(--jp-layout-color0, white)));\n",
              "  --sklearn-color-border-box: var(--sg-text-color, var(--theme-code-foreground, var(--jp-content-font-color1, black)));\n",
              "  --sklearn-color-icon: #696969;\n",
              "\n",
              "  @media (prefers-color-scheme: dark) {\n",
              "    /* Redefinition of color scheme for dark theme */\n",
              "    --sklearn-color-text-on-default-background: var(--sg-text-color, var(--theme-code-foreground, var(--jp-content-font-color1, white)));\n",
              "    --sklearn-color-background: var(--sg-background-color, var(--theme-background, var(--jp-layout-color0, #111)));\n",
              "    --sklearn-color-border-box: var(--sg-text-color, var(--theme-code-foreground, var(--jp-content-font-color1, white)));\n",
              "    --sklearn-color-icon: #878787;\n",
              "  }\n",
              "}\n",
              "\n",
              "#sk-container-id-1 {\n",
              "  color: var(--sklearn-color-text);\n",
              "}\n",
              "\n",
              "#sk-container-id-1 pre {\n",
              "  padding: 0;\n",
              "}\n",
              "\n",
              "#sk-container-id-1 input.sk-hidden--visually {\n",
              "  border: 0;\n",
              "  clip: rect(1px 1px 1px 1px);\n",
              "  clip: rect(1px, 1px, 1px, 1px);\n",
              "  height: 1px;\n",
              "  margin: -1px;\n",
              "  overflow: hidden;\n",
              "  padding: 0;\n",
              "  position: absolute;\n",
              "  width: 1px;\n",
              "}\n",
              "\n",
              "#sk-container-id-1 div.sk-dashed-wrapped {\n",
              "  border: 1px dashed var(--sklearn-color-line);\n",
              "  margin: 0 0.4em 0.5em 0.4em;\n",
              "  box-sizing: border-box;\n",
              "  padding-bottom: 0.4em;\n",
              "  background-color: var(--sklearn-color-background);\n",
              "}\n",
              "\n",
              "#sk-container-id-1 div.sk-container {\n",
              "  /* jupyter's `normalize.less` sets `[hidden] { display: none; }`\n",
              "     but bootstrap.min.css set `[hidden] { display: none !important; }`\n",
              "     so we also need the `!important` here to be able to override the\n",
              "     default hidden behavior on the sphinx rendered scikit-learn.org.\n",
              "     See: https://github.com/scikit-learn/scikit-learn/issues/21755 */\n",
              "  display: inline-block !important;\n",
              "  position: relative;\n",
              "}\n",
              "\n",
              "#sk-container-id-1 div.sk-text-repr-fallback {\n",
              "  display: none;\n",
              "}\n",
              "\n",
              "div.sk-parallel-item,\n",
              "div.sk-serial,\n",
              "div.sk-item {\n",
              "  /* draw centered vertical line to link estimators */\n",
              "  background-image: linear-gradient(var(--sklearn-color-text-on-default-background), var(--sklearn-color-text-on-default-background));\n",
              "  background-size: 2px 100%;\n",
              "  background-repeat: no-repeat;\n",
              "  background-position: center center;\n",
              "}\n",
              "\n",
              "/* Parallel-specific style estimator block */\n",
              "\n",
              "#sk-container-id-1 div.sk-parallel-item::after {\n",
              "  content: \"\";\n",
              "  width: 100%;\n",
              "  border-bottom: 2px solid var(--sklearn-color-text-on-default-background);\n",
              "  flex-grow: 1;\n",
              "}\n",
              "\n",
              "#sk-container-id-1 div.sk-parallel {\n",
              "  display: flex;\n",
              "  align-items: stretch;\n",
              "  justify-content: center;\n",
              "  background-color: var(--sklearn-color-background);\n",
              "  position: relative;\n",
              "}\n",
              "\n",
              "#sk-container-id-1 div.sk-parallel-item {\n",
              "  display: flex;\n",
              "  flex-direction: column;\n",
              "}\n",
              "\n",
              "#sk-container-id-1 div.sk-parallel-item:first-child::after {\n",
              "  align-self: flex-end;\n",
              "  width: 50%;\n",
              "}\n",
              "\n",
              "#sk-container-id-1 div.sk-parallel-item:last-child::after {\n",
              "  align-self: flex-start;\n",
              "  width: 50%;\n",
              "}\n",
              "\n",
              "#sk-container-id-1 div.sk-parallel-item:only-child::after {\n",
              "  width: 0;\n",
              "}\n",
              "\n",
              "/* Serial-specific style estimator block */\n",
              "\n",
              "#sk-container-id-1 div.sk-serial {\n",
              "  display: flex;\n",
              "  flex-direction: column;\n",
              "  align-items: center;\n",
              "  background-color: var(--sklearn-color-background);\n",
              "  padding-right: 1em;\n",
              "  padding-left: 1em;\n",
              "}\n",
              "\n",
              "\n",
              "/* Toggleable style: style used for estimator/Pipeline/ColumnTransformer box that is\n",
              "clickable and can be expanded/collapsed.\n",
              "- Pipeline and ColumnTransformer use this feature and define the default style\n",
              "- Estimators will overwrite some part of the style using the `sk-estimator` class\n",
              "*/\n",
              "\n",
              "/* Pipeline and ColumnTransformer style (default) */\n",
              "\n",
              "#sk-container-id-1 div.sk-toggleable {\n",
              "  /* Default theme specific background. It is overwritten whether we have a\n",
              "  specific estimator or a Pipeline/ColumnTransformer */\n",
              "  background-color: var(--sklearn-color-background);\n",
              "}\n",
              "\n",
              "/* Toggleable label */\n",
              "#sk-container-id-1 label.sk-toggleable__label {\n",
              "  cursor: pointer;\n",
              "  display: flex;\n",
              "  width: 100%;\n",
              "  margin-bottom: 0;\n",
              "  padding: 0.5em;\n",
              "  box-sizing: border-box;\n",
              "  text-align: center;\n",
              "  align-items: start;\n",
              "  justify-content: space-between;\n",
              "  gap: 0.5em;\n",
              "}\n",
              "\n",
              "#sk-container-id-1 label.sk-toggleable__label .caption {\n",
              "  font-size: 0.6rem;\n",
              "  font-weight: lighter;\n",
              "  color: var(--sklearn-color-text-muted);\n",
              "}\n",
              "\n",
              "#sk-container-id-1 label.sk-toggleable__label-arrow:before {\n",
              "  /* Arrow on the left of the label */\n",
              "  content: \"▸\";\n",
              "  float: left;\n",
              "  margin-right: 0.25em;\n",
              "  color: var(--sklearn-color-icon);\n",
              "}\n",
              "\n",
              "#sk-container-id-1 label.sk-toggleable__label-arrow:hover:before {\n",
              "  color: var(--sklearn-color-text);\n",
              "}\n",
              "\n",
              "/* Toggleable content - dropdown */\n",
              "\n",
              "#sk-container-id-1 div.sk-toggleable__content {\n",
              "  max-height: 0;\n",
              "  max-width: 0;\n",
              "  overflow: hidden;\n",
              "  text-align: left;\n",
              "  /* unfitted */\n",
              "  background-color: var(--sklearn-color-unfitted-level-0);\n",
              "}\n",
              "\n",
              "#sk-container-id-1 div.sk-toggleable__content.fitted {\n",
              "  /* fitted */\n",
              "  background-color: var(--sklearn-color-fitted-level-0);\n",
              "}\n",
              "\n",
              "#sk-container-id-1 div.sk-toggleable__content pre {\n",
              "  margin: 0.2em;\n",
              "  border-radius: 0.25em;\n",
              "  color: var(--sklearn-color-text);\n",
              "  /* unfitted */\n",
              "  background-color: var(--sklearn-color-unfitted-level-0);\n",
              "}\n",
              "\n",
              "#sk-container-id-1 div.sk-toggleable__content.fitted pre {\n",
              "  /* unfitted */\n",
              "  background-color: var(--sklearn-color-fitted-level-0);\n",
              "}\n",
              "\n",
              "#sk-container-id-1 input.sk-toggleable__control:checked~div.sk-toggleable__content {\n",
              "  /* Expand drop-down */\n",
              "  max-height: 200px;\n",
              "  max-width: 100%;\n",
              "  overflow: auto;\n",
              "}\n",
              "\n",
              "#sk-container-id-1 input.sk-toggleable__control:checked~label.sk-toggleable__label-arrow:before {\n",
              "  content: \"▾\";\n",
              "}\n",
              "\n",
              "/* Pipeline/ColumnTransformer-specific style */\n",
              "\n",
              "#sk-container-id-1 div.sk-label input.sk-toggleable__control:checked~label.sk-toggleable__label {\n",
              "  color: var(--sklearn-color-text);\n",
              "  background-color: var(--sklearn-color-unfitted-level-2);\n",
              "}\n",
              "\n",
              "#sk-container-id-1 div.sk-label.fitted input.sk-toggleable__control:checked~label.sk-toggleable__label {\n",
              "  background-color: var(--sklearn-color-fitted-level-2);\n",
              "}\n",
              "\n",
              "/* Estimator-specific style */\n",
              "\n",
              "/* Colorize estimator box */\n",
              "#sk-container-id-1 div.sk-estimator input.sk-toggleable__control:checked~label.sk-toggleable__label {\n",
              "  /* unfitted */\n",
              "  background-color: var(--sklearn-color-unfitted-level-2);\n",
              "}\n",
              "\n",
              "#sk-container-id-1 div.sk-estimator.fitted input.sk-toggleable__control:checked~label.sk-toggleable__label {\n",
              "  /* fitted */\n",
              "  background-color: var(--sklearn-color-fitted-level-2);\n",
              "}\n",
              "\n",
              "#sk-container-id-1 div.sk-label label.sk-toggleable__label,\n",
              "#sk-container-id-1 div.sk-label label {\n",
              "  /* The background is the default theme color */\n",
              "  color: var(--sklearn-color-text-on-default-background);\n",
              "}\n",
              "\n",
              "/* On hover, darken the color of the background */\n",
              "#sk-container-id-1 div.sk-label:hover label.sk-toggleable__label {\n",
              "  color: var(--sklearn-color-text);\n",
              "  background-color: var(--sklearn-color-unfitted-level-2);\n",
              "}\n",
              "\n",
              "/* Label box, darken color on hover, fitted */\n",
              "#sk-container-id-1 div.sk-label.fitted:hover label.sk-toggleable__label.fitted {\n",
              "  color: var(--sklearn-color-text);\n",
              "  background-color: var(--sklearn-color-fitted-level-2);\n",
              "}\n",
              "\n",
              "/* Estimator label */\n",
              "\n",
              "#sk-container-id-1 div.sk-label label {\n",
              "  font-family: monospace;\n",
              "  font-weight: bold;\n",
              "  display: inline-block;\n",
              "  line-height: 1.2em;\n",
              "}\n",
              "\n",
              "#sk-container-id-1 div.sk-label-container {\n",
              "  text-align: center;\n",
              "}\n",
              "\n",
              "/* Estimator-specific */\n",
              "#sk-container-id-1 div.sk-estimator {\n",
              "  font-family: monospace;\n",
              "  border: 1px dotted var(--sklearn-color-border-box);\n",
              "  border-radius: 0.25em;\n",
              "  box-sizing: border-box;\n",
              "  margin-bottom: 0.5em;\n",
              "  /* unfitted */\n",
              "  background-color: var(--sklearn-color-unfitted-level-0);\n",
              "}\n",
              "\n",
              "#sk-container-id-1 div.sk-estimator.fitted {\n",
              "  /* fitted */\n",
              "  background-color: var(--sklearn-color-fitted-level-0);\n",
              "}\n",
              "\n",
              "/* on hover */\n",
              "#sk-container-id-1 div.sk-estimator:hover {\n",
              "  /* unfitted */\n",
              "  background-color: var(--sklearn-color-unfitted-level-2);\n",
              "}\n",
              "\n",
              "#sk-container-id-1 div.sk-estimator.fitted:hover {\n",
              "  /* fitted */\n",
              "  background-color: var(--sklearn-color-fitted-level-2);\n",
              "}\n",
              "\n",
              "/* Specification for estimator info (e.g. \"i\" and \"?\") */\n",
              "\n",
              "/* Common style for \"i\" and \"?\" */\n",
              "\n",
              ".sk-estimator-doc-link,\n",
              "a:link.sk-estimator-doc-link,\n",
              "a:visited.sk-estimator-doc-link {\n",
              "  float: right;\n",
              "  font-size: smaller;\n",
              "  line-height: 1em;\n",
              "  font-family: monospace;\n",
              "  background-color: var(--sklearn-color-background);\n",
              "  border-radius: 1em;\n",
              "  height: 1em;\n",
              "  width: 1em;\n",
              "  text-decoration: none !important;\n",
              "  margin-left: 0.5em;\n",
              "  text-align: center;\n",
              "  /* unfitted */\n",
              "  border: var(--sklearn-color-unfitted-level-1) 1pt solid;\n",
              "  color: var(--sklearn-color-unfitted-level-1);\n",
              "}\n",
              "\n",
              ".sk-estimator-doc-link.fitted,\n",
              "a:link.sk-estimator-doc-link.fitted,\n",
              "a:visited.sk-estimator-doc-link.fitted {\n",
              "  /* fitted */\n",
              "  border: var(--sklearn-color-fitted-level-1) 1pt solid;\n",
              "  color: var(--sklearn-color-fitted-level-1);\n",
              "}\n",
              "\n",
              "/* On hover */\n",
              "div.sk-estimator:hover .sk-estimator-doc-link:hover,\n",
              ".sk-estimator-doc-link:hover,\n",
              "div.sk-label-container:hover .sk-estimator-doc-link:hover,\n",
              ".sk-estimator-doc-link:hover {\n",
              "  /* unfitted */\n",
              "  background-color: var(--sklearn-color-unfitted-level-3);\n",
              "  color: var(--sklearn-color-background);\n",
              "  text-decoration: none;\n",
              "}\n",
              "\n",
              "div.sk-estimator.fitted:hover .sk-estimator-doc-link.fitted:hover,\n",
              ".sk-estimator-doc-link.fitted:hover,\n",
              "div.sk-label-container:hover .sk-estimator-doc-link.fitted:hover,\n",
              ".sk-estimator-doc-link.fitted:hover {\n",
              "  /* fitted */\n",
              "  background-color: var(--sklearn-color-fitted-level-3);\n",
              "  color: var(--sklearn-color-background);\n",
              "  text-decoration: none;\n",
              "}\n",
              "\n",
              "/* Span, style for the box shown on hovering the info icon */\n",
              ".sk-estimator-doc-link span {\n",
              "  display: none;\n",
              "  z-index: 9999;\n",
              "  position: relative;\n",
              "  font-weight: normal;\n",
              "  right: .2ex;\n",
              "  padding: .5ex;\n",
              "  margin: .5ex;\n",
              "  width: min-content;\n",
              "  min-width: 20ex;\n",
              "  max-width: 50ex;\n",
              "  color: var(--sklearn-color-text);\n",
              "  box-shadow: 2pt 2pt 4pt #999;\n",
              "  /* unfitted */\n",
              "  background: var(--sklearn-color-unfitted-level-0);\n",
              "  border: .5pt solid var(--sklearn-color-unfitted-level-3);\n",
              "}\n",
              "\n",
              ".sk-estimator-doc-link.fitted span {\n",
              "  /* fitted */\n",
              "  background: var(--sklearn-color-fitted-level-0);\n",
              "  border: var(--sklearn-color-fitted-level-3);\n",
              "}\n",
              "\n",
              ".sk-estimator-doc-link:hover span {\n",
              "  display: block;\n",
              "}\n",
              "\n",
              "/* \"?\"-specific style due to the `<a>` HTML tag */\n",
              "\n",
              "#sk-container-id-1 a.estimator_doc_link {\n",
              "  float: right;\n",
              "  font-size: 1rem;\n",
              "  line-height: 1em;\n",
              "  font-family: monospace;\n",
              "  background-color: var(--sklearn-color-background);\n",
              "  border-radius: 1rem;\n",
              "  height: 1rem;\n",
              "  width: 1rem;\n",
              "  text-decoration: none;\n",
              "  /* unfitted */\n",
              "  color: var(--sklearn-color-unfitted-level-1);\n",
              "  border: var(--sklearn-color-unfitted-level-1) 1pt solid;\n",
              "}\n",
              "\n",
              "#sk-container-id-1 a.estimator_doc_link.fitted {\n",
              "  /* fitted */\n",
              "  border: var(--sklearn-color-fitted-level-1) 1pt solid;\n",
              "  color: var(--sklearn-color-fitted-level-1);\n",
              "}\n",
              "\n",
              "/* On hover */\n",
              "#sk-container-id-1 a.estimator_doc_link:hover {\n",
              "  /* unfitted */\n",
              "  background-color: var(--sklearn-color-unfitted-level-3);\n",
              "  color: var(--sklearn-color-background);\n",
              "  text-decoration: none;\n",
              "}\n",
              "\n",
              "#sk-container-id-1 a.estimator_doc_link.fitted:hover {\n",
              "  /* fitted */\n",
              "  background-color: var(--sklearn-color-fitted-level-3);\n",
              "}\n",
              "</style><div id=\"sk-container-id-1\" class=\"sk-top-container\"><div class=\"sk-text-repr-fallback\"><pre>MultinomialNB()</pre><b>In a Jupyter environment, please rerun this cell to show the HTML representation or trust the notebook. <br />On GitHub, the HTML representation is unable to render, please try loading this page with nbviewer.org.</b></div><div class=\"sk-container\" hidden><div class=\"sk-item\"><div class=\"sk-estimator fitted sk-toggleable\"><input class=\"sk-toggleable__control sk-hidden--visually\" id=\"sk-estimator-id-1\" type=\"checkbox\" checked><label for=\"sk-estimator-id-1\" class=\"sk-toggleable__label fitted sk-toggleable__label-arrow\"><div><div>MultinomialNB</div></div><div><a class=\"sk-estimator-doc-link fitted\" rel=\"noreferrer\" target=\"_blank\" href=\"https://scikit-learn.org/1.6/modules/generated/sklearn.naive_bayes.MultinomialNB.html\">?<span>Documentation for MultinomialNB</span></a><span class=\"sk-estimator-doc-link fitted\">i<span>Fitted</span></span></div></label><div class=\"sk-toggleable__content fitted\"><pre>MultinomialNB()</pre></div> </div></div></div></div>"
            ],
            "text/plain": [
              "MultinomialNB()"
            ]
          },
          "execution_count": 19,
          "metadata": {},
          "output_type": "execute_result"
        }
      ],
      "source": [
        "# es muy fácil instanciar un modelo de clasificación Naïve Bayes y entrenarlo con sklearn\n",
        "clf = MultinomialNB()\n",
        "clf.fit(X_train, y_train)"
      ]
    },
    {
      "cell_type": "code",
      "execution_count": 20,
      "metadata": {
        "id": "NrQjzM48Mu4T"
      },
      "outputs": [],
      "source": [
        "# con nuestro vectorizador ya fiteado en train, vectorizamos los textos\n",
        "# del conjunto de test\n",
        "X_test = tfidfvect.transform(newsgroups_test.data)\n",
        "y_test = newsgroups_test.target\n",
        "y_pred =  clf.predict(X_test)"
      ]
    },
    {
      "cell_type": "code",
      "execution_count": 21,
      "metadata": {
        "colab": {
          "base_uri": "https://localhost:8080/"
        },
        "id": "UkGJhetEPdA4",
        "outputId": "232ee2ce-e904-466e-be57-babc1f319029"
      },
      "outputs": [
        {
          "data": {
            "text/plain": [
              "0.5854345727938506"
            ]
          },
          "execution_count": 21,
          "metadata": {},
          "output_type": "execute_result"
        }
      ],
      "source": [
        "# el F1-score es una metrica adecuada para reportar desempeño de modelos de claificación\n",
        "# es robusta al desbalance de clases. El promediado 'macro' es el promedio de los\n",
        "# F1-score de cada clase. El promedio 'micro' es equivalente a la accuracy que no\n",
        "# es una buena métrica cuando los datasets son desbalanceados\n",
        "f1_score(y_test, y_pred, average='macro')"
      ]
    },
    {
      "cell_type": "markdown",
      "metadata": {
        "id": "McArD4rSDR2K"
      },
      "source": [
        "### Consigna del desafío 1"
      ]
    },
    {
      "cell_type": "markdown",
      "metadata": {
        "id": "lJgf6GQIIEH1"
      },
      "source": [
        "**1**. Vectorizar documentos. Tomar 5 documentos al azar y medir similaridad con el resto de los documentos.\n",
        "Estudiar los 5 documentos más similares de cada uno analizar si tiene sentido\n",
        "la similaridad según el contenido del texto y la etiqueta de clasificación.\n",
        "\n",
        "**2**. Entrenar modelos de clasificación Naïve Bayes para maximizar el desempeño de clasificación\n",
        "(f1-score macro) en el conjunto de datos de test. Considerar cambiar parámteros\n",
        "de instanciación del vectorizador y los modelos y probar modelos de Naïve Bayes Multinomial\n",
        "y ComplementNB.\n",
        "\n",
        "**3**. Transponer la matriz documento-término. De esa manera se obtiene una matriz\n",
        "término-documento que puede ser interpretada como una colección de vectorización de palabras.\n",
        "Estudiar ahora similaridad entre palabras tomando 5 palabras y estudiando sus 5 más similares. **La elección de palabras no debe ser al azar para evitar la aparición de términos poco interpretables, elegirlas \"manualmente\"**.\n"
      ]
    },
    {
      "cell_type": "markdown",
      "metadata": {},
      "source": []
    },
    {
      "cell_type": "code",
      "execution_count": 61,
      "metadata": {},
      "outputs": [],
      "source": [
        "from sklearn.feature_extraction.text import CountVectorizer, TfidfVectorizer, CountVectorizer\n",
        "from sklearn.metrics.pairwise import cosine_similarity\n",
        "from sklearn.naive_bayes import MultinomialNB, ComplementNB\n",
        "from sklearn.metrics import f1_score\n",
        "import random\n",
        "\n",
        "# 20newsgroups por ser un dataset clásico de NLP ya viene incluido y formateado\n",
        "# en sklearn\n",
        "from sklearn.datasets import fetch_20newsgroups\n",
        "import numpy as np"
      ]
    },
    {
      "cell_type": "markdown",
      "metadata": {},
      "source": [
        "### **1)** Vectorizar documentos. Tomar 5 documentos al azar y medir similaridad con el resto de los documentos. Estudiar los 5 documentos más similares de cada uno analizar si tiene sentido la similaridad según el contenido del texto y la etiqueta de clasificación."
      ]
    },
    {
      "cell_type": "code",
      "execution_count": 76,
      "metadata": {},
      "outputs": [],
      "source": [
        "def analizar_similitud_documentos(X_train, y_train, target_names, vectorizer, n=5, m=10, seed=42):\n",
        "    import random\n",
        "    import numpy as np\n",
        "    from sklearn.metrics.pairwise import cosine_similarity\n",
        "\n",
        "    random.seed(seed)\n",
        "    idxs = random.sample(range(0, X_train.shape[0]), n)\n",
        "    vocab = np.array(vectorizer.get_feature_names_out())\n",
        "\n",
        "    for i in idxs:\n",
        "        print(\"DOC ELEGIDO:\")\n",
        "        print(f\"{target_names[y_train[i]]} -->\", end=\" \")\n",
        "\n",
        "        fila = X_train[i].toarray().flatten()\n",
        "        top_words_idx = np.argsort(fila)[::-1][:m]\n",
        "        print(\", \".join(vocab[top_words_idx]))\n",
        "\n",
        "        cossim = cosine_similarity(X_train[i], X_train)[0]\n",
        "        mostsim = np.argsort(cossim)[::-1][1:n+1]\n",
        "\n",
        "        print(\"DOCS MÁS SIMILARES:\")\n",
        "        for j in mostsim:\n",
        "            fila_j = X_train[j].toarray().flatten()\n",
        "            top_words_j = np.argsort(fila_j)[::-1][:m]\n",
        "            simil = cossim[j]\n",
        "            print(f\"{target_names[y_train[j]]} (simil: {simil:.3f}) -->\", \", \".join(vocab[top_words_j]))\n",
        "        print(\"-------\")\n",
        "\n"
      ]
    },
    {
      "cell_type": "markdown",
      "metadata": {},
      "source": [
        "Se aplica tanto **TF-IDF** como **CountVectorizer** y se utiliza la similaridad coseno para comparar documentos. Se seleccionan documentos al azar y se identifican los 5 más similares en función de la similaridad coseno. En cada caso se imprime la clase del documento elegido, la clase de los más similares, el valor de similaridad coseno y los 10 términos con mayor peso según el vectorizador utilizado (**TF-IDF** o **CountVectorizer**).\n",
        "\n",
        "**Considerando TF-IDF:**\n",
        "\n",
        "Se observa que en algunas clases, incluso con valores bajos de similaridad coseno, los documentos más similares pertenecen a la misma clase. En otros casos ocurre lo contrario: se obtienen valores de similaridad más altos, pero los documentos similares pertenecen a clases distintas. Esto sugiere que la efectividad de la vectorización depende del tipo de contenido de cada documento y de cada clase.\n",
        "\n",
        "En varios casos, los documentos más similares comparten términos con alto peso TF-IDF. Por ejemplo, el término `pov` aparece entre los más relevantes tanto en el documento elegido de la clase `comp.graphics` como en los documentos más similares, que también pertenecen a esa misma clase. Lo mismo se observa en la clase `comp.sys.mac.hardware`, donde los documentos cercanos comparten términos representativos como `processor` y coinciden en la misma categoría.\n",
        "\n",
        "También se observa que, en algunos casos, los documentos más similares no pertenecen a la misma clase, pero comparten vocabulario temáticamente relacionado. Por ejemplo, el documento elegido que pertenece la clase `rec.autos` resultó tener como uno de sus documentos más similares a otro de la clase `rec.motorcycles`. Aunque pertenecen a categorías distintas, comparten términos específicos como `oil`, lo cual explica su cercanía en el espacio vectorial.\n",
        "\n",
        "Esto sugiere que los términos con mayor peso en el vector TF-IDF son clave para definir la dirección del vector utilizado en el cálculo del coseno. Algunos de estos términos más representativos coinciden entre documentos de la misma clase, lo que refuerza la coherencia temática. Sin embargo, en otros casos también aparecen coincidencias entre clases diferentes, lo que refleja solapamientos en el vocabulario y puede generar ambigüedades en la comparación.\n",
        "\n",
        "**Considerando CountVectorizer:** \n",
        "\n",
        "En este caso, los valores de similaridad coseno son más altos en general, pero los documentos más similares no suelen pertenecer a la misma clase que el documento elegido, ni coinciden entre ellos. Esto se debe a que la vectorización asigna pesos (valores numéricos) altos a términos comunes entre todas las clases, que no aportan información útil para distinguir temáticas (por ejemplo, palabras como `the`, `and`, `to`, etc.). Esto reduce la capacidad del modelo para discriminar documentos según su contenido real.\n",
        "\n",
        "Este problema se corrige al utilizar TF-IDF, donde el término IDF penaliza las palabras frecuentes en todos los documentos. De esa forma, se reduce el peso de términos que no son representativos de una clase en particular.\n",
        "\n"
      ]
    },
    {
      "cell_type": "code",
      "execution_count": 77,
      "metadata": {},
      "outputs": [
        {
          "name": "stdout",
          "output_type": "stream",
          "text": [
            "DOC ELEGIDO:\n",
            "rec.sport.hockey --> series, coverage, canada, watch, games, swamped, news, precedence, televised, nationally\n",
            "DOCS MÁS SIMILARES:\n",
            "rec.sport.hockey (simil: 0.225) --> detroit, chicago, games, exciting, classic, mon, playoff, boston, fan, realize\n",
            "talk.politics.mideast (simil: 0.217) --> the, and, they, were, was, that, he, to, you, it\n",
            "sci.crypt (simil: 0.216) --> the, to, it, not, is, rights, this, be, government, clipper\n",
            "alt.atheism (simil: 0.213) --> the, of, is, god, that, in, to, atheists, universe, it\n",
            "sci.crypt (simil: 0.211) --> the, internet, anonymity, anonymous, and, privacy, of, is, to, are\n",
            "-------\n",
            "DOC ELEGIDO:\n",
            "comp.sys.mac.hardware --> processor, 040, transidental, speed, its, is, functions, 486, increase, can\n",
            "DOCS MÁS SIMILARES:\n",
            "comp.sys.mac.hardware (simil: 0.354) --> speed, 20ns, memory, processor, clock, system, as, the, kitabjian, dhk\n",
            "comp.sys.mac.hardware (simil: 0.313) --> dock, processor, 040, apple, notebook, duo, powerbook, power, the, okay\n",
            "comp.sys.mac.hardware (simil: 0.304) --> architecture, speed, processor, cpu, performance, ravikuma, riddance, bfd, ux4, dweebs\n",
            "comp.sys.mac.hardware (simil: 0.250) --> 040, lc040, fpu, the, full, option, configurations, an, pop, configuration\n",
            "comp.sys.mac.hardware (simil: 0.242) --> fpu, centris, 68rc040, processor, memo, 68lc040, configurations, apple, 650, non\n",
            "-------\n",
            "DOC ELEGIDO:\n",
            "comp.graphics --> tga, pov, fiqure, unrecognizable, compiling, outputs, parameters, sunos, compiled, sample\n",
            "DOCS MÁS SIMILARES:\n",
            "comp.graphics (simil: 0.231) --> ish, povray, outputs, pov, graphic, craig, package, wondering, appreciated, files\n",
            "comp.graphics (simil: 0.209) --> tga, speedstar, 24, he, may, malloy, files, pleases, program, povray\n",
            "comp.graphics (simil: 0.198) --> pov, hallo, bocax3, univesa, renderers, rendering, displaying, ve, colors, options\n",
            "comp.graphics (simil: 0.184) --> pov, 3dstudio, animation, object, 3dstusio, unfortanatly, about, prix, simulating, apreciate\n",
            "comp.graphics (simil: 0.166) --> files, hpgl, tif, img, plotter, tga, laserjet, converting, pd, utility\n",
            "-------\n",
            "DOC ELEGIDO:\n",
            "rec.autos --> grit, pan, settle, tends, oil, hot, opinions, leave, sound, told\n",
            "DOCS MÁS SIMILARES:\n",
            "rec.motorcycles (simil: 0.189) --> oil, miles, bikes, quits, quart, three, the, consumption, sooner, stops\n",
            "comp.sys.mac.hardware (simil: 0.168) --> sound, soundbase, to, the, hardware, developers, mono, apple, mac, on\n",
            "rec.autos (simil: 0.158) --> the, fluids, brake, abs, dot, braking, car, oil, tires, of\n",
            "rec.autos (simil: 0.158) --> engine, leak, tire, cool, oil, accurate, fix, hot, station, gas\n",
            "rec.autos (simil: 0.152) --> svx, subaru, oil, dealer, the, change, stubid, looks, took, she\n",
            "-------\n",
            "DOC ELEGIDO:\n",
            "rec.sport.hockey --> thursday, return, osborne, zezel, slated, ellett, cullen, leaf, questionable, winnipeg\n",
            "DOCS MÁS SIMILARES:\n",
            "soc.religion.christian (simil: 0.160) --> peter, warns, scriptures, learned, often, understand, subject, 16, hard, true\n",
            "rec.sport.hockey (simil: 0.143) --> fans, leaf, msu, vergolin, euler, 1qvos8, r78, vergolini, woofers, lurking\n",
            "rec.sport.hockey (simil: 0.136) --> detroit, vancouver, pp, scorer, period, pts, toronto, winnipeg, racine, drake\n",
            "rec.sport.hockey (simil: 0.132) --> toronto, detroit, team, game, ballard, disciplined, burnt, gilmour, europeans, resort\n",
            "rec.sport.baseball (simil: 0.131) --> toronto, tickets, cleveland, tribe, 19th, trip, the, fans, town, easier\n",
            "-------\n"
          ]
        }
      ],
      "source": [
        "tfidfvect = TfidfVectorizer()\n",
        "X_train = tfidfvect.fit_transform(newsgroups_train.data)\n",
        "y_train = newsgroups_train.target\n",
        "target_names = newsgroups_train.target_names\n",
        "analizar_similitud_documentos(X_train, y_train, target_names, tfidfvect)\n"
      ]
    },
    {
      "cell_type": "code",
      "execution_count": 78,
      "metadata": {},
      "outputs": [
        {
          "name": "stdout",
          "output_type": "stream",
          "text": [
            "DOC ELEGIDO:\n",
            "rec.sport.hockey --> the, is, in, not, and, to, series, are, how, games\n",
            "DOCS MÁS SIMILARES:\n",
            "talk.politics.mideast (simil: 0.644) --> the, to, not, is, in, of, it, and, that, they\n",
            "sci.crypt (simil: 0.643) --> the, and, to, of, is, in, are, on, or, that\n",
            "rec.autos (simil: 0.639) --> the, of, is, in, and, to, are, they, that, radar\n",
            "sci.med (simil: 0.638) --> the, and, of, in, is, to, it, candida, this, for\n",
            "comp.windows.x (simil: 0.637) --> the, to, is, and, of, in, for, it, this, widget\n",
            "-------\n",
            "DOC ELEGIDO:\n",
            "comp.sys.mac.hardware --> is, processor, to, its, can, you, not, speed, the, or\n",
            "DOCS MÁS SIMILARES:\n",
            "alt.atheism (simil: 0.609) --> of, is, the, to, that, and, it, not, or, can\n",
            "soc.religion.christian (simil: 0.598) --> to, is, the, it, that, but, not, you, have, be\n",
            "talk.politics.guns (simil: 0.590) --> the, is, to, of, that, it, in, and, on, for\n",
            "alt.atheism (simil: 0.589) --> to, the, is, that, of, you, it, are, and, in\n",
            "soc.religion.christian (simil: 0.581) --> the, that, is, of, to, you, in, are, it, and\n",
            "-------\n",
            "DOC ELEGIDO:\n",
            "comp.graphics --> the, when, are, pov, tga, and, compiling, on, parameters, fiqure\n",
            "DOCS MÁS SIMILARES:\n",
            "rec.autos (simil: 0.579) --> the, of, and, to, is, in, are, that, it, on\n",
            "soc.religion.christian (simil: 0.572) --> the, of, and, to, are, that, bible, is, they, this\n",
            "sci.crypt (simil: 0.570) --> the, and, to, of, is, in, are, on, or, that\n",
            "talk.politics.misc (simil: 0.561) --> the, of, to, and, is, are, in, that, has, on\n",
            "comp.sys.mac.hardware (simil: 0.557) --> the, and, have, problem, to, battery, when, is, machine, of\n",
            "-------\n",
            "DOC ELEGIDO:\n",
            "rec.autos --> to, the, it, grit, old, has, does, time, also, much\n",
            "DOCS MÁS SIMILARES:\n",
            "rec.autos (simil: 0.586) --> the, to, it, in, and, this, water, is, with, other\n",
            "comp.sys.mac.hardware (simil: 0.548) --> the, to, switch, and, it, with, any, speeds, on, can\n",
            "talk.politics.misc (simil: 0.548) --> the, to, and, of, in, that, we, this, it, for\n",
            "sci.crypt (simil: 0.546) --> the, to, it, not, is, encryption, who, that, and, of\n",
            "comp.sys.mac.hardware (simil: 0.544) --> to, the, it, make, with, but, am, mac, in, seem\n",
            "-------\n",
            "DOC ELEGIDO:\n",
            "rec.sport.hockey --> are, on, for, return, thursday, toronto, zezel, osborne, leaf, players\n",
            "DOCS MÁS SIMILARES:\n",
            "soc.religion.christian (simil: 0.395) --> are, peter, the, those, true, learned, 16, also, warns, who\n",
            "soc.religion.christian (simil: 0.378) --> the, are, god, that, of, on, serbs, and, who, those\n",
            "soc.religion.christian (simil: 0.370) --> the, are, to, tasks, god, not, him, of, those, serbs\n",
            "talk.politics.mideast (simil: 0.362) --> the, are, to, is, and, of, for, they, it, that\n",
            "rec.sport.baseball (simil: 0.361) --> are, the, on, back, his, up, dl, weekend, planning, they\n",
            "-------\n"
          ]
        }
      ],
      "source": [
        "countvect = CountVectorizer()\n",
        "X_train = countvect.fit_transform(newsgroups_train.data)\n",
        "analizar_similitud_documentos(X_train, y_train, target_names, countvect)"
      ]
    },
    {
      "cell_type": "markdown",
      "metadata": {},
      "source": [
        "### **2)** Entrenar modelos de clasificación Naïve Bayes para maximizar el desempeño de clasificación (f1-score macro) en el conjunto de datos de test. Considerar cambiar parámteros de instanciación del vectorizador y los modelos y probar modelos de Naïve Bayes Multinomial y ComplementNB."
      ]
    },
    {
      "cell_type": "markdown",
      "metadata": {},
      "source": [
        "### Análisis de sensibilidad de parámetros\n",
        "\n",
        "Se prueban distintas combinaciones de parámetros del vectorizador y del modelo para evaluar cómo afectan al F1-score macro en el conjunto de test.\n",
        "\n",
        "**Parámetros del vectorizador:**\n",
        "\n",
        "- `stop_words`: se usa `'english'` para eliminar palabras muy comunes que no ayudan a distinguir clases. También se prueba `None`.\n",
        "- `max_features`: para limitar la cantidad de palabras del vocabulario (uso 1000, 10000 y 100000).\n",
        "- `ngram_range`: pruebo unigrams `(1,1)` y unigrams + bigrams `(1,2)` para capturar contexto.\n",
        "- `min_df` y `max_df`: para filtrar palabras que aparecen en muy pocos o en casi todos los documentos.\n",
        "\n",
        "**Parámetros del modelo:**\n",
        "\n",
        "- `alpha`: con esto se controla el suavizado. Pruebo los valores 0.01, 0.1 1.0 y 10.0.\n",
        "- `model_class`: comparo `MultinomialNB` y `ComplementNB`.\n",
        "\n",
        "Evalúo el impacto de cada parámetro usando F1-score para ver qué combinaciones dan mejores resultados.\n"
      ]
    },
    {
      "cell_type": "code",
      "execution_count": 97,
      "metadata": {},
      "outputs": [],
      "source": [
        "def evaluar_naive_bayes_parametrico(\n",
        "    vectorizer_class,\n",
        "    vectorizer_params,\n",
        "    model_class,\n",
        "    alpha,\n",
        "    train_data,\n",
        "    test_data,\n",
        "    train_labels,\n",
        "    test_labels\n",
        "):\n",
        "    # Instanciación del vectorizador con parámetros\n",
        "    vectorizer = vectorizer_class(**vectorizer_params)\n",
        "    X_train = vectorizer.fit_transform(train_data)\n",
        "    X_test = vectorizer.transform(test_data)\n",
        "\n",
        "    # Instanciación y entrenamiento del modelo\n",
        "    modelo = model_class(alpha=alpha)\n",
        "    modelo.fit(X_train, train_labels)\n",
        "    y_pred = modelo.predict(X_test)\n",
        "\n",
        "    # Evaluación\n",
        "    f1 = f1_score(test_labels, y_pred, average='macro')\n",
        "    print(f\"{model_class.__name__} con {vectorizer_class.__name__} | \"\n",
        "          f\"alpha={alpha}, params={vectorizer_params} -> F1-Score: {f1:.4f}\")"
      ]
    },
    {
      "cell_type": "code",
      "execution_count": 99,
      "metadata": {},
      "outputs": [
        {
          "name": "stdout",
          "output_type": "stream",
          "text": [
            "### Variación de alpha\n",
            "MultinomialNB con TfidfVectorizer | alpha=0.01, params={'stop_words': 'english', 'max_features': 10000, 'ngram_range': (1, 1), 'min_df': 2, 'max_df': 0.9} -> F1-Score: 0.6518\n",
            "MultinomialNB con TfidfVectorizer | alpha=0.1, params={'stop_words': 'english', 'max_features': 10000, 'ngram_range': (1, 1), 'min_df': 2, 'max_df': 0.9} -> F1-Score: 0.6634\n",
            "MultinomialNB con TfidfVectorizer | alpha=1.0, params={'stop_words': 'english', 'max_features': 10000, 'ngram_range': (1, 1), 'min_df': 2, 'max_df': 0.9} -> F1-Score: 0.6469\n",
            "MultinomialNB con TfidfVectorizer | alpha=10.0, params={'stop_words': 'english', 'max_features': 10000, 'ngram_range': (1, 1), 'min_df': 2, 'max_df': 0.9} -> F1-Score: 0.5853\n",
            "\n",
            "### Variación de stop_words\n",
            "MultinomialNB con TfidfVectorizer | alpha=1.0, params={'stop_words': 'english', 'max_features': 10000, 'ngram_range': (1, 1), 'min_df': 2, 'max_df': 0.9} -> F1-Score: 0.6469\n",
            "MultinomialNB con TfidfVectorizer | alpha=1.0, params={'stop_words': None, 'max_features': 10000, 'ngram_range': (1, 1), 'min_df': 2, 'max_df': 0.9} -> F1-Score: 0.6156\n",
            "\n",
            "### Variación de ngram_range\n",
            "MultinomialNB con TfidfVectorizer | alpha=1.0, params={'stop_words': 'english', 'max_features': 10000, 'ngram_range': (1, 1), 'min_df': 2, 'max_df': 0.9} -> F1-Score: 0.6469\n",
            "MultinomialNB con TfidfVectorizer | alpha=1.0, params={'stop_words': 'english', 'max_features': 10000, 'ngram_range': (1, 2), 'min_df': 2, 'max_df': 0.9} -> F1-Score: 0.6423\n",
            "\n",
            "### Variación de max_features\n",
            "MultinomialNB con TfidfVectorizer | alpha=1.0, params={'stop_words': 'english', 'max_features': 1000, 'ngram_range': (1, 1), 'min_df': 2, 'max_df': 0.9} -> F1-Score: 0.5039\n",
            "MultinomialNB con TfidfVectorizer | alpha=1.0, params={'stop_words': 'english', 'max_features': 10000, 'ngram_range': (1, 1), 'min_df': 2, 'max_df': 0.9} -> F1-Score: 0.6469\n",
            "MultinomialNB con TfidfVectorizer | alpha=1.0, params={'stop_words': 'english', 'max_features': 100000, 'ngram_range': (1, 1), 'min_df': 2, 'max_df': 0.9} -> F1-Score: 0.6512\n",
            "\n",
            "### Variación de model_class\n",
            "MultinomialNB con TfidfVectorizer | alpha=1.0, params={'stop_words': 'english', 'max_features': 10000, 'ngram_range': (1, 1), 'min_df': 2, 'max_df': 0.9} -> F1-Score: 0.6469\n",
            "ComplementNB con TfidfVectorizer | alpha=1.0, params={'stop_words': 'english', 'max_features': 10000, 'ngram_range': (1, 1), 'min_df': 2, 'max_df': 0.9} -> F1-Score: 0.6664\n",
            "\n",
            "### Variación de vectorizer_class\n",
            "MultinomialNB con TfidfVectorizer | alpha=1.0, params={'stop_words': 'english', 'max_features': 10000, 'ngram_range': (1, 1), 'min_df': 2, 'max_df': 0.9} -> F1-Score: 0.6469\n",
            "MultinomialNB con CountVectorizer | alpha=1.0, params={'stop_words': 'english', 'max_features': 10000, 'ngram_range': (1, 1), 'min_df': 2, 'max_df': 0.9} -> F1-Score: 0.6024\n",
            "\n",
            "### Variación de min_df y max_df\n",
            "MultinomialNB con TfidfVectorizer | alpha=1.0, params={'stop_words': 'english', 'max_features': 10000, 'ngram_range': (1, 1), 'min_df': 1, 'max_df': 1.0} -> F1-Score: 0.6462\n",
            "MultinomialNB con TfidfVectorizer | alpha=1.0, params={'stop_words': 'english', 'max_features': 10000, 'ngram_range': (1, 1), 'min_df': 2, 'max_df': 0.9} -> F1-Score: 0.6469\n",
            "MultinomialNB con TfidfVectorizer | alpha=1.0, params={'stop_words': 'english', 'max_features': 10000, 'ngram_range': (1, 1), 'min_df': 5, 'max_df': 0.8} -> F1-Score: 0.6487\n"
          ]
        }
      ],
      "source": [
        "# Valores base para cada parámetro\n",
        "base_params = {\n",
        "    'stop_words': 'english',\n",
        "    'max_features': 10000,\n",
        "    'ngram_range': (1, 1),\n",
        "    'min_df': 2,\n",
        "    'max_df': 0.9\n",
        "}\n",
        "base_alpha = 1.0\n",
        "vectorizer_classes = [TfidfVectorizer, CountVectorizer]\n",
        "model_classes = [MultinomialNB, ComplementNB]\n",
        "\n",
        "# Variación 1: cambiar alpha\n",
        "print(\"### Variación de alpha\")\n",
        "for alpha in [0.01, 0.1, 1.0, 10.0]:\n",
        "    evaluar_naive_bayes_parametrico(\n",
        "        vectorizer_class=TfidfVectorizer,\n",
        "        vectorizer_params=base_params,\n",
        "        model_class=MultinomialNB,\n",
        "        alpha=alpha,\n",
        "        train_data=newsgroups_train.data,\n",
        "        test_data=newsgroups_test.data,\n",
        "        train_labels=newsgroups_train.target,\n",
        "        test_labels=newsgroups_test.target\n",
        "    )\n",
        "\n",
        "# Variación 2: cambiar stop_words\n",
        "print(\"\\n### Variación de stop_words\")\n",
        "for sw in ['english', None]:\n",
        "    params = base_params.copy()\n",
        "    params['stop_words'] = sw\n",
        "    evaluar_naive_bayes_parametrico(\n",
        "        vectorizer_class=TfidfVectorizer,\n",
        "        vectorizer_params=params,\n",
        "        model_class=MultinomialNB,\n",
        "        alpha=base_alpha,\n",
        "        train_data=newsgroups_train.data,\n",
        "        test_data=newsgroups_test.data,\n",
        "        train_labels=newsgroups_train.target,\n",
        "        test_labels=newsgroups_test.target\n",
        "    )\n",
        "\n",
        "# Variación 3: cambiar ngram_range\n",
        "print(\"\\n### Variación de ngram_range\")\n",
        "for ngram in [(1, 1), (1, 2)]:\n",
        "    params = base_params.copy()\n",
        "    params['ngram_range'] = ngram\n",
        "    evaluar_naive_bayes_parametrico(\n",
        "        vectorizer_class=TfidfVectorizer,\n",
        "        vectorizer_params=params,\n",
        "        model_class=MultinomialNB,\n",
        "        alpha=base_alpha,\n",
        "        train_data=newsgroups_train.data,\n",
        "        test_data=newsgroups_test.data,\n",
        "        train_labels=newsgroups_train.target,\n",
        "        test_labels=newsgroups_test.target\n",
        "    )\n",
        "\n",
        "# Variación 4: cambiar max_features\n",
        "print(\"\\n### Variación de max_features\")\n",
        "for max_feat in [1000, 10000, 100000]:\n",
        "    params = base_params.copy()\n",
        "    params['max_features'] = max_feat\n",
        "    evaluar_naive_bayes_parametrico(\n",
        "        vectorizer_class=TfidfVectorizer,\n",
        "        vectorizer_params=params,\n",
        "        model_class=MultinomialNB,\n",
        "        alpha=base_alpha,\n",
        "        train_data=newsgroups_train.data,\n",
        "        test_data=newsgroups_test.data,\n",
        "        train_labels=newsgroups_train.target,\n",
        "        test_labels=newsgroups_test.target\n",
        "    )\n",
        "    \n",
        "# Variación 5: cambiar modelo\n",
        "print(\"\\n### Variación de model_class\")\n",
        "for model_class in [MultinomialNB, ComplementNB]:\n",
        "    evaluar_naive_bayes_parametrico(\n",
        "        vectorizer_class=TfidfVectorizer,\n",
        "        vectorizer_params=base_params,\n",
        "        model_class=model_class,\n",
        "        alpha=base_alpha,\n",
        "        train_data=newsgroups_train.data,\n",
        "        test_data=newsgroups_test.data,\n",
        "        train_labels=newsgroups_train.target,\n",
        "        test_labels=newsgroups_test.target\n",
        "    )\n",
        "\n",
        "# Variación 6: cambiar vectorizador\n",
        "print(\"\\n### Variación de vectorizer_class\")\n",
        "for vect_class in [TfidfVectorizer, CountVectorizer]:\n",
        "    evaluar_naive_bayes_parametrico(\n",
        "        vectorizer_class=vect_class,\n",
        "        vectorizer_params=base_params,\n",
        "        model_class=MultinomialNB,\n",
        "        alpha=base_alpha,\n",
        "        train_data=newsgroups_train.data,\n",
        "        test_data=newsgroups_test.data,\n",
        "        train_labels=newsgroups_train.target,\n",
        "        test_labels=newsgroups_test.target\n",
        "    )\n",
        "\n",
        "# Variación 7: cambiar min_df y max_df\n",
        "print(\"\\n### Variación de min_df y max_df\")\n",
        "min_max_df_combos = [\n",
        "    (1, 1.0),\n",
        "    (2, 0.9),\n",
        "    (5, 0.8)\n",
        "]\n",
        "for min_df, max_df in min_max_df_combos:\n",
        "    params = base_params.copy()\n",
        "    params['min_df'] = min_df\n",
        "    params['max_df'] = max_df\n",
        "    evaluar_naive_bayes_parametrico(\n",
        "        vectorizer_class=TfidfVectorizer,\n",
        "        vectorizer_params=params,\n",
        "        model_class=MultinomialNB,\n",
        "        alpha=base_alpha,\n",
        "        train_data=newsgroups_train.data,\n",
        "        test_data=newsgroups_test.data,\n",
        "        train_labels=newsgroups_train.target,\n",
        "        test_labels=newsgroups_test.target\n",
        "    )"
      ]
    },
    {
      "cell_type": "markdown",
      "metadata": {},
      "source": [
        "### Mejores resultados por parámetro\n",
        "\n",
        "- Mejor `alpha`: 0.1, F1-Score: 0.6634  \n",
        "- Mejor `stop_words`: 'english', F1-Score: 0.6469  \n",
        "- Mejor `ngram_range`: (1, 1), F1-Score: 0.6469  \n",
        "- Mejor `max_features`: 100000, F1-Score: 0.6512  \n",
        "- Mejor `model_class`: ComplementNB, F1-Score: 0.6664  \n",
        "- Mejor `vectorizer_class`: TfidfVectorizer, F1-Score: 0.6469  \n",
        "- Mejor combinación `min_df` y `max_df`: 5 y 0.8, F1-Score: 0.6487  "
      ]
    },
    {
      "cell_type": "code",
      "execution_count": 101,
      "metadata": {},
      "outputs": [
        {
          "name": "stdout",
          "output_type": "stream",
          "text": [
            "\n",
            "### Evaluación con la mejor combinación de parámetros\n",
            "ComplementNB con TfidfVectorizer | alpha=0.1, params={'stop_words': 'english', 'max_features': 100000, 'ngram_range': (1, 1), 'min_df': 5, 'max_df': 0.8} -> F1-Score: 0.6745\n"
          ]
        }
      ],
      "source": [
        "# Pruebo con la mejor combinación de parámetros encontrada\n",
        "print(\"\\n### Evaluación con la mejor combinación de parámetros\")\n",
        "\n",
        "mejores_params_vect = {\n",
        "    'stop_words': 'english',\n",
        "    'max_features': 100000,\n",
        "    'ngram_range': (1, 1),\n",
        "    'min_df': 5,\n",
        "    'max_df': 0.8\n",
        "}\n",
        "\n",
        "evaluar_naive_bayes_parametrico(\n",
        "    vectorizer_class=TfidfVectorizer,\n",
        "    vectorizer_params=mejores_params_vect,\n",
        "    model_class=ComplementNB,\n",
        "    alpha=0.1,\n",
        "    train_data=newsgroups_train.data,\n",
        "    test_data=newsgroups_test.data,\n",
        "    train_labels=newsgroups_train.target,\n",
        "    test_labels=newsgroups_test.target\n",
        ")\n"
      ]
    },
    {
      "cell_type": "markdown",
      "metadata": {},
      "source": [
        "Usando la mejor combinación de parámetros encontrada en el análisis de sensibilidad, se obtiene el mejor resultado de todos: F1-Score de 0.6745."
      ]
    },
    {
      "cell_type": "markdown",
      "metadata": {},
      "source": [
        "### **3)** Transponer la matriz documento-término. De esa manera se obtiene una matriz término-documento que puede ser interpretada como una colección de vectorización de palabras. Estudiar ahora similaridad entre palabras tomando 5 palabras y estudiando sus 5 más similares. La elección de palabras no debe ser al azar para evitar la aparición de términos poco interpretables, elegirlas \"manualmente\"."
      ]
    },
    {
      "cell_type": "code",
      "execution_count": null,
      "metadata": {},
      "outputs": [],
      "source": []
    },
    {
      "cell_type": "code",
      "execution_count": 108,
      "metadata": {},
      "outputs": [
        {
          "name": "stdout",
          "output_type": "stream",
          "text": [
            "['aaron', 'abandon', 'abandoned', 'abbey', 'abbott', 'abbreviation', 'abdominal', 'abdullah', 'abide', 'abiding', 'abilities', 'ability', 'able', 'abnormal', 'aboard', 'abode', 'abolish', 'abolished', 'abomination', 'abominations', 'abort', 'aborted', 'abortion', 'abound', 'abraham', 'abridged', 'abroad', 'abruptly', 'absence', 'absent', 'absolute', 'absolutely', 'absolutes', 'absolutist', 'absorb', 'absorbed', 'absorbing', 'absorption', 'abstinence', 'abstract', 'abstraction', 'abstracts', 'absurd', 'absurdity', 'abundance', 'abundant', 'abuse', 'abused', 'abuses', 'abusing', 'abusive', 'abyss', 'academia', 'academic', 'academics', 'academy', 'accelerate', 'accelerated', 'accelerating', 'acceleration', 'accelerator', 'accelerators', 'accept', 'acceptable', 'acceptance', 'accepted', 'accepting', 'accepts', 'access', 'accessable', 'accessed', 'accesses', 'accessible', 'accessing', 'accessories', 'accessory', 'accident', 'accidental', 'accidentally', 'accidently', 'accidents', 'accommodate', 'accommodates', 'accomodate', 'accompanied', 'accompanying', 'accomplish', 'accomplished', 'accord', 'accordance', 'according', 'accordingly', 'account', 'accountability', 'accountable', 'accounted', 'accounting', 'accounts', 'accumulate', 'accumulated', 'accuracy', 'accurate', 'accurately', 'accusation', 'accusations', 'accuse', 'accused', 'accuses', 'accusing', 'accustomed', 'achieve', 'achieved', 'achievement', 'achievements', 'achieving', 'acid', 'acidophilus', 'acids', 'acknowledge', 'acknowledged', 'acknowledgement', 'acknowledges', 'aclu', 'acns', 'acorn', 'acquaintance', 'acquire', 'acquired', 'acquiring', 'acquisition', 'acronym', 'acsu', 'acted', 'acting', 'action', 'actions', 'activate', 'activated', 'active', 'actively', 'activist', 'activists', 'activities', 'activity', 'acton', 'acts', 'actual', 'actually', 'acupuncture', 'acura', 'acutally', 'acute', 'adam', 'adams', 'adapt', 'adaptation', 'adaptec', 'adapted', 'adapter', 'adapters', 'adaptor', 'adcom', 'added', 'addict', 'addicted', 'addictive', 'addicts', 'adding', 'addison', 'addition', 'additional', 'additionally', 'additions', 'additive', 'additives', 'addr', 'address', 'addressable', 'addressed', 'addresses', 'addressing', 'adds', 'adequate', 'adequately', 'adhere', 'adherence', 'adherents', 'adirondack', 'adjacent', 'adjective', 'adjust', 'adjustable', 'adjusted', 'adjusting', 'adjustment', 'adjustments', 'admin', 'administer', 'administered', 'administration', 'administrations', 'administrative', 'administrator', 'administrators', 'admiral', 'admire', 'admissible', 'admission', 'admissions', 'admit', 'admits', 'admitted', 'admittedly', 'admitting', 'adobe', 'adolescent', 'adolf', 'adopt', 'adopted', 'adopting', 'adoption', 'adress', 'adresses', 'adrian', 'adult', 'adultery', 'adults', 'advance', 'advanced', 'advancement', 'advances', 'advancing', 'advantage', 'advantages', 'advent', 'adventure', 'adventures', 'adversary', 'adverse', 'adversely', 'advert', 'advertise', 'advertised', 'advertisement', 'advertisements', 'advertisers', 'advertising', 'advice', 'advise', 'advised', 'advisor', 'advisors', 'advisory', 'advocacy', 'advocate', 'advocated', 'advocates', 'advocating', 'aegean', 'aerial', 'aero', 'aeronautics', 'aerospace', 'aesthetic', 'aesthetically', 'affair', 'affairs', 'affect', 'affected', 'affecting', 'affects', 'affiliate', 'affiliated', 'affiliation', 'affiliations', 'affinity', 'affirmative', 'affirmed', 'afflicted', 'afford', 'affordable', 'afghanistan', 'aforementioned', 'afraid', 'africa', 'african', 'afterall', 'afterlife', 'aftermarket', 'afternoon', 'afterward', 'agdam', 'aged', 'agencies', 'agency', 'agenda', 'agent', 'agents', 'ages', 'aggravated', 'aggression', 'aggressive', 'aggressively', 'aging', 'agnostic', 'agnostics', 'agony', 'agree', 'agreed', 'agreeing', 'agreement', 'agreements', 'agrees', 'agression', 'agressive', 'agricultural', 'agriculture', 'ahead', 'ahem', 'ahhh', 'ahmed', 'ahmet', 'aiaa', 'aide', 'aiding', 'aids', 'aiken', 'aimed', 'aiming', 'aims', 'aint', 'airbag', 'airbags', 'airborne', 'aircraft', 'aired', 'airline', 'airplane', 'airplanes', 'airport', 'airports', 'ajteel', 'akin', 'alabama', 'alain', 'alan', 'alarm', 'alarms', 'alas', 'alaska', 'alaskan', 'albany', 'albeit', 'albert', 'alberta', 'albicans', 'album', 'alchemy', 'alcohol', 'alert', 'alex', 'alexander', 'alexandria', 'alexia', 'alfa', 'alfred', 'algebra', 'algebraic', 'algorithm', 'algorithms', 'algorythm', 'alias', 'aliases', 'aliasing', 'alice', 'alicea', 'alien', 'aliens', 'aligned', 'alignment', 'alike', 'alive', 'allah', 'allegations', 'alleged', 'allegedly', 'allegiance', 'allegory', 'allen', 'allergic', 'allergies', 'allergy', 'alleviate', 'alley', 'alleys', 'alliance', 'allied', 'allies', 'allocate', 'allocated', 'allocating', 'allocation', 'allow', 'allowed', 'allowing', 'allows', 'alloy', 'allready', 'alluded', 'ally', 'almanac', 'almighty', 'alomar', 'alongside', 'alot', 'aloud', 'alpha', 'alphabet', 'alphabetical', 'alright', 'altar', 'alter', 'altered', 'altering', 'alternate', 'alternating', 'alternative', 'alternatively', 'alternatives', 'altitude', 'alto', 'altogether', 'aluminum', 'alumni', 'amal', 'amateur', 'amazed', 'amazing', 'amazingly', 'ambassador', 'amber', 'ambient', 'ambiguous', 'ambitions', 'ambitious', 'ambulance', 'amen', 'amend', 'amended', 'amendment', 'amendments', 'america', 'american', 'americans', 'ames', 'amherst', 'amid', 'amiga', 'amigas', 'amino', 'ammo', 'ammunition', 'amnesty', 'amoco', 'amonte', 'amorc', 'amounts', 'amour', 'ample', 'amplification', 'amplifier', 'amplifiers', 'amplify', 'amplitude', 'amps', 'amsat', 'amsterdam', 'amused', 'amusement', 'amusing', 'anaheim', 'anal', 'analog', 'analogies', 'analogous', 'analogue', 'analogy', 'analyses', 'analysis', 'analyst', 'analysts', 'analytic', 'analytical', 'analyze', 'analyzed', 'analyzer', 'anarchal', 'anarchy', 'anas', 'anatolia', 'anatomy', 'ancestors', 'ancestry', 'anchor', 'ancient', 'anderson', 'andersson', 'andi', 'andre', 'andreas', 'andrew', 'andreychuk', 'andy', 'anecdotal', 'anecdote', 'anecdotes', 'angel', 'angeles', 'angels', 'anger', 'angle', 'angles', 'anglican', 'angry', 'angular', 'animal', 'animals', 'animated', 'animation', 'animations', 'ankara', 'ankle', 'annals', 'anne', 'annihilated', 'annihilation', 'anniversary', 'announce', 'announced', 'announcement', 'announcements', 'announcer', 'announcers', 'announcing', 'annoy', 'annoyed', 'annoying', 'annual', 'annually', 'anon', 'anonymous', 'ansi', 'answer', 'answered', 'answering', 'answers', 'antarctic', 'antenna', 'antennas', 'anthem', 'anthony', 'anthropology', 'anti', 'antibiotic', 'antibiotics', 'anticipate', 'anticipation', 'antique', 'antiquity', 'antivirus', 'anton', 'antonio', 'ants', 'anxiety', 'anxious', 'anybody', 'anymore', 'anytime', 'anyways', 'apart', 'apartment', 'apartments', 'aperture', 'apocalypse', 'apollo', 'apologies', 'apologist', 'apologists', 'apologize', 'apologized', 'apology', 'apostle', 'apostles', 'appalled', 'appalling', 'apparantly', 'apparent', 'apparently', 'apparitions', 'appeal', 'appealed', 'appealing', 'appeals', 'appear', 'appearance', 'appearances', 'appeared', 'appearing', 'appears', 'appended', 'appendix', 'applaud', 'applause', 'apple', 'applelink', 'apples', 'appletalk', 'applicable', 'application', 'applications', 'applied', 'applies', 'apply', 'applying', 'appoint', 'appointed', 'appointee', 'appointment', 'appointments', 'appreciable', 'appreciate', 'appreciated', 'appreciation', 'appreciative', 'appressian', 'approach', 'approached', 'approaches', 'approaching', 'appropriate', 'appropriately', 'approval', 'approve', 'approved', 'approving', 'approx', 'approximate', 'approximately', 'approximation', 'apps', 'april', 'aquinas', 'aquired', 'arab', 'arabia', 'arabic', 'arabs', 'arafat', 'ararat', 'arbitrarily', 'arbitrary', 'arbitration', 'arbor', 'arcade', 'arcane', 'arch', 'archaic', 'archer', 'archie', 'archimedes', 'architect', 'architecture', 'architectures', 'archive', 'archived', 'archives', 'archiving', 'arctic', 'area', 'areas', 'aren', 'arena', 'arenas', 'aretz', 'argc', 'argic', 'args', 'arguably', 'argue', 'argued', 'arguement', 'arguements', 'argues', 'arguing', 'argument', 'argumentation', 'arguments', 'argv', 'ariane', 'ariel', 'arise', 'arises', 'arising', 'aristide', 'aristotle', 'arithmetic', 'ariv', 'arizona', 'arkansas', 'arlington', 'armature', 'armed', 'armenia', 'armenian', 'armenians', 'armies', 'armor', 'armored', 'armory', 'arms', 'armstrong', 'army', 'arnold', 'arose', 'arrange', 'arranged', 'arrangement', 'arrangements', 'arranging', 'array', 'arrays', 'arrest', 'arrested', 'arrival', 'arrive', 'arrived', 'arrives', 'arriving', 'arrl', 'arrogance', 'arrogant', 'arromdian', 'arrow', 'arsenal', 'arthritis', 'arthur', 'article', 'articles', 'articulate', 'articulated', 'artifacts', 'artificial', 'artillery', 'artin', 'artist', 'artists', 'arts', 'artwork', 'aryan', 'asala', 'asap', 'ascension', 'ascii', 'asente', 'ashamed', 'ashes', 'ashok', 'ashton', 'asia', 'asian', 'asic', 'aside', 'asked', 'asking', 'asks', 'asleep', 'aspect', 'aspects', 'aspirations', 'aspirin', 'assad', 'assailant', 'assault', 'assaulted', 'assaults', 'assemble', 'assembled', 'assembler', 'assembling', 'assembly', 'assert', 'asserted', 'asserting', 'assertion', 'assertions', 'asserts', 'assess', 'assessment', 'asset', 'assets', 'asshole', 'assign', 'assigned', 'assignment', 'assimilation', 'assist', 'assistance', 'assistant', 'assisted', 'assists', 'associate', 'associated', 'associates', 'association', 'associations', 'assorted', 'assualt', 'assume', 'assumed', 'assumes', 'assuming', 'assumption', 'assumptions', 'assurance', 'assure', 'assured', 'assures', 'assuring', 'asteroid', 'asteroids', 'asthma', 'astonishing', 'astray', 'astro', 'astronaut', 'astronautics', 'astronauts', 'astronomer', 'astronomers', 'astronomical', 'astronomy', 'astrophysical', 'astrophysics', 'astros', 'asynchronous', 'atari', 'atheism', 'atheist', 'atheistic', 'atheists', 'athena', 'athens', 'athletes', 'athletic', 'athletics', 'atlanta', 'atlantic', 'atlas', 'atleast', 'atmosphere', 'atmospheric', 'atom', 'atomic', 'atoms', 'atonement', 'atrocities', 'atrocity', 'attach', 'attached', 'attaching', 'attachment', 'attack', 'attacked', 'attacker', 'attackers', 'attacking', 'attacks', 'attain', 'attained', 'attempt', 'attempted', 'attempting', 'attempts', 'attend', 'attendance', 'attendant', 'attended', 'attendees', 'attending', 'attention', 'attest', 'attitude', 'attitudes', 'attorney', 'attorneys', 'attract', 'attracted', 'attraction', 'attractive', 'attributable', 'attribute', 'attributed', 'attributes', 'auction', 'audi', 'audible', 'audience', 'audio', 'auditorium', 'augment', 'august', 'augustine', 'aunt', 'aura', 'austin', 'australia', 'australian', 'austria', 'austrian', 'authentic', 'authenticated', 'authentication', 'authenticity', 'author', 'authored', 'authoritarian', 'authoritative', 'authorities', 'authority', 'authorization', 'authorize', 'authorized', 'authors', 'authur', 'auto', 'autobahn', 'autocad', 'autoexec', 'automated', 'automatic', 'automatically', 'automatics', 'automation', 'automobile', 'automobiles', 'automotive', 'autonomous', 'autonomy', 'autos', 'autoweek', 'autumn', 'avail', 'availability', 'available', 'avenger', 'avengers', 'avenue', 'avenues', 'average', 'averaged', 'averages', 'aviation', 'avid', 'aviv', 'avoid', 'avoided', 'avoiding', 'avoids', 'awaited', 'awaiting', 'award', 'awarded', 'awards', 'aware', 'awareness', 'away', 'awesome', 'awful', 'awfully', 'awhile', 'awkward', 'axed', 'axes', 'axiom', 'axioms', 'axis', 'axle', 'azerbadjan', 'azerbaijan', 'azerbaijani', 'azerbaijanis', 'azeri', 'azeris', 'babe', 'babes', 'babies', 'baby', 'babylon', 'bach', 'backbone', 'backdoor', 'backed', 'background', 'backgrounds', 'backing', 'backlit', 'backon', 'backpack', 'backs', 'backup', 'backups', 'backward', 'backwards', 'bacteria', 'bacterial', 'badge', 'badly', 'badmatch', 'baerga', 'bagged', 'bags', 'bail', 'bait', 'bake', 'baker', 'baku', 'balance', 'balanced', 'balancing', 'balcony', 'balkans', 'ball', 'ballard', 'ballistic', 'balloon', 'balloons', 'balls', 'ballyard', 'baltimore', 'bamford', 'band', 'banding', 'bandits', 'bands', 'bandwidth', 'bandwith', 'bang', 'bank', 'banking', 'bankrupt', 'banks', 'banned', 'banner', 'banners', 'banning', 'bans', 'baptism', 'baptist', 'baptized', 'barbara', 'barbarian', 'barber', 'bare', 'barely', 'barf', 'bargain', 'bargaining', 'barking', 'barnes', 'barney', 'baron', 'barr', 'barrasso', 'barred', 'barrel', 'barrett', 'barrier', 'barriers', 'barring', 'barry', 'bars', 'base', 'baseball', 'based', 'baseman', 'basement', 'bases', 'bash', 'bashing', 'basic', 'basically', 'basics', 'basil', 'basin', 'basing', 'basis', 'basketball', 'bass', 'bastard', 'bastards', 'batch', 'bates', 'batf', 'bath', 'bathroom', 'batman', 'bats', 'battalions', 'batted', 'batter', 'battered', 'batteries', 'batters', 'battery', 'batting', 'battle', 'battlefields', 'battles', 'battling', 'baud', 'bauer', 'baumgartner', 'baylor', 'bayonets', 'bays', 'bchm', 'beach', 'beacon', 'beacons', 'beam', 'beams', 'beans', 'bear', 'bearing', 'bearings', 'bears', 'beast', 'beastmaster', 'beasts', 'beat', 'beaten', 'beating', 'beats', 'beauchaine', 'beaupre', 'beautiful', 'beauty', 'beck', 'beckman', 'becuase', 'bedford', 'bedroom', 'beef', 'beemer', 'beep', 'beeps', 'beer', 'beers', 'bees', 'began', 'begging', 'begin', 'begining', 'beginner', 'beginning', 'beginnings', 'begins', 'begotten', 'begs', 'begun', 'behalf', 'behave', 'behaved', 'behaves', 'behavior', 'behaviorists', 'behaviors', 'behaviour', 'behold', 'beings', 'beirut', 'beleive', 'belfour', 'belgium', 'belief', 'beliefs', 'believable', 'believe', 'believed', 'believer', 'believers', 'believes', 'believing', 'belittle', 'belive', 'bell', 'bellcore', 'belle', 'bellovin', 'bellows', 'belly', 'belong', 'belonged', 'belonging', 'belongs', 'beloved', 'belt', 'belts', 'bench', 'benchmark', 'benchmarks', 'bend', 'bending', 'beneath', 'benedikt', 'beneficial', 'benefit', 'benefits', 'benevolent', 'benign', 'bennett', 'bent', 'bentsen', 'benz', 'beranek', 'beretta', 'berg', 'berkeley', 'berlin', 'berman', 'bernard', 'berne', 'bernie', 'bernoulli', 'bernstein', 'berry', 'berryhill', 'berube', 'best', 'beta', 'beth', 'bethesda', 'bethlehem', 'betrayal', 'betrayed', 'bets', 'better', 'betting', 'bettman', 'beverly', 'beware', 'beyer', 'bezel', 'bezier', 'bhjn', 'bhjnux', 'bhjnuy', 'bias', 'biased', 'biases', 'bible', 'bibles', 'biblical', 'bibliographic', 'bibliography', 'bicycle', 'bidder', 'bidding', 'bids', 'bidzos', 'bigger', 'biggest', 'bigot', 'bigotry', 'bigs', 'bike', 'biker', 'bikers', 'bikes', 'bilateral', 'billboard', 'billboards', 'billing', 'billings', 'billion', 'billions', 'bills', 'billy', 'bimonthly', 'binah', 'binaries', 'binary', 'bind', 'binder', 'binding', 'bindings', 'binghamton', 'bingo', 'biochem', 'biochemistry', 'biographical', 'biography', 'biological', 'biology', 'bios', 'bird', 'birds', 'birmingham', 'birth', 'birthday', 'bisexual', 'bisexuals', 'bishop', 'bishops', 'bison', 'bitch', 'bite', 'bites', 'bitlis', 'bitmap', 'bitmaps', 'bitnet', 'bits', 'bitter', 'bizarre', 'bizw', 'bizwt', 'black', 'blackhawks', 'blacks', 'blade', 'blades', 'blah', 'blame', 'blamed', 'blaming', 'blank', 'blanket', 'blanks', 'blast', 'blasted', 'blaster', 'blasting', 'blatant', 'blatantly', 'blauser', 'blaze', 'blazer', 'bleeding', 'bless', 'blessed', 'blessing', 'blessings', 'blew', 'blind', 'blinded', 'blindly', 'blindness', 'blinking', 'blip', 'bliss', 'block', 'blocked', 'blocking', 'blocks', 'blomberg', 'blood', 'blooded', 'bloodshed', 'bloody', 'bloom', 'blow', 'blowing', 'blown', 'blows', 'blue', 'blues', 'blunt', 'blurb', 'blurred', 'blvd', 'bmwmoa', 'board', 'boarding', 'boards', 'boast', 'boasted', 'boat', 'bobbe', 'bobbs', 'bobby', 'bode', 'bodies', 'bodily', 'body', 'boeing', 'boggs', 'bogus', 'boil', 'boiler', 'boiling', 'boise', 'bold', 'bolt', 'bolts', 'bomb', 'bombardment', 'bombed', 'bomber', 'bombers', 'bombing', 'bombings', 'bombs', 'bond', 'bondage', 'bonded', 'bondra', 'bonds', 'bone', 'bones', 'bonilla', 'bonner', 'bonus', 'booby', 'book', 'booklet', 'books', 'bookstore', 'boolean', 'boom', 'boomer', 'boost', 'booster', 'boosters', 'boot', 'booted', 'booth', 'booting', 'boots', 'bootup', 'border', 'borders', 'bore', 'bored', 'boring', 'boris', 'borland', 'born', 'borne', 'borrow', 'borrowed', 'bosnia', 'bosnian', 'bosnians', 'boss', 'boston', 'botched', 'bother', 'bothered', 'bothering', 'bothers', 'bottle', 'bottleneck', 'bottles', 'bought', 'boulder', 'boulevard', 'bounce', 'bounced', 'bounces', 'bouncing', 'bound', 'boundaries', 'boundary', 'bounds', 'bourque', 'bout', 'bowen', 'bowl', 'bowman', 'boxed', 'boxer', 'boxes', 'boycott', 'boys', 'bozos', 'bracket', 'brackets', 'brad', 'brader', 'bradley', 'brady', 'brain', 'brains', 'brainwashed', 'brainwashing', 'brake', 'brakes', 'braking', 'branch', 'branches', 'brand', 'brandeis', 'brands', 'brass', 'braun', 'brave', 'braves', 'brazil', 'breach', 'bread', 'break', 'breakable', 'breakdown', 'breaker', 'breakers', 'breakfast', 'breaking', 'breaks', 'breakthrough', 'breakthroughs', 'breakup', 'bream', 'breast', 'breasts', 'breath', 'breathing', 'breed', 'breeding', 'brendan', 'brent', 'bret', 'brethren', 'breton', 'brett', 'brevity', 'brewer', 'brewers', 'brian', 'bribe', 'brick', 'bride', 'bridge', 'bridges', 'brief', 'briefed', 'briefing', 'briefings', 'briefly', 'brigade', 'brigham', 'bright', 'brighter', 'brightness', 'brilliant', 'brind', 'bring', 'bringing', 'brings', 'brink', 'bristol', 'britain', 'british', 'brits', 'broad', 'broadcast', 'broadcasting', 'broadcasts', 'broadly', 'broadway', 'brochure', 'brock', 'broke', 'broken', 'bronx', 'bronze', 'brooks', 'brother', 'brothers', 'brought', 'brown', 'browse', 'bruce', 'bruins', 'bruise', 'bruised', 'brunet', 'brunswick', 'brush', 'brutal', 'brutality', 'brutally', 'brute', 'bryan', 'bubble', 'bubblejet', 'buchberger', 'buck', 'bucks', 'buddhism', 'buddhist', 'buddhists', 'buddy', 'budget', 'budgets', 'buffalo', 'buffer', 'buffered', 'buffering', 'buffers', 'bugging', 'buggy', 'bugs', 'buick', 'build', 'builder', 'building', 'buildings', 'builds', 'buildup', 'built', 'bulb', 'bulbs', 'bulgaria', 'bulk', 'bull', 'bullet', 'bulletin', 'bullets', 'bullock', 'bullpen', 'bulls', 'bullshit', 'bully', 'bump', 'bumper', 'bunch', 'bunches', 'bundle', 'bundled', 'bungee', 'bunk', 'bunker', 'bunny', 'burden', 'bure', 'bureau', 'bureaucracy', 'bureaucrat', 'bureaucratic', 'bureaucrats', 'burger', 'burial', 'buried', 'burke', 'burn', 'burned', 'burning', 'burns', 'burnt', 'burr', 'burst', 'bursters', 'bursting', 'bursts', 'burt', 'burton', 'bury', 'buses', 'bush', 'business', 'businesses', 'businessmen', 'busses', 'bust', 'busted', 'buster', 'busting', 'busy', 'butcher', 'butler', 'butsayev', 'butt', 'butter', 'button', 'buttons', 'butts', 'buyer', 'buyers', 'buying', 'buys', 'buzz', 'bxlt', 'bxom', 'byler', 'bypass', 'bypassing', 'byte', 'bytes', 'cabin', 'cabinet', 'cable', 'cables', 'cabling', 'cache', 'caches', 'caching', 'caddy', 'cadre', 'caesar', 'cafe', 'caffeine', 'cage', 'cager', 'cagers', 'cages', 'cain', 'cairo', 'cake', 'calc', 'calculate', 'calculated', 'calculating', 'calculation', 'calculations', 'calculator', 'calculus', 'calendar', 'calgary', 'caliber', 'calibration', 'calif', 'california', 'callable', 'callback', 'callbacks', 'called', 'caller', 'calling', 'calls', 'calm', 'calmed', 'calmly', 'caltech', 'calvin', 'camaro', 'cambodia', 'cambridge', 'camcorder', 'camden', 'came', 'camera', 'cameras', 'camp', 'campaign', 'campaigning', 'campaigns', 'campbell', 'camping', 'camps', 'campus', 'camry', 'canada', 'canadian', 'canadians', 'canadiens', 'canal', 'canberra', 'cancel', 'canceled', 'cancellation', 'cancelled', 'cancer', 'candida', 'candidate', 'candidates', 'candle', 'candy', 'cannon', 'canon', 'cans', 'canseco', 'canucks', 'canvas', 'canyon', 'capabilities', 'capability', 'capable', 'capacities', 'capacitor', 'capacitors', 'capacity', 'cape', 'capita', 'capital', 'capitalism', 'capitalist', 'capitalization', 'capitalized', 'capitals', 'capitol', 'caps', 'capsule', 'captain', 'captains', 'capture', 'captured', 'captures', 'caratzas', 'carb', 'carbon', 'carbonneau', 'carbs', 'card', 'carderock', 'cardinal', 'cardinals', 'cards', 'care', 'cared', 'career', 'careers', 'careful', 'carefully', 'cares', 'carew', 'cargo', 'caring', 'carkner', 'carl', 'carleton', 'carlos', 'carlson', 'carlton', 'carnage', 'carnegie', 'carney', 'carol', 'carolina', 'caronni', 'carpenter', 'carpet', 'carriage', 'carried', 'carrier', 'carriers', 'carries', 'carroll', 'carrot', 'carry', 'carrying', 'cars', 'carson', 'cart', 'carter', 'cartoon', 'cartridge', 'cartridges', 'carts', 'cary', 'case', 'cases', 'casey', 'cash', 'casio', 'cassels', 'casserole', 'cassette', 'cassettes', 'cassini', 'cast', 'caste', 'casting', 'castle', 'castro', 'casual', 'casualties', 'catagory', 'catalog', 'catalogs', 'catalogue', 'catbyte', 'catch', 'catcher', 'catchers', 'catching', 'categories', 'categorized', 'category', 'catholic', 'catholicism', 'catholics', 'cathy', 'cats', 'cattle', 'caucasian', 'caucasus', 'caucus', 'caught', 'causal', 'cause', 'caused', 'causes', 'causing', 'caution', 'cautious', 'cave', 'caveat', 'caveats', 'ccit', 'ccwf', 'cdrom', 'cease', 'ceased', 'cecil', 'ceiling', 'celebrate', 'celebrated', 'celebrating', 'celebration', 'celebrations', 'celestial', 'cell', 'cellar', 'cells', 'cellular', 'celp', 'cemetery', 'censorship', 'census', 'cent', 'centaur', 'center', 'centered', 'centers', 'central', 'centrally', 'centre', 'centres', 'centris', 'centronics', 'cents', 'centuries', 'century', 'ceramic', 'cereals', 'ceremonial', 'ceremonies', 'ceremony', 'certain', 'certainly', 'certainty', 'certificate', 'certificates', 'certification', 'certified', 'cetera', 'chain', 'chaining', 'chains', 'chair', 'chairman', 'chairs', 'chalcedon', 'challenge', 'challenged', 'challenger', 'challenges', 'challenging', 'chamber', 'chambers', 'champ', 'champaign', 'champion', 'champions', 'championship', 'championships', 'champs', 'chance', 'chancellor', 'chances', 'change', 'changed', 'changer', 'changes', 'changing', 'channel', 'channels', 'chant', 'chanted', 'chaos', 'chapel', 'chaps', 'chapter', 'chapters', 'char', 'character', 'characteristic', 'characteristics', 'characterization', 'characterize', 'characterized', 'characters', 'charcoal', 'charge', 'charged', 'charger', 'charges', 'charging', 'charismatic', 'charitable', 'charity', 'charles', 'charley', 'charlie', 'charm', 'chars', 'chart', 'charter', 'charts', 'chase', 'chased', 'chasing', 'chassis', 'chastised', 'chastity', 'chat', 'cheap', 'cheaper', 'cheapest', 'cheaply', 'cheat', 'cheating', 'check', 'checked', 'checker', 'checkers', 'checking', 'checks', 'cheek', 'cheer', 'cheering', 'cheers', 'cheese', 'cheesy', 'cheif', 'chelios', 'chem', 'chemical', 'chemicals', 'chemist', 'chemistry', 'chemists', 'chen', 'cherry', 'chess', 'chest', 'cheveldae', 'chevrolet', 'chevron', 'chevy', 'chew', 'chewing', 'chiasson', 'chicago', 'chicken', 'chief', 'chiefs', 'child', 'childhood', 'childish', 'children', 'chilling', 'chin', 'china', 'chinese', 'chip', 'chips', 'chipset', 'chipsets', 'chlorine', 'chmod', 'chocolate', 'choice', 'choices', 'choke', 'choose', 'chooses', 'choosing', 'chop', 'chopin', 'chopped', 'chopping', 'chord', 'chorus', 'chose', 'chosen', 'chris', 'christ', 'christi', 'christian', 'christianity', 'christians', 'christmas', 'christopher', 'christy', 'chrome', 'chromium', 'chronic', 'chronicle', 'chronicles', 'chrysler', 'chuck', 'chuckle', 'chunk', 'chunks', 'church', 'churches', 'ciao', 'cica', 'ciccarelli', 'cigarette', 'cigarettes', 'cincinnati', 'cipher', 'ciphers', 'ciphertext', 'circa', 'circle', 'circles', 'circuit', 'circuitry', 'circuits', 'circular', 'circulating', 'circulation', 'circumcision', 'circumference', 'circumstance', 'circumstances', 'circumvent', 'cirrus', 'cisc', 'citation', 'citations', 'cite', 'cited', 'cites', 'cities', 'citing', 'citizen', 'citizenry', 'citizens', 'citizenship', 'city', 'civic', 'civil', 'civilian', 'civilians', 'civilization', 'civilized', 'clad', 'claim', 'claimed', 'claiming', 'claims', 'clamp', 'clara', 'claremont', 'clarification', 'clarifications', 'clarified', 'clarify', 'clarinet', 'clarity', 'clark', 'clarke', 'clarkson', 'clash', 'clashes', 'class', 'classes', 'classic', 'classical', 'classification', 'classified', 'classify', 'classroom', 'classy', 'claus', 'clause', 'clay', 'clayton', 'clean', 'cleaned', 'cleaner', 'cleaners', 'cleaning', 'cleanse', 'cleansing', 'cleanup', 'clear', 'clearance', 'cleared', 'clearer', 'clearest', 'clearing', 'clearly', 'clears', 'clemens', 'clement', 'cleveland', 'clever', 'cliche', 'click', 'clicked', 'clicking', 'clicks', 'client', 'clients', 'cliff', 'climate', 'climb', 'climbed', 'clinched', 'clinic', 'clinical', 'clinics', 'clint', 'clinton', 'clintons', 'clip', 'clipper', 'clippers', 'clipping', 'clips', 'cloak', 'clock', 'clocked', 'clocks', 'clockwise', 'clone', 'clones', 'close', 'closed', 'closely', 'closer', 'closes', 'closest', 'closet', 'closing', 'closure', 'cloth', 'clothes', 'clothing', 'cloud', 'clouds', 'clown', 'club', 'clubs', 'clue', 'clueless', 'clues', 'cluster', 'clusters', 'clutch', 'clutter', 'cmos', 'coach', 'coaches', 'coaching', 'coal', 'coalition', 'coast', 'coastal', 'coat', 'coated', 'coating', 'coats', 'coax', 'cobb', 'cobra', 'coca', 'cocaine', 'cock', 'code', 'codec', 'coded', 'codes', 'coding', 'coerced', 'coercion', 'coercive', 'coexist', 'coffee', 'coffey', 'coffin', 'cognitivists', 'cohen', 'coherent', 'coil', 'coils', 'coin', 'coincide', 'coincidence', 'coined', 'cola', 'cold', 'cole', 'coleman', 'colin', 'colitis', 'collaboration', 'collaborators', 'collapse', 'collapsed', 'collar', 'colleague', 'colleagues', 'collect', 'collected', 'collecting', 'collection', 'collections', 'collective', 'collector', 'collectors', 'college', 'colleges', 'collins', 'collision', 'collisions', 'colon', 'colonel', 'colonial', 'colonies', 'colonization', 'colony', 'color', 'colorado', 'colored', 'coloring', 'colormap', 'colormaps', 'colors', 'colossians', 'colostate', 'colour', 'colours', 'colt', 'columbia', 'columbus', 'column', 'columns', 'coma', 'combat', 'combatants', 'combination', 'combinations', 'combine', 'combined', 'combining', 'combo', 'combustion', 'comdex', 'come', 'comeback', 'comedy', 'comes', 'comet', 'comets', 'comfort', 'comfortable', 'comforting', 'comic', 'comics', 'coming', 'comm', 'comma', 'command', 'commanded', 'commander', 'commanders', 'commandment', 'commandments', 'commands', 'comment', 'commentaries', 'commentary', 'commentator', 'commentators', 'commented', 'commenting', 'comments', 'commerce', 'commercial', 'commercially', 'commercials', 'commerical', 'comming', 'commission', 'commissioned', 'commissioner', 'commit', 'commited', 'commitment', 'commitments', 'commits', 'committed', 'committee', 'committees', 'committing', 'commodore', 'common', 'commonly', 'commonwealth', 'comms', 'communicate', 'communicated', 'communicating', 'communication', 'communications', 'communion', 'communism', 'communist', 'communists', 'communities', 'community', 'comp', 'compact', 'companies', 'companion', 'company', 'compaq', 'comparable', 'comparative', 'comparatively', 'compare', 'compared', 'compares', 'comparing', 'comparison', 'comparisons', 'compartment', 'compass', 'compassion', 'compassionate', 'compatable', 'compatibility', 'compatible', 'compatibles', 'compdyn', 'compelled', 'compelling', 'compensate', 'compensation', 'compete', 'competence', 'competent', 'competing', 'competition', 'competitive', 'competitiveness', 'competitor', 'competitors', 'compilation', 'compile', 'compiled', 'compiler', 'compilers', 'compiles', 'compiling', 'complain', 'complained', 'complaining', 'complains', 'complaint', 'complaints', 'complement', 'complete', 'completed', 'completely', 'completing', 'completion', 'completly', 'complex', 'complexity', 'compliance', 'compliant', 'complicated', 'complications', 'compliment', 'comply', 'component', 'components', 'compose', 'composed', 'composite', 'composition', 'compound', 'compounds', 'comprehend', 'comprehensive', 'compress', 'compressed', 'compression', 'compressor', 'comprised', 'comprising', 'compromise', 'compromised', 'compromises', 'compromising', 'compulsion', 'compuserve', 'computation', 'computational', 'compute', 'computed', 'computer', 'computergenerated', 'computerized', 'computers', 'computes', 'computing', 'concatenated', 'conceal', 'concealed', 'concealing', 'concede', 'conceivable', 'conceivably', 'conceive', 'conceived', 'concentrate', 'concentrated', 'concentrating', 'concentration', 'concentrations', 'concept', 'conception', 'concepts', 'concern', 'concerned', 'concerning', 'concerns', 'concert', 'concerted', 'concessions', 'concise', 'conclude', 'concluded', 'concludes', 'concluding', 'conclusion', 'conclusions', 'conclusive', 'concordance', 'concrete', 'concur', 'concurrent', 'concurrently', 'concussion', 'condemn', 'condemnation', 'condemned', 'condemning', 'condemns', 'condescending', 'condition', 'conditional', 'conditioned', 'conditioning', 'conditions', 'condolences', 'condoms', 'condone', 'conducive', 'conduct', 'conducted', 'conducting', 'conductor', 'conductors', 'conduit', 'cone', 'conference', 'conferences', 'conferencing', 'confess', 'confessed', 'confession', 'confidence', 'confident', 'confidential', 'config', 'configurable', 'configuration', 'configurations', 'configure', 'configured', 'configuring', 'confined', 'confirm', 'confirmation', 'confirmed', 'confirms', 'confiscate', 'confiscated', 'conflict', 'conflicting', 'conflicts', 'conform', 'conforms', 'confront', 'confrontation', 'confronted', 'confuse', 'confused', 'confuses', 'confusing', 'confusion', 'congratulate', 'congratulations', 'congregation', 'congress', 'congressional', 'congressman', 'congressmen', 'congruent', 'conjunction', 'conn', 'connect', 'connected', 'connecticut', 'connecting', 'connection', 'connections', 'connectivity', 'connector', 'connectors', 'connects', 'conner', 'connor', 'connotations', 'conquer', 'conquered', 'conquest', 'conroy', 'cons', 'conscience', 'conscious', 'consciously', 'consciousness', 'consecrated', 'consecutive', 'consensus', 'consent', 'consequence', 'consequences', 'consequently', 'conservation', 'conservative', 'conservatives', 'conserve', 'consider', 'considerable', 'considerably', 'consideration', 'considerations', 'considered', 'considering', 'considers', 'consist', 'consistantly', 'consisted', 'consistency', 'consistent', 'consistently', 'consisting', 'consists', 'console', 'consortium', 'conspiracy', 'constant', 'constantinople', 'constantly', 'constants', 'constellation', 'constituencies', 'constitute', 'constituted', 'constitutes', 'constitution', 'constitutional', 'constitutions', 'constrained', 'constraint', 'constraints', 'construct', 'constructed', 'constructing', 'construction', 'constructive', 'construed', 'consul', 'consult', 'consultant', 'consultation', 'consultations', 'consulted', 'consulting', 'consumables', 'consume', 'consumed', 'consumer', 'consumers', 'consumes', 'consuming', 'consumption', 'contact', 'contacted', 'contacting', 'contacts', 'contain', 'contained', 'container', 'containing', 'contains', 'contaminated', 'contamination', 'contemplate', 'contemplating', 'contemporaries', 'contemporary', 'contempt', 'contend', 'contenders', 'content', 'contention', 'contentions', 'contents', 'contest', 'contests', 'context', 'contexts', 'contiguous', 'continent', 'continental', 'contingent', 'continual', 'continually', 'continuation', 'continue', 'continued', 'continues', 'continuing', 'continuous', 'continuously', 'contour', 'contours', 'contraceptive', 'contract', 'contracted', 'contractor', 'contractors', 'contracts', 'contradict', 'contradicted', 'contradicting', 'contradiction', 'contradictions', 'contradictory', 'contradicts', 'contrary', 'contrast', 'contrib', 'contribute', 'contributed', 'contributes', 'contributing', 'contribution', 'contributions', 'contributor', 'contributors', 'control', 'controler', 'controlled', 'controller', 'controllers', 'controlling', 'controls', 'controversial', 'controversy', 'convenience', 'convenient', 'conveniently', 'convention', 'conventional', 'conventions', 'conversation', 'conversations', 'converse', 'conversion', 'conversions', 'convert', 'converted', 'converter', 'converters', 'convertible', 'convertibles', 'converting', 'converts', 'convex', 'convey', 'conveyance', 'convict', 'convicted', 'conviction', 'convictions', 'convince', 'convinced', 'convincing', 'cook', 'cookbook', 'cooked', 'cookie', 'cookies', 'cooking', 'cool', 'cooled', 'cooler', 'cooling', 'cools', 'cooper', 'cooperate', 'cooperating', 'cooperation', 'cooperative', 'coordinate', 'coordinated', 'coordinates', 'coordination', 'coordinator', 'cope', 'copenhagen', 'copied', 'copies', 'copious', 'copper', 'coprocessor', 'cops', 'copy', 'copyfromparent', 'copying', 'copyright', 'copyrighted', 'cord', 'cordially', 'cordless', 'cords', 'core', 'corel', 'coreldraw', 'corinthians', 'corn', 'cornea', 'cornell', 'corner', 'corners', 'corolla', 'corp', 'corporate', 'corporation', 'corporations', 'corps', 'corpse', 'corpses', 'corpus', 'correct', 'corrected', 'correcting', 'correction', 'corrections', 'correctly', 'correctness', 'correlation', 'correspond', 'correspondence', 'correspondent', 'corresponding', 'corresponds', 'corrosion', 'corrupt', 'corrupted', 'corruption', 'corson', 'cory', 'cosar', 'cosmetic', 'cosmic', 'cosmos', 'cost', 'costa', 'costello', 'costing', 'costly', 'costs', 'cote', 'cotton', 'couldn', 'council', 'counsel', 'count', 'counted', 'counter', 'countered', 'counterparts', 'countersteering', 'counties', 'counting', 'countless', 'countries', 'country', 'countryside', 'counts', 'county', 'coup', 'coupe', 'couple', 'coupled', 'couples', 'courage', 'courier', 'course', 'courses', 'court', 'courtesy', 'courtnall', 'courts', 'courtyard', 'cousin', 'cousineau', 'cousinetc', 'covenant', 'cover', 'coverage', 'covered', 'covering', 'covers', 'covert', 'covington', 'coward', 'cowardly', 'cowboy', 'cows', 'cpsr', 'cpus', 'crack', 'cracked', 'cracker', 'cracking', 'cracks', 'cradle', 'craft', 'craig', 'cramer', 'crank', 'crap', 'crappy', 'crash', 'crashed', 'crashes', 'crashing', 'crater', 'craven', 'crawl', 'crawled', 'cray', 'crazy', 'cream', 'crease', 'create', 'created', 'creates', 'creating', 'creation', 'creationist', 'creative', 'creativity', 'creator', 'creature', 'creatures', 'credence', 'credibility', 'credible', 'credit', 'credited', 'credits', 'creed', 'creeping', 'creighton', 'crew', 'crews', 'cried', 'cries', 'crime', 'crimes', 'criminal', 'criminals', 'crimson', 'cripple', 'crippled', 'crisis', 'crisp', 'criteria', 'criterion', 'critical', 'critically', 'criticism', 'criticisms', 'criticize', 'criticized', 'criticizing', 'critics', 'critique', 'crohn', 'cronies', 'crook', 'crooks', 'crop', 'cross', 'crossed', 'crossfire', 'crossing', 'crosspost', 'crossposted', 'crossposting', 'crowd', 'crowded', 'crowds', 'crowley', 'crown', 'crucial', 'crucified', 'crucifixion', 'crucis', 'crude', 'crudely', 'cruel', 'cruelties', 'cruelty', 'cruise', 'cruiser', 'crunch', 'crunching', 'crusades', 'crush', 'crushed', 'crutch', 'crux', 'cruz', 'crying', 'crypt', 'cryptanalysis', 'crypto', 'cryptographic', 'cryptographically', 'cryptography', 'cryptology', 'cryptosystem', 'cryptosystems', 'crystal', 'crystals', 'csiro', 'csmes', 'csrc', 'ctrl', 'cuba', 'cube', 'cubic', 'cubs', 'cullen', 'culminated', 'culprit', 'cult', 'cultists', 'cults', 'cultural', 'culture', 'cultures', 'cumulative', 'cunneyworth', 'cunningham', 'cuny', 'cunyvm', 'cups', 'cure', 'cured', 'curing', 'curiosity', 'curious', 'curiously', 'currency', 'current', 'currently', 'currents', 'curse', 'curses', 'cursor', 'cursors', 'curt', 'curtains', 'curtis', 'curve', 'curved', 'curves', 'custody', 'custom', 'customer', 'customers', 'customizable', 'customization', 'customize', 'customs', 'cute', 'cutoff', 'cuts', 'cutting', 'cview', 'cwru', 'cyberspace', 'cycle', 'cycles', 'cycling', 'cyclone', 'cylinder', 'cylinders', 'cylindrical', 'cylink', 'cynical', 'cypher', 'cypherpunks', 'cypriot', 'cyprus', 'cyrix', 'czar', 'czech', 'daemon', 'dagger', 'dahlen', 'dahlquist', 'daigle', 'daily', 'dakota', 'dale', 'dallas', 'damage', 'damaged', 'damages', 'damaging', 'damascus', 'dammit', 'damn', 'damnation', 'damned', 'damphousse', 'dana', 'dance', 'dances', 'dancing', 'dandy', 'danger', 'dangerous', 'dangers', 'dangling', 'dani', 'daniel', 'danny', 'dare', 'darius', 'dark', 'darken', 'darkened', 'darker', 'darkness', 'darn', 'darrell', 'darren', 'darryl', 'dartmouth', 'darwin', 'daryl', 'dash', 'dashboard', 'dashnaks', 'data', 'database', 'databases', 'date', 'dated', 'dates', 'dating', 'daughter', 'daughters', 'daulton', 'dave', 'davewood', 'david', 'davidian', 'davidians', 'davidson', 'davidsson', 'davies', 'davis', 'dawn', 'dawson', 'daylight', 'days', 'daystar', 'daytime', 'dayton', 'daytona', 'dbase', 'dead', 'deadline', 'deadly', 'deaf', 'deal', 'dealer', 'dealers', 'dealership', 'dealing', 'dealings', 'deals', 'dealt', 'dean', 'dear', 'dearly', 'death', 'deaths', 'debatable', 'debate', 'debated', 'debates', 'debating', 'debris', 'debt', 'debug', 'debugger', 'debugging', 'debunk', 'decade', 'decades', 'decay', 'deceive', 'deceived', 'december', 'decenso', 'decent', 'deception', 'deceptive', 'decide', 'decided', 'decides', 'deciding', 'decimal', 'decipher', 'decision', 'decisions', 'decisive', 'deck', 'decks', 'declaration', 'declare', 'declared', 'declares', 'declaring', 'decline', 'declined', 'declining', 'decnet', 'decode', 'decoder', 'decoders', 'decodes', 'decoding', 'decompression', 'decoration', 'decrease', 'decreased', 'decreases', 'decreasing', 'decree', 'decrypt', 'decrypted', 'decrypting', 'decryption', 'decstation', 'decstations', 'decwindows', 'decwrl', 'dedicated', 'deduce', 'deduction', 'deed', 'deeds', 'deem', 'deemed', 'deep', 'deeper', 'deeply', 'deer', 'default', 'defaultrootwindow', 'defaults', 'defeat', 'defeated', 'defect', 'defective', 'defects', 'defence', 'defend', 'defendant', 'defended', 'defender', 'defenders', 'defending', 'defense', 'defenseless', 'defenseman', 'defensemen', 'defenses', 'defensive', 'defensively', 'defer', 'deficiencies', 'deficiency', 'deficient', 'deficit', 'deficits', 'definately', 'define', 'defined', 'defines', 'defining', 'definite', 'definitely', 'definition', 'definitions', 'definitive', 'defy', 'degenerate', 'degradation', 'degrade', 'degree', 'degrees', 'deion', 'deir', 'deity', 'delaunay', 'delaware', 'delay', 'delayed', 'delays', 'delegation', 'delete', 'deleted', 'deletia', 'deleting', 'deletion', 'deletions', 'deliberate', 'deliberately', 'deliberations', 'delicate', 'delight', 'delighted', 'deliver', 'delivered', 'delivering', 'delivery', 'dell', 'delphi', 'delta', 'deluxe', 'demand', 'demanded', 'demanding', 'demands', 'demers', 'demise', 'demo', 'democracies', 'democracy', 'democrat', 'democratic', 'democrats', 'demographic', 'demographics', 'demon', 'demons', 'demonstrate', 'demonstrated', 'demonstrates', 'demonstrating', 'demonstration', 'demonstrations', 'demos', 'dendrite', 'denial', 'denials', 'denied', 'denies', 'denis', 'denmark', 'denning', 'dennis', 'denomination', 'denominations', 'denote', 'denoted', 'denotes', 'dense', 'densities', 'density', 'dent', 'dental', 'denver', 'deny', 'denying', 'depart', 'departed', 'department', 'departments', 'depend', 'dependable', 'dependant', 'depended', 'dependence', 'dependent', 'depending', 'depends', 'depletion', 'deplorable', 'deploy', 'deployed', 'deported', 'deposit', 'deposited', 'deposition', 'depressed', 'depressing', 'depression', 'deprivation', 'deprive', 'deprived', 'depriving', 'dept', 'depth', 'depths', 'deputies', 'deputy', 'derek', 'derivative', 'derivatives', 'derive', 'derived', 'derogatory', 'desc', 'descartes', 'descend', 'descendants', 'descended', 'descending', 'descent', 'described', 'describes', 'describing', 'description', 'descriptions', 'descriptive', 'descriptor', 'desert', 'deserve', 'deserved', 'deserves', 'deserving', 'design', 'designate', 'designated', 'designates', 'designations', 'designed', 'designer', 'designers', 'designing', 'designs', 'desirable', 'desire', 'desired', 'desires', 'desiring', 'desjardins', 'desk', 'deskjet', 'deskjets', 'desktop', 'desperate', 'desperately', 'despise', 'despised', 'despite', 'desqview', 'destination', 'destiny', 'destroy', 'destroyed', 'destroying', 'destroys', 'destruction', 'destructive', 'detached', 'detailed', 'detailing', 'details', 'detect', 'detectable', 'detected', 'detecting', 'detection', 'detector', 'detectors', 'detects', 'deter', 'determination', 'determine', 'determined', 'determines', 'determining', 'deterrent', 'detrimental', 'detroit', 'detweiler', 'deuteronomy', 'develop', 'develope', 'developed', 'developer', 'developers', 'developing', 'development', 'developments', 'develops', 'deviations', 'device', 'devices', 'devil', 'devils', 'devise', 'devised', 'devoid', 'devote', 'devoted', 'devotion', 'devout', 'devvax', 'dewey', 'diabetes', 'diagnose', 'diagnosed', 'diagnoses', 'diagnosis', 'diagnostic', 'diagnostics', 'diagram', 'diagrams', 'dial', 'dialing', 'dialog', 'dialogue', 'diameter', 'diamond', 'diary', 'diaspora', 'dice', 'dick', 'dictate', 'dictates', 'dictator', 'dictatorship', 'dictionary', 'didn', 'didnot', 'didnt', 'died', 'diego', 'dies', 'diesel', 'diet', 'dietary', 'diets', 'diff', 'differ', 'difference', 'differences', 'different', 'differential', 'differently', 'differing', 'differs', 'difficult', 'difficulties', 'difficulty', 'diffie', 'diffs', 'diffuse', 'diffusion', 'digest', 'digestive', 'digex', 'digging', 'digi', 'digit', 'digital', 'digitally', 'digitize', 'digitized', 'digitizing', 'digits', 'dignity', 'digress', 'dilemma', 'dime', 'dimension', 'dimensional', 'dimensions', 'dimmer', 'dineen', 'ding', 'dining', 'dinner', 'diode', 'dionne', 'dipietro', 'diplomacy', 'diplomatic', 'diplomats', 'dire', 'direct', 'directed', 'directing', 'direction', 'directional', 'directions', 'directive', 'directives', 'directly', 'director', 'directories', 'directors', 'directory', 'dirk', 'dirt', 'dirty', 'disable', 'disabled', 'disabling', 'disadvantage', 'disadvantages', 'disagree', 'disagreed', 'disagreeing', 'disagreement', 'disagrees', 'disappear', 'disappearance', 'disappeared', 'disappears', 'disappoint', 'disappointed', 'disappointing', 'disappointment', 'disarm', 'disarmament', 'disarmed', 'disarming', 'disassemble', 'disaster', 'disasters', 'disbelief', 'disc', 'discard', 'discarded', 'discern', 'discharge', 'disciple', 'disciples', 'discipline', 'disciplined', 'disclaimer', 'disclaimers', 'disclose', 'disclosed', 'disclosure', 'discomfort', 'disconnect', 'disconnected', 'discontinued', 'discount', 'discounts', 'discourage', 'discouraged', 'discourse', 'discover', 'discovered', 'discoveries', 'discovering', 'discovery', 'discredit', 'discredited', 'discrepancy', 'discrete', 'discretion', 'discretionary', 'discriminate', 'discriminated', 'discriminating', 'discrimination', 'discriminatory', 'discs', 'discuss', 'discussed', 'discusses', 'discussing', 'discussion', 'discussions', 'disease', 'diseases', 'disgrace', 'disguise', 'disguised', 'disgust', 'disgusted', 'disgusting', 'dish', 'dishes', 'dishonest', 'dishonesty', 'disinformation', 'disintegration', 'disk', 'diskette', 'diskettes', 'disks', 'dislike', 'dislikes', 'dismantling', 'dismiss', 'dismissed', 'disney', 'disobedience', 'disobey', 'disorder', 'disorders', 'dispensation', 'dispense', 'dispersal', 'displacement', 'display', 'displayed', 'displaying', 'displays', 'displeasure', 'disposal', 'disproportionate', 'disproportionately', 'disprove', 'disproved', 'dispute', 'disputed', 'disputes', 'disputing', 'disregard', 'disregarded', 'disrupt', 'dissemination', 'dissent', 'dissertation', 'dissidents', 'dissolve', 'dissolved', 'dist', 'distance', 'distances', 'distant', 'distinct', 'distinction', 'distinctions', 'distinctive', 'distinctly', 'distinguish', 'distinguished', 'distort', 'distorted', 'distortion', 'distortions', 'distraction', 'distressed', 'distressing', 'distributable', 'distribute', 'distributed', 'distributing', 'distribution', 'distributions', 'distributor', 'distributors', 'district', 'districts', 'distruction', 'distrust', 'disturbance', 'disturbed', 'disturbing', 'ditch', 'dithering', 'ditto', 'dive', 'diverse', 'diversity', 'divert', 'divide', 'divided', 'divider', 'divides', 'dividing', 'divine', 'divinely', 'diving', 'divinity', 'division', 'divisional', 'divisions', 'divorce', 'dizziness', 'djgpp', 'dnet', 'dobbs', 'dock', 'docking', 'docs', 'doctor', 'doctoral', 'doctors', 'doctrinal', 'doctrine', 'doctrines', 'document', 'documentary', 'documentation', 'documented', 'documenting', 'documents', 'dodge', 'dodger', 'dodgers', 'does', 'doesn', 'doesnot', 'doesnt', 'dogma', 'dogmatic', 'dogs', 'doing', 'doit', 'dolby', 'dole', 'dollar', 'dollars', 'domain', 'domains', 'dome', 'domestic', 'domi', 'dominance', 'dominant', 'dominate', 'dominated', 'dominating', 'domination', 'dominic', 'dominion', 'donald', 'donate', 'donated', 'donation', 'donations', 'donna', 'donnelly', 'dont', 'doom', 'doomed', 'door', 'doors', 'dorothy', 'dortmund', 'dosage', 'dose', 'doses', 'dots', 'dotted', 'double', 'doubled', 'doubles', 'doublespace', 'doubling', 'doubly', 'doubt', 'doubtful', 'doubtless', 'doubts', 'doug', 'douglas', 'dove', 'download', 'downloaded', 'downloading', 'downtown', 'downward', 'dozen', 'dozens', 'draft', 'drafted', 'drafting', 'drag', 'dragged', 'dragging', 'dragon', 'drain', 'drake', 'dram', 'dramatic', 'dramatically', 'drank', 'drastic', 'drastically', 'draw', 'drawbacks', 'drawer', 'drawing', 'drawings', 'drawn', 'draws', 'dream', 'dreaming', 'dreams', 'dress', 'dressed', 'drew', 'dribble', 'dried', 'drift', 'drill', 'drilled', 'drink', 'drinking', 'drinks', 'dripping', 'drive', 'drivel', 'driven', 'driver', 'drivers', 'drives', 'driveway', 'driving', 'drop', 'dropped', 'dropping', 'drops', 'drove', 'drowned', 'drug', 'drugs', 'drum', 'drunk', 'drunken', 'dryden', 'dryer', 'drying', 'dtmedin', 'dual', 'duane', 'dubious', 'dublin', 'ducati', 'duck', 'ducks', 'dude', 'dues', 'duff', 'duke', 'dull', 'duly', 'dumb', 'dump', 'dumped', 'dumping', 'dumps', 'duncan', 'dunn', 'dunno', 'duplex', 'duplicate', 'dupont', 'durable', 'duration', 'durham', 'dusseldorf', 'dust', 'dutch', 'duties', 'duty', 'dwyer', 'dyer', 'dying', 'dykstra', 'dylan', 'dynamic', 'dynamics', 'dynamite', 'dynasty', 'dysfunction', 'eager', 'eagerly', 'eagle', 'eagles', 'earl', 'earlier', 'earliest', 'early', 'earn', 'earned', 'earning', 'earns', 'ears', 'earth', 'earthly', 'ease', 'easier', 'easiest', 'easily', 'east', 'easter', 'eastern', 'eastwood', 'easy', 'eaten', 'eating', 'eats', 'eavesdrop', 'eavesdropper', 'eavesdropping', 'eccentric', 'ecclesiastical', 'echo', 'echoed', 'echoes', 'eclipse', 'ecole', 'economic', 'economical', 'economically', 'economics', 'economies', 'economist', 'economy', 'eddie', 'eden', 'eder', 'edgar', 'edge', 'edges', 'edit', 'edited', 'editing', 'edition', 'editions', 'editor', 'editorial', 'editorials', 'editors', 'edmonton', 'educate', 'educated', 'education', 'educational', 'educators', 'edward', 'edwards', 'eece', 'eecg', 'eecs', 'effect', 'effective', 'effectively', 'effectiveness', 'effects', 'efficacy', 'efficiency', 'efficient', 'efficiently', 'effort', 'efforts', 'egalon', 'eggs', 'egypt', 'egyptian', 'egyptians', 'eighth', 'eighty', 'einstein', 'eisa', 'ejected', 'eklund', 'elaborate', 'elan', 'elapsed', 'elastic', 'elbow', 'elderly', 'elders', 'elect', 'elected', 'election', 'elections', 'electric', 'electrical', 'electricity', 'electro', 'electromagnetic', 'electron', 'electronic', 'electronically', 'electronics', 'electrostatic', 'elegant', 'element', 'elementary', 'elements', 'elevated', 'elias', 'eligible', 'eliminate', 'eliminated', 'eliminates', 'eliminating', 'elimination', 'elite', 'elitist', 'elizabeth', 'ellett', 'elliot', 'ellis', 'ellison', 'eloquent', 'eloquently', 'elses', 'elvis', 'emacs', 'email', 'emailing', 'embarassing', 'embargo', 'embarrassed', 'embarrassing', 'embarrassment', 'embassies', 'embassy', 'embed', 'embedded', 'embedding', 'embrace', 'embraced', 'emerge', 'emerged', 'emergency', 'emerging', 'emeritus', 'emerson', 'emissions', 'emit', 'emotion', 'emotional', 'emotionally', 'emotions', 'emperor', 'emphasis', 'emphasize', 'emphasized', 'emphasizes', 'emphasizing', 'emphatically', 'empire', 'empirical', 'employ', 'employed', 'employee', 'employees', 'employer', 'employers', 'employing', 'employment', 'employs', 'emulate', 'emulates', 'emulation', 'emulator', 'emulators', 'enable', 'enabled', 'enables', 'enabling', 'enact', 'enacted', 'enclave', 'enclose', 'enclosed', 'enclosure', 'encode', 'encoded', 'encoding', 'encompass', 'encounter', 'encountered', 'encounters', 'encourage', 'encouraged', 'encourages', 'encouraging', 'encrypt', 'encrypted', 'encrypting', 'encryption', 'encryptions', 'encyclopedia', 'endangered', 'endeavor', 'endeavour', 'ended', 'endemic', 'endif', 'ending', 'endless', 'endometriosis', 'endorse', 'endorsed', 'endorsement', 'endowed', 'endowment', 'ends', 'endure', 'endured', 'enduring', 'enemies', 'enemy', 'energetic', 'energia', 'energies', 'energy', 'enet', 'enforce', 'enforced', 'enforcement', 'enforcers', 'enforcing', 'engage', 'engaged', 'engagement', 'engaging', 'engin', 'engine', 'engineer', 'engineered', 'engineering', 'engineers', 'engines', 'england', 'english', 'enhance', 'enhanced', 'enhancement', 'enhancements', 'enhancer', 'enhancing', 'enjoy', 'enjoyed', 'enjoying', 'enjoyment', 'enjoys', 'enlarged', 'enlighten', 'enlightened', 'enoch', 'enormous', 'enormously', 'ensuing', 'ensure', 'ensures', 'ensuring', 'entail', 'entails', 'enter', 'entered', 'entering', 'enterprise', 'enterprises', 'enters', 'entertain', 'entertaining', 'entertainment', 'enthusiast', 'enthusiastic', 'enthusiasts', 'entire', 'entirely', 'entirety', 'entities', 'entitled', 'entity', 'entrance', 'entrenched', 'entrepreneurs', 'entries', 'entropy', 'entrusted', 'entry', 'entryway', 'envelope', 'envelopes', 'enviroment', 'environment', 'environmental', 'environmentally', 'environments', 'envisioned', 'envoy', 'envy', 'enzyme', 'epfl', 'ephemeris', 'ephesians', 'epilepsy', 'episode', 'episodes', 'epistles', 'epoch', 'eprom', 'epson', 'epstein', 'equal', 'equality', 'equalizer', 'equally', 'equals', 'equate', 'equated', 'equation', 'equations', 'equilibrium', 'equilizer', 'equip', 'equipment', 'equipped', 'equivalence', 'equivalent', 'equivalents', 'erase', 'erased', 'ergo', 'ergonomic', 'eric', 'erich', 'erickson', 'ericsson', 'erik', 'ermeni', 'ermeniler', 'ernest', 'ernie', 'erosion', 'errey', 'erroneous', 'error', 'errors', 'erzincan', 'erzurum', 'escalating', 'escape', 'escaped', 'escapes', 'escaping', 'escort', 'escrow', 'escrowed', 'escrowing', 'esdi', 'eskimo', 'esoteric', 'especially', 'espionage', 'espn', 'esposito', 'espoused', 'essay', 'essays', 'essence', 'essensa', 'essential', 'essentially', 'establish', 'established', 'establishes', 'establishing', 'establishment', 'establishments', 'estate', 'esther', 'estimate', 'estimated', 'estimates', 'estimation', 'eternal', 'eternally', 'eternity', 'ether', 'ethernet', 'ethic', 'ethical', 'ethically', 'ethics', 'ethiopia', 'ethnic', 'ethnicity', 'ethz', 'etiquette', 'etymology', 'euclid', 'eugene', 'euro', 'europe', 'european', 'europeans', 'evacuated', 'evacuation', 'evade', 'evading', 'evaluate', 'evaluated', 'evaluating', 'evaluation', 'evaluations', 'evangelical', 'evangelicals', 'evangelism', 'evans', 'evasion', 'evening', 'evenings', 'evenly', 'event', 'events', 'eventual', 'eventually', 'everybody', 'everyday', 'everytime', 'evidence', 'evidenced', 'evident', 'evidently', 'evil', 'evils', 'evolution', 'evolutionary', 'evolve', 'evolved', 'evolving', 'exabyte', 'exact', 'exactly', 'exaggerated', 'exam', 'examination', 'examine', 'examined', 'examiner', 'examining', 'example', 'examples', 'exams', 'exceed', 'exceeded', 'exceeding', 'exceeds', 'excel', 'excellent', 'excellently', 'exception', 'exceptional', 'exceptionally', 'exceptions', 'excerpt', 'excerpts', 'excess', 'excesses', 'excessive', 'excessively', 'exchange', 'exchanged', 'exchanges', 'exchanging', 'excited', 'excitement', 'exciting', 'exclude', 'excluded', 'excludes', 'excluding', 'exclusion', 'exclusive', 'exclusively', 'excommunicated', 'excuse', 'excuses', 'exec', 'executable', 'executables', 'execute', 'executed', 'executing', 'execution', 'executions', 'executive', 'exempt', 'exercise', 'exercised', 'exercises', 'exercising', 'exert', 'exhaust', 'exhausted', 'exhaustive', 'exhibit', 'exhibited', 'exhibition', 'exhibits', 'exile', 'exist', 'existance', 'existant', 'existed', 'existence', 'existent', 'existing', 'exists', 'exit', 'exiting', 'exits', 'exodus', 'exotic', 'expand', 'expanded', 'expandibility', 'expanding', 'expands', 'expansion', 'expecially', 'expect', 'expectation', 'expectations', 'expected', 'expecting', 'expects', 'expelled', 'expenditures', 'expense', 'expenses', 'expensive', 'experience', 'experienced', 'experiences', 'experiencing', 'experiment', 'experimental', 'experimentation', 'experimenters', 'experimenting', 'experiments', 'expert', 'expertise', 'experts', 'expiration', 'expired', 'expires', 'explain', 'explained', 'explaining', 'explains', 'explanation', 'explanations', 'explicit', 'explicitly', 'explode', 'exploded', 'exploit', 'exploiting', 'exploration', 'explore', 'explored', 'explorer', 'explorers', 'exploring', 'explosion', 'explosions', 'explosive', 'explosives', 'expn', 'expo', 'export', 'exportable', 'exports', 'expos', 'expose', 'exposed', 'exposing', 'exposure', 'express', 'expressed', 'expresses', 'expressing', 'expression', 'expressions', 'expressly', 'expulsion', 'extend', 'extended', 'extender', 'extending', 'extends', 'extension', 'extensions', 'extensive', 'extensively', 'extent', 'exterior', 'exterminate', 'exterminated', 'extermination', 'external', 'externally', 'extortion', 'extra', 'extract', 'extracted', 'extracting', 'extraction', 'extraordinary', 'extrapolate', 'extrapolating', 'extras', 'extreme', 'extremely', 'extremes', 'extremist', 'extremists', 'eyed', 'eyes', 'eyewitness', 'ezekiel', 'fabrication', 'fabrications', 'face', 'faced', 'faceplate', 'faces', 'facet', 'facilitate', 'facilities', 'facility', 'facing', 'facist', 'fact', 'factions', 'facto', 'factor', 'factoring', 'factors', 'factory', 'facts', 'factual', 'faculty', 'fade', 'fahrenheit', 'fahrvergnugen', 'fail', 'failed', 'failing', 'fails', 'failure', 'failures', 'faint', 'fair', 'fairing', 'fairly', 'fairness', 'faith', 'faithful', 'faithfully', 'faiths', 'fake', 'faked', 'falcon', 'fall', 'fallacious', 'fallacy', 'fallen', 'fallible', 'falling', 'falls', 'false', 'falsely', 'fame', 'familiar', 'families', 'family', 'famine', 'famous', 'fanatic', 'fanatical', 'fanatics', 'fancy', 'fans', 'fantasies', 'fantastic', 'fantasy', 'faqs', 'fare', 'farm', 'farmer', 'farmers', 'farming', 'farms', 'farside', 'farther', 'fascinating', 'fascism', 'fascist', 'fashion', 'fashioned', 'fast', 'faster', 'fastest', 'fatah', 'fatal', 'fate', 'father', 'fathers', 'fatigue', 'fatima', 'fatwa', 'fault', 'faults', 'faulty', 'faust', 'favor', 'favorable', 'favorably', 'favored', 'favorite', 'favorites', 'favour', 'favourite', 'faxes', 'fdisk', 'fear', 'feared', 'fearful', 'fearing', 'fears', 'feasibility', 'feasible', 'feast', 'feat', 'feature', 'featured', 'features', 'featuring', 'february', 'federal', 'federalist', 'federation', 'fedorov', 'feds', 'fedyk', 'feeble', 'feed', 'feedback', 'feeder', 'feeding', 'feeds', 'feel', 'feeling', 'feelings', 'feels', 'fees', 'feet', 'feingold', 'felix', 'fell', 'fellow', 'fellowship', 'felons', 'felony', 'felsner', 'felt', 'female', 'females', 'feminist', 'fence', 'fender', 'fermentation', 'fermilab', 'fernando', 'ferraro', 'fertile', 'fertility', 'festival', 'fetal', 'fetch', 'fetched', 'fetus', 'fetuses', 'feustel', 'fever', 'fewer', 'fiasco', 'fiber', 'fiberglass', 'fiction', 'fictional', 'fiddle', 'fiddling', 'fidelity', 'fido', 'fidonet', 'field', 'fielder', 'fielding', 'fields', 'fierkelab', 'fife', 'fifth', 'figaro', 'fight', 'fighter', 'fighters', 'fighting', 'fights', 'figure', 'figured', 'figures', 'figuring', 'file', 'filed', 'filename', 'filenames', 'files', 'filing', 'filled', 'filling', 'fills', 'film', 'films', 'filter', 'filtering', 'filters', 'final', 'finalized', 'finally', 'finals', 'finance', 'financed', 'finances', 'financial', 'financially', 'financing', 'finder', 'finding', 'findings', 'finds', 'fine', 'fined', 'finest', 'finger', 'fingers', 'fingertips', 'finish', 'finished', 'finishes', 'finishing', 'finite', 'finland', 'finn', 'finney', 'finnish', 'finns', 'firearm', 'firearms', 'fired', 'firepower', 'fires', 'firing', 'firm', 'firmly', 'firms', 'firmware', 'firstly', 'fiscal', 'fish', 'fisher', 'fishing', 'fisk', 'fission', 'fist', 'fists', 'fits', 'fitted', 'fitting', 'fixed', 'fixes', 'fixing', 'fizuli', 'flag', 'flags', 'flame', 'flamed', 'flames', 'flaming', 'flash', 'flashed', 'flashes', 'flashing', 'flashlight', 'flashy', 'flat', 'flatter', 'flavor', 'flavors', 'flaw', 'flawed', 'flawless', 'flawlessly', 'flaws', 'fled', 'flee', 'fleeing', 'fleet', 'fleming', 'flesh', 'fletcher', 'fleury', 'flew', 'flex', 'flexibility', 'flexible', 'flicker', 'flies', 'flight', 'flights', 'flimsy', 'flip', 'flipped', 'flipping', 'float', 'floating', 'flood', 'flooded', 'flooding', 'floor', 'floors', 'floppies', 'floppy', 'floptical', 'florida', 'flourish', 'flow', 'flowers', 'flowing', 'flown', 'flows', 'floyd', 'fluid', 'fluids', 'fluke', 'fluorescent', 'flush', 'flushed', 'flux', 'flyback', 'flyby', 'flyer', 'flyers', 'flying', 'fnal', 'foam', 'focus', 'focused', 'focusing', 'foia', 'foil', 'fold', 'folded', 'folder', 'folding', 'foley', 'foligno', 'folk', 'folks', 'follow', 'followed', 'follower', 'followers', 'following', 'follows', 'followup', 'followups', 'folly', 'fond', 'font', 'fonts', 'food', 'foods', 'fool', 'fooled', 'fooling', 'foolish', 'foolishness', 'fools', 'foot', 'footage', 'football', 'footnotes', 'footprint', 'forbes', 'forbid', 'forbidden', 'forbidding', 'forbids', 'force', 'forced', 'forces', 'forcibly', 'forcing', 'ford', 'fore', 'forecast', 'foreground', 'foreign', 'foremost', 'forensic', 'foresight', 'forest', 'forever', 'forfeiture', 'forged', 'forgery', 'forget', 'forgetting', 'forging', 'forgive', 'forgiven', 'forgiveness', 'forgiving', 'forgot', 'forgotten', 'fork', 'form', 'formal', 'formally', 'format', 'formation', 'formats', 'formatted', 'formatting', 'formed', 'forming', 'forms', 'formula', 'formulas', 'formulate', 'formulated', 'forsale', 'fort', 'forte', 'forth', 'forthcoming', 'fortran', 'fortress', 'fortunate', 'fortunately', 'fortune', 'forum', 'forums', 'forward', 'forwarded', 'forwarding', 'forwards', 'fossil', 'foster', 'fought', 'foul', 'fouled', 'foundation', 'foundations', 'founded', 'founder', 'founders', 'founding', 'fountain', 'fourier', 'fourteen', 'fourteenth', 'fourth', 'fractal', 'fractals', 'fraction', 'fractions', 'fragile', 'fragment', 'fragmentary', 'fragments', 'frame', 'framebuffer', 'frames', 'framework', 'fran', 'france', 'franchise', 'franchises', 'francis', 'francisco', 'francois', 'frank', 'franklin', 'frankly', 'fraud', 'fraught', 'freaks', 'fred', 'frederick', 'fredericton', 'free', 'freebie', 'freed', 'freedom', 'freedoms', 'freely', 'freeman', 'freenet', 'freeware', 'freeway', 'freeways', 'freewill', 'freeze', 'freezes', 'freezing', 'french', 'freq', 'frequencies', 'frequency', 'frequent', 'frequently', 'fresh', 'freshly', 'freshman', 'friction', 'friday', 'fried', 'friedman', 'friend', 'friendliness', 'friendly', 'friends', 'friendship', 'frightened', 'frightening', 'frightful', 'fringe', 'frog', 'frontal', 'frontier', 'fronts', 'frozen', 'fruit', 'fruitless', 'fruits', 'frustrate', 'frustrated', 'frustrating', 'frustration', 'ftpmail', 'fuck', 'fucked', 'fucking', 'fudge', 'fuel', 'fueled', 'fuels', 'fuhr', 'fujitsu', 'fulfil', 'fulfill', 'fulfilled', 'fulfillment', 'fuller', 'fully', 'function', 'functional', 'functionality', 'functioning', 'functions', 'fund', 'fundamental', 'fundamentalist', 'fundamentalists', 'fundamentally', 'fundamentals', 'funded', 'fundies', 'funding', 'funds', 'funet', 'fungal', 'fungus', 'funky', 'funny', 'furnish', 'furniture', 'furthermore', 'fury', 'fuse', 'fuses', 'fusi', 'fusion', 'fuss', 'futile', 'futility', 'future', 'fuzzy', 'fwiw', 'gabriel', 'gadget', 'gadgets', 'gaetti', 'gain', 'gained', 'gainey', 'gaining', 'gains', 'galactic', 'galatians', 'galaxy', 'galileo', 'gallant', 'galley', 'gallon', 'gals', 'game', 'gameboy', 'games', 'gamma', 'gandalf', 'gang', 'gangs', 'gant', 'gaps', 'garage', 'garaged', 'garbage', 'garbo', 'garden', 'gardner', 'garlic', 'garner', 'garpenlov', 'garrett', 'garry', 'gartner', 'garvey', 'gary', 'gases', 'gasket', 'gasoline', 'gasp', 'gassing', 'gate', 'gatech', 'gatekeeper', 'gates', 'gateway', 'gather', 'gathered', 'gathering', 'gaudreau', 'gauge', 'gave', 'gays', 'gaza', 'gazans', 'gear', 'gearbox', 'geared', 'gearing', 'gears', 'geez', 'gehrels', 'gehrig', 'gemini', 'gems', 'gender', 'gene', 'general', 'generalization', 'generalizations', 'generalize', 'generalized', 'generally', 'generals', 'generate', 'generated', 'generates', 'generating', 'generation', 'generations', 'generator', 'generators', 'generic', 'generous', 'genes', 'genesis', 'genetic', 'genetically', 'genetics', 'geneva', 'genie', 'genius', 'genoa', 'genocide', 'gentile', 'gentiles', 'gentle', 'gentleman', 'gentlemen', 'gently', 'genuine', 'genuinely', 'geoff', 'geographic', 'geographical', 'geography', 'geological', 'geology', 'geometric', 'geometry', 'geophysical', 'george', 'georgetown', 'georgia', 'gerald', 'gerard', 'german', 'germano', 'germans', 'germany', 'gerry', 'gestapo', 'gesture', 'gets', 'getting', 'ghetto', 'ghjn', 'ghost', 'ghostscript', 'giant', 'giants', 'gibson', 'gideon', 'gifs', 'gift', 'gifts', 'gigantic', 'gilbert', 'gilkey', 'gill', 'gilmour', 'gimme', 'girl', 'girlfriend', 'girls', 'gist', 'given', 'gives', 'giving', 'gizw', 'gizwt', 'glad', 'gladly', 'glance', 'glanced', 'glands', 'glaring', 'glass', 'glasses', 'glean', 'gleaned', 'glen', 'glenn', 'glimpse', 'glitch', 'global', 'globe', 'glock', 'glocks', 'glorified', 'glorious', 'glory', 'glossary', 'glove', 'gloves', 'glow', 'glowing', 'glucose', 'glue', 'glued', 'glutamate', 'gnuplot', 'goal', 'goalie', 'goalies', 'goals', 'goaltender', 'goaltenders', 'goaltending', 'goat', 'goats', 'goddamn', 'goddard', 'goddess', 'godhead', 'godly', 'gods', 'goes', 'going', 'gold', 'goldberg', 'golden', 'goldin', 'golf', 'gomez', 'gone', 'gonna', 'gonzales', 'gonzalez', 'good', 'goodbye', 'goodies', 'goodness', 'goods', 'goodyear', 'goofed', 'goose', 'gopher', 'gordon', 'gore', 'gorman', 'gosh', 'gospel', 'gospels', 'gothamcity', 'gotta', 'gotten', 'gouged', 'goverment', 'govern', 'governed', 'governing', 'government', 'governmental', 'governments', 'governor', 'govt', 'grab', 'grabbed', 'grabbing', 'grabs', 'grace', 'gracious', 'grad', 'grade', 'graded', 'grades', 'gradient', 'gradual', 'gradually', 'graduate', 'graduated', 'graduates', 'graduation', 'grady', 'graeme', 'grafitti', 'graham', 'grain', 'gram', 'grammar', 'granato', 'grand', 'grandfather', 'grandiose', 'grandmother', 'grandparents', 'granite', 'grant', 'granted', 'granting', 'grants', 'grapes', 'graph', 'graphic', 'graphical', 'graphics', 'graphing', 'graphite', 'graphs', 'grasp', 'grass', 'grateful', 'gratification', 'grave', 'graves', 'gravitational', 'gravity', 'gray', 'grayscale', 'grease', 'greasy', 'great', 'greater', 'greatest', 'greatly', 'greece', 'greed', 'greedy', 'greek', 'greeks', 'green', 'greenbelt', 'greenberg', 'greenwich', 'greetings', 'greg', 'gregg', 'gregory', 'grenade', 'grenades', 'gretzky', 'grew', 'grey', 'greyhound', 'greyscale', 'grid', 'gridlock', 'grief', 'griffey', 'griffin', 'grin', 'grind', 'grinding', 'grip', 'gripe', 'grips', 'groin', 'gross', 'grossly', 'groucho', 'ground', 'grounded', 'grounder', 'grounding', 'grounds', 'group', 'grouped', 'groups', 'grove', 'grow', 'growing', 'grown', 'grows', 'growth', 'grunt', 'gsfc', 'guarantee', 'guaranteed', 'guarantees', 'guard', 'guardians', 'guards', 'guerilla', 'guerillas', 'guerin', 'guerrilla', 'guess', 'guessed', 'guessing', 'guest', 'guests', 'guidance', 'guide', 'guided', 'guidelines', 'guides', 'guiding', 'guilt', 'guilty', 'guise', 'guitar', 'gulf', 'gunfire', 'gunpoint', 'guns', 'gurantee', 'gurion', 'guru', 'gurus', 'guts', 'guys', 'guzman', 'gwynn', 'gxcopy', 'gxxor', 'gyro', 'habit', 'habits', 'habs', 'hack', 'hacked', 'hacker', 'hackers', 'hacking', 'hacks', 'hadn', 'haggling', 'haifa', 'hail', 'haines', 'hair', 'halcyon', 'half', 'halfway', 'halifax', 'hall', 'halo', 'halt', 'halted', 'halves', 'hamas', 'hamburg', 'hamilton', 'hammer', 'hampered', 'hampshire', 'hamrlik', 'hams', 'hand', 'handbook', 'handed', 'handedness', 'hander', 'handful', 'handgun', 'handguns', 'handheld', 'handing', 'handle', 'handlebar', 'handlebars', 'handled', 'handler', 'handlers', 'handles', 'handling', 'hands', 'handshaking', 'handwriting', 'handy', 'hang', 'hanged', 'hanging', 'hangs', 'hank', 'hansen', 'happen', 'happened', 'happening', 'happens', 'happier', 'happily', 'happiness', 'happy', 'harass', 'harassed', 'harassment', 'harbor', 'hard', 'hardcopy', 'hardcover', 'harddisk', 'harddrive', 'hardened', 'harder', 'hardest', 'hardly', 'hardware', 'hardy', 'hare', 'harley', 'harleys', 'harm', 'harmed', 'harmful', 'harmless', 'harmon', 'harmonic', 'harmoniously', 'harmony', 'harold', 'harper', 'harris', 'harrison', 'harry', 'harsh', 'hart', 'hartford', 'hartill', 'hartman', 'harvard', 'harvey', 'hasan', 'hash', 'hasn', 'hassan', 'hassle', 'hassles', 'hast', 'hasty', 'hatch', 'hatcher', 'hate', 'hated', 'hateful', 'hates', 'hath', 'hating', 'hatred', 'hats', 'haul', 'hausmann', 'haven', 'havent', 'having', 'havn', 'havoc', 'hawaii', 'hawerchuk', 'hawgood', 'hawk', 'hawking', 'hawks', 'hayes', 'hayward', 'hazard', 'hazardous', 'hazards', 'hazy', 'hdtv', 'head', 'headache', 'headaches', 'headed', 'header', 'headers', 'heading', 'headings', 'headline', 'headlines', 'headphone', 'headphones', 'headquarters', 'heads', 'heal', 'healed', 'healer', 'healing', 'health', 'healthy', 'healy', 'heap', 'heaps', 'hear', 'heard', 'hearing', 'hearings', 'hears', 'heart', 'hearted', 'heartily', 'heartless', 'hearts', 'heat', 'heated', 'heater', 'heating', 'heaven', 'heavenly', 'heavens', 'heavier', 'heavily', 'heavy', 'hebrew', 'hebrews', 'heck', 'hedican', 'heed', 'heel', 'heels', 'hehehe', 'height', 'heights', 'heinous', 'heirs', 'held', 'helen', 'helicopter', 'helicopters', 'helium', 'hell', 'hellman', 'hello', 'helmet', 'helmets', 'help', 'helped', 'helper', 'helpful', 'helping', 'helpless', 'helps', 'helsinki', 'henderson', 'henrik', 'henry', 'herald', 'herb', 'herbert', 'hercules', 'heres', 'heresy', 'heretical', 'heretics', 'heritage', 'herman', 'hermes', 'hernandez', 'hero', 'heroes', 'heroic', 'heroin', 'herring', 'herrings', 'hershey', 'hesitate', 'hesketh', 'heterosexual', 'heterosexuals', 'hewlett', 'hextall', 'heyman', 'hicolor', 'hidden', 'hide', 'hiding', 'hierarchical', 'hierarchy', 'higgins', 'high', 'higher', 'highest', 'highland', 'highlight', 'highlighted', 'highlights', 'highly', 'highway', 'highways', 'hiking', 'hilarious', 'hill', 'hillary', 'hills', 'hillside', 'himmler', 'hindu', 'hinge', 'hinges', 'hint', 'hinted', 'hints', 'hips', 'hiram', 'hirama', 'hire', 'hired', 'hiring', 'hirsch', 'hispanic', 'hispanics', 'historian', 'historians', 'historic', 'historical', 'historically', 'histories', 'history', 'hitch', 'hiten', 'hitler', 'hits', 'hitter', 'hitters', 'hitting', 'hizbollah', 'hmmm', 'hmmmm', 'hoax', 'hobby', 'hobbyists', 'hockey', 'hoffman', 'hold', 'holder', 'holders', 'holding', 'holds', 'hole', 'holes', 'holiday', 'holidays', 'holiness', 'holland', 'hollow', 'hollywood', 'holmes', 'holocaust', 'holy', 'home', 'homeland', 'homeless', 'homeopathic', 'homeopathy', 'homer', 'homers', 'homes', 'homework', 'homicide', 'homicides', 'hominem', 'homosexual', 'homosexuality', 'homosexuals', 'honda', 'honest', 'honestly', 'honesty', 'hong', 'honor', 'honorable', 'honorary', 'honored', 'honors', 'honour', 'honoured', 'hood', 'hook', 'hooked', 'hooking', 'hooks', 'hoover', 'hope', 'hoped', 'hopeful', 'hopefully', 'hopeless', 'hopes', 'hoping', 'hopkins', 'hopper', 'hoptoad', 'horizon', 'horizons', 'horizontal', 'horizontally', 'horn', 'horns', 'horrendous', 'horrible', 'horribly', 'horror', 'horrors', 'horse', 'horsepower', 'horses', 'hose', 'hosed', 'hospital', 'hospitals', 'host', 'hostage', 'hostages', 'hosted', 'hostile', 'hostilities', 'hostility', 'hostname', 'hosts', 'hotel', 'hotels', 'hotline', 'hotter', 'houghton', 'hour', 'hours', 'house', 'housed', 'household', 'houses', 'housing', 'housley', 'houston', 'hovannisian', 'howard', 'howdy', 'howe', 'howell', 'howling', 'hrbek', 'hrivnak', 'hrudey', 'hubble', 'hudson', 'huffman', 'huge', 'hugh', 'hughes', 'huji', 'hulk', 'hull', 'human', 'humane', 'humanist', 'humanitarian', 'humanities', 'humanity', 'humankind', 'humans', 'humble', 'humility', 'humor', 'humorous', 'humour', 'hundreds', 'hung', 'hungary', 'hunger', 'hungry', 'hunt', 'hunter', 'hunters', 'hunting', 'huntington', 'huntsville', 'hurled', 'hurricane', 'hurry', 'hurt', 'hurting', 'hurts', 'husband', 'husbands', 'husc', 'hussein', 'huts', 'hydrogen', 'hype', 'hyped', 'hyper', 'hypercard', 'hypocrisy', 'hypocrite', 'hypocritical', 'hypotheses', 'hypothesis', 'hypothetical', 'hysterical', 'iastate', 'ibid', 'icbm', 'icccm', 'iceland', 'icon', 'icons', 'idacom', 'idaho', 'idea', 'ideal', 'ideally', 'ideals', 'ideas', 'identical', 'identifiable', 'identification', 'identified', 'identifier', 'identifies', 'identify', 'identifying', 'identity', 'ideological', 'ideologies', 'ideology', 'idiocy', 'idiot', 'idiotic', 'idiots', 'idle', 'ieee', 'ifas', 'iftccu', 'ignite', 'ignition', 'ignorance', 'ignorant', 'ignore', 'ignored', 'ignores', 'ignoring', 'igor', 'iici', 'iicx', 'iifx', 'iisi', 'iivx', 'illegal', 'illegally', 'illegitimate', 'illicit', 'illinois', 'illiterate', 'illness', 'illnesses', 'illogical', 'illuminating', 'illusion', 'illustrate', 'illustrated', 'illustrates', 'illustration', 'image', 'imagemagick', 'imagery', 'images', 'imagewriter', 'imaginary', 'imagination', 'imagine', 'imagined', 'imaging', 'imake', 'imakefile', 'imam', 'imbalance', 'imho', 'immaculate', 'immature', 'immediate', 'immediately', 'immense', 'immensely', 'immigrants', 'immigration', 'imminent', 'immoral', 'immortal', 'immortality', 'immune', 'immunity', 'immunization', 'impact', 'impacts', 'impair', 'impaired', 'impartial', 'impasse', 'impedance', 'impending', 'imperative', 'imperfect', 'imperial', 'implement', 'implementation', 'implementations', 'implemented', 'implementing', 'implements', 'implicated', 'implication', 'implications', 'implicit', 'implicitly', 'implied', 'implies', 'imply', 'implying', 'import', 'importance', 'important', 'importantly', 'imported', 'importing', 'imports', 'impose', 'imposed', 'imposes', 'imposing', 'impossible', 'impractical', 'impress', 'impressed', 'impression', 'impressions', 'impressive', 'imprisoned', 'imprisonment', 'improbable', 'improper', 'improperly', 'improve', 'improved', 'improvement', 'improvements', 'improves', 'improving', 'impulse', 'impulses', 'impunity', 'inability', 'inaccessible', 'inaccuracies', 'inaccurate', 'inadequate', 'inappropriate', 'inaugural', 'incandescent', 'incapable', 'incarnate', 'incarnation', 'incentive', 'incentives', 'incessant', 'inch', 'inches', 'incidence', 'incident', 'incidental', 'incidentally', 'incidents', 'inclination', 'inclined', 'include', 'included', 'includes', 'including', 'inclusion', 'inclusive', 'income', 'incoming', 'incompatibilities', 'incompatibility', 'incompatible', 'incompetence', 'incompetent', 'incomplete', 'inconsequential', 'inconsistencies', 'inconsistent', 'inconvenience', 'inconvenient', 'incorporate', 'incorporated', 'incorporates', 'incorporating', 'incorrect', 'incorrectly', 'increase', 'increased', 'increases', 'increasing', 'increasingly', 'incredible', 'incredibly', 'incremental', 'incriminating', 'incurable', 'incurred', 'indefinitely', 'indented', 'independant', 'independence', 'independent', 'independently', 'index', 'indexes', 'india', 'indian', 'indiana', 'indianapolis', 'indians', 'indicate', 'indicated', 'indicates', 'indicating', 'indication', 'indicative', 'indicator', 'indicators', 'indices', 'indictment', 'indigenous', 'indigo', 'indirect', 'indirectly', 'indiscriminate', 'indiscriminately', 'indistinguishable', 'individual', 'individuality', 'individually', 'individuals', 'induce', 'induced', 'inductance', 'induction', 'inductive', 'indulge', 'industrial', 'industries', 'industry', 'ineffective', 'inefficient', 'inerrant', 'inevitable', 'inevitably', 'inexpensive', 'infallibility', 'infallible', 'infamous', 'infant', 'infantile', 'infants', 'infected', 'infection', 'infections', 'infectious', 'infer', 'inference', 'inferior', 'infested', 'infield', 'infinite', 'infinitely', 'infinity', 'infj', 'inflammation', 'inflammatory', 'inflatable', 'inflated', 'inflation', 'inflict', 'inflicted', 'inflicting', 'influence', 'influenced', 'influences', 'info', 'inform', 'informal', 'informant', 'informatik', 'information', 'informational', 'informations', 'informative', 'informed', 'infoworld', 'infra', 'infrared', 'infrastructure', 'infringed', 'infringement', 'ingr', 'ingredient', 'ingredients', 'ingres', 'inhabitants', 'inherent', 'inherently', 'inherit', 'inherited', 'inhuman', 'iniquity', 'init', 'initial', 'initialization', 'initialize', 'initialized', 'initializing', 'initially', 'initials', 'initiate', 'initiated', 'initiating', 'initiation', 'initiative', 'inject', 'injected', 'injecting', 'injection', 'injector', 'injure', 'injured', 'injuries', 'injury', 'injustice', 'inkjet', 'inline', 'inmates', 'innate', 'inner', 'inning', 'innings', 'innocence', 'innocent', 'innocents', 'innovation', 'innovations', 'innovative', 'input', 'inputs', 'inquire', 'inquiries', 'inquiry', 'inquisition', 'inria', 'insane', 'insanity', 'insecure', 'insert', 'inserted', 'inserting', 'insertion', 'inserts', 'inside', 'insight', 'insights', 'insignificant', 'insist', 'insisted', 'insistence', 'insisting', 'insists', 'insofar', 'inspected', 'inspection', 'inspector', 'inspiration', 'inspired', 'install', 'installation', 'installations', 'installed', 'installing', 'instance', 'instances', 'instant', 'instantly', 'instead', 'instigated', 'instinct', 'instinctive', 'institute', 'instituted', 'institutes', 'institution', 'institutional', 'institutions', 'instruct', 'instructed', 'instruction', 'instructions', 'instructor', 'instructors', 'instrument', 'instruments', 'insufficient', 'insulated', 'insulation', 'insult', 'insulted', 'insulting', 'insults', 'insurance', 'insure', 'insured', 'intact', 'intake', 'integer', 'integers', 'integra', 'integral', 'integrate', 'integrated', 'integrates', 'integrating', 'integration', 'integrity', 'intel', 'intellect', 'intellectual', 'intellectually', 'intelligence', 'intelligent', 'intend', 'intended', 'intends', 'intense', 'intensify', 'intensity', 'intensive', 'intent', 'intention', 'intentional', 'intentionally', 'intentions', 'inter', 'interact', 'interaction', 'interactions', 'interactive', 'interactively', 'intercept', 'intercepted', 'interception', 'intercepts', 'interchange', 'interchangeable', 'intercourse', 'interested', 'interesting', 'interestingly', 'interests', 'interface', 'interfaces', 'interfacing', 'interfere', 'interfered', 'interference', 'interferes', 'interfering', 'intergraph', 'interim', 'interior', 'interlaced', 'interleave', 'intermediate', 'intermittent', 'intern', 'internal', 'internally', 'internals', 'international', 'internationally', 'internet', 'interplanetary', 'interpolation', 'interpret', 'interpretation', 'interpretations', 'interpreted', 'interpreter', 'interpreting', 'interprets', 'interrogation', 'interrupt', 'interrupts', 'intersecting', 'intersection', 'intersections', 'interstate', 'interstellar', 'interval', 'intervals', 'intervene', 'intervened', 'intervention', 'interview', 'interviewed', 'interviews', 'intestinal', 'intestine', 'intestines', 'intifada', 'intimate', 'intimidate', 'intimidation', 'intolerable', 'intolerance', 'intolerant', 'intra', 'intransigence', 'intrepid', 'intrested', 'intrinsic', 'intrinsically', 'intrinsics', 'intro', 'introduce', 'introduced', 'introducing', 'introduction', 'introductory', 'intruder', 'intrusion', 'intrusive', 'intuition', 'intuitive', 'invade', 'invaded', 'invader', 'invaders', 'invading', 'invalid', 'invalidate', 'invaluable', 'invariably', 'invasion', 'invasive', 'invent', 'invented', 'inventing', 'invention', 'inventor', 'inventory', 'inverness', 'inverse', 'invest', 'invested', 'investigate', 'investigated', 'investigating', 'investigation', 'investigations', 'investigative', 'investigator', 'investigators', 'investing', 'investment', 'investments', 'investor', 'investors', 'inviolate', 'invisible', 'invitation', 'invite', 'invited', 'invoke', 'invoked', 'invokes', 'invoking', 'involve', 'involved', 'involvement', 'involves', 'involving', 'iota', 'iowa', 'ipser', 'iran', 'iranian', 'iranians', 'iraq', 'iraqi', 'iraqis', 'ireland', 'irgun', 'iris', 'irish', 'iron', 'ironic', 'ironically', 'irony', 'irqs', 'irrational', 'irregular', 'irrelevant', 'irrelevent', 'irresponsible', 'irritating', 'irvine', 'irving', 'isaac', 'isaiah', 'isas', 'isbn', 'isdn', 'islam', 'islamic', 'island', 'islanders', 'islands', 'isles', 'isolate', 'isolated', 'isolation', 'israel', 'israeli', 'israelis', 'israelites', 'israels', 'isreal', 'issuance', 'issue', 'issued', 'issues', 'issuing', 'istanbul', 'italian', 'italy', 'itar', 'itchy', 'item', 'items', 'ivan', 'jack', 'jacket', 'jackets', 'jacks', 'jackson', 'jacob', 'jagr', 'jaguar', 'jail', 'jake', 'james', 'jamie', 'jane', 'janet', 'janney', 'janssens', 'january', 'japan', 'japanese', 'jari', 'jarvis', 'jasmine', 'jason', 'jaws', 'jays', 'jayson', 'jazz', 'jean', 'jeans', 'jeep', 'jeez', 'jeeze', 'jeff', 'jefferson', 'jeffrey', 'jehovah', 'jenks', 'jennings', 'jeopardy', 'jeremy', 'jericho', 'jerk', 'jerks', 'jerome', 'jerry', 'jersey', 'jerusalem', 'jesse', 'jesus', 'jets', 'jewish', 'jewry', 'jews', 'jhuapl', 'jihad', 'jimmy', 'jobs', 'jody', 'joel', 'johan', 'johansson', 'john', 'johnh', 'johnny', 'johns', 'johnson', 'johnston', 'join', 'joined', 'joining', 'joint', 'jointly', 'joints', 'joke', 'jokerit', 'jokes', 'joking', 'jonas', 'jonathan', 'jones', 'jonestown', 'jordan', 'jordanian', 'jose', 'joseph', 'josephus', 'josh', 'joshua', 'joslin', 'journal', 'journalism', 'journalist', 'journalists', 'journals', 'journey', 'joystick', 'joysticks', 'jpeg', 'jtcent', 'jtchern', 'juan', 'judaism', 'judas', 'jude', 'judeo', 'judge', 'judged', 'judgement', 'judgemental', 'judgements', 'judges', 'judging', 'judgment', 'judgments', 'judicial', 'judiciary', 'juha', 'juice', 'julian', 'july', 'jumbo', 'jump', 'jumped', 'jumper', 'jumpers', 'jumping', 'jumps', 'junction', 'june', 'juneau', 'junior', 'junk', 'junta', 'jupiter', 'jurisdiction', 'jurisdictions', 'jury', 'just', 'justice', 'justifiable', 'justification', 'justifications', 'justified', 'justifies', 'justify', 'justifying', 'justin', 'justly', 'kahn', 'kaiser', 'kaldis', 'kampf', 'kansas', 'kapor', 'karabag', 'karabagh', 'karabakh', 'karen', 'kariya', 'karl', 'karma', 'kars', 'kathleen', 'katyusha', 'kawasaki', 'kbytes', 'kdka', 'keen', 'keenan', 'keeper', 'keeping', 'keeps', 'keith', 'kekule', 'keller', 'kellog', 'kelly', 'kelvin', 'kemal', 'kennedy', 'kenneth', 'kenny', 'kent', 'kentucky', 'kept', 'kermit', 'kernel', 'kerosene', 'kerr', 'kerry', 'kevin', 'keyboard', 'keyboards', 'keycode', 'keying', 'keypad', 'keypress', 'keys', 'keystrokes', 'keysym', 'keyword', 'keywords', 'khan', 'khomeini', 'khoros', 'kibbutz', 'kick', 'kicked', 'kicker', 'kicking', 'kicks', 'kidding', 'kidney', 'kids', 'kill', 'killed', 'killer', 'killers', 'killing', 'killings', 'kills', 'kilograms', 'kilometers', 'kilroy', 'kind', 'kinda', 'kindly', 'kindness', 'kinds', 'king', 'kingdom', 'kingman', 'kings', 'kingston', 'kinsey', 'kirby', 'kirk', 'kirlian', 'kisio', 'kiss', 'kitchen', 'kits', 'kjenks', 'kjznb', 'kkeller', 'klan', 'kleck', 'klein', 'kmail', 'knee', 'knees', 'knew', 'knife', 'knight', 'knives', 'knob', 'knock', 'knocked', 'knocking', 'knocks', 'knots', 'know', 'knowing', 'knowingly', 'knowledgable', 'knowledge', 'knowledgeable', 'knowlege', 'known', 'knows', 'knuckles', 'kodak', 'kolstad', 'kong', 'kool', 'koran', 'korea', 'korean', 'koresh', 'kosher', 'kosmos', 'kotrb', 'koufax', 'koutd', 'kovalev', 'kozlov', 'kratz', 'krillean', 'kris', 'kron', 'kryptonite', 'kuiper', 'kurdish', 'kurds', 'kurri', 'kurt', 'kuwait', 'label', 'labeled', 'labelled', 'labels', 'labor', 'laboratories', 'laboratory', 'labour', 'labs', 'lack', 'lacked', 'lacking', 'lacks', 'ladies', 'lady', 'lafontaine', 'laid', 'lake', 'lakers', 'lakes', 'lamb', 'lame', 'lamont', 'lamp', 'lamps', 'lance', 'land', 'landed', 'landing', 'landings', 'landlord', 'landmark', 'lands', 'landsat', 'landscape', 'lane', 'lanes', 'lang', 'langley', 'language', 'languages', 'lankford', 'lantern', 'lapointe', 'lapse', 'laptop', 'larc', 'large', 'largely', 'larger', 'largest', 'larkin', 'larry', 'lars', 'laser', 'laserjet', 'lasers', 'laserwriter', 'lasted', 'lasting', 'lastly', 'lasts', 'latch', 'late', 'lately', 'latent', 'later', 'latest', 'latex', 'latin', 'latitude', 'laugh', 'laughable', 'laughed', 'laughing', 'laughter', 'launch', 'launched', 'launcher', 'launchers', 'launches', 'launching', 'laurel', 'lawful', 'lawfully', 'lawmakers', 'lawn', 'lawrence', 'laws', 'lawsuit', 'lawyer', 'lawyers', 'layer', 'layers', 'laying', 'layman', 'layout', 'layouts', 'lazarus', 'laziness', 'lazy', 'lcii', 'lciii', 'leach', 'lead', 'leader', 'leaders', 'leadership', 'leading', 'leads', 'leaf', 'leafs', 'league', 'leaguers', 'leagues', 'leak', 'leaking', 'leaks', 'leaky', 'lean', 'leaning', 'leap', 'learn', 'learned', 'learning', 'leary', 'lease', 'leather', 'leathers', 'leave', 'leaves', 'leaving', 'lebanese', 'lebanon', 'lebeau', 'lecture', 'lectures', 'leds', 'lefebvre', 'left', 'leftist', 'leftover', 'lefty', 'legacy', 'legal', 'legality', 'legalization', 'legally', 'legend', 'legends', 'legion', 'legislation', 'legislative', 'legislators', 'legislature', 'legit', 'legitimacy', 'legitimate', 'legitimately', 'legs', 'lehigh', 'leius', 'leland', 'lemieux', 'lemke', 'lemon', 'lend', 'lends', 'length', 'lengths', 'lengthy', 'lenin', 'lens', 'lenses', 'lent', 'leonard', 'lerc', 'lesbians', 'lesser', 'lesson', 'lessons', 'lest', 'lethal', 'lets', 'letter', 'letters', 'letting', 'level', 'levels', 'lever', 'leverage', 'levi', 'levine', 'leviticus', 'levy', 'lewis', 'lexicon', 'liability', 'liable', 'liar', 'liars', 'liberal', 'liberally', 'liberals', 'liberated', 'liberation', 'libertarian', 'libertarianism', 'libertarians', 'liberties', 'liberty', 'libraries', 'library', 'libs', 'libxmu', 'libxt', 'licence', 'license', 'licensed', 'licenses', 'licensing', 'lidstrom', 'lied', 'liek', 'lies', 'lieutenant', 'life', 'lifestyle', 'lifestyles', 'lifetime', 'lifetimes', 'lift', 'lifted', 'lifting', 'liftoff', 'light', 'lighten', 'lighter', 'lighting', 'lightly', 'lightning', 'lights', 'lightweight', 'like', 'liked', 'likelihood', 'likely', 'likes', 'likewise', 'liking', 'likud', 'limb', 'limit', 'limitation', 'limitations', 'limited', 'limiter', 'limiting', 'limits', 'lincoln', 'linda', 'lindbergh', 'linden', 'lindros', 'line', 'linear', 'lined', 'liner', 'lines', 'lineup', 'lining', 'link', 'linkage', 'linked', 'linking', 'links', 'linux', 'lion', 'lips', 'liquid', 'lisa', 'lisp', 'list', 'listed', 'listen', 'listened', 'listening', 'listing', 'listings', 'lists', 'listserv', 'lite', 'liter', 'literal', 'literally', 'literary', 'literature', 'liters', 'litigation', 'little', 'liturgical', 'liturgy', 'live', 'lived', 'liver', 'livermore', 'liverpool', 'lives', 'living', 'llnl', 'lloyd', 'load', 'loaded', 'loader', 'loading', 'loads', 'loan', 'loans', 'loathe', 'lobby', 'lobbying', 'local', 'locale', 'locally', 'localtalk', 'locate', 'located', 'locating', 'location', 'locations', 'lock', 'locked', 'locker', 'lockheed', 'locking', 'locks', 'lodge', 'logged', 'logging', 'logic', 'logical', 'logically', 'login', 'logitech', 'logo', 'logos', 'logs', 'loki', 'lomakin', 'london', 'lone', 'lonestar', 'long', 'longer', 'longest', 'longitude', 'longstanding', 'lonnie', 'look', 'looked', 'looking', 'looks', 'lookup', 'loop', 'loops', 'loose', 'loosely', 'loosen', 'loosing', 'lopez', 'lord', 'lords', 'lose', 'loser', 'losers', 'loses', 'losing', 'loss', 'losses', 'lossless', 'lost', 'lots', 'lotsa', 'lotus', 'loud', 'louder', 'loudly', 'loudspeakers', 'louis', 'louisiana', 'louisville', 'lousy', 'love', 'loved', 'lovely', 'lover', 'lovers', 'loves', 'loving', 'lowell', 'lower', 'lowered', 'lowering', 'lowest', 'lowly', 'loyal', 'loyalty', 'lucid', 'lucifer', 'luck', 'luckily', 'lucky', 'ludicrous', 'ludwig', 'luis', 'luke', 'lukewarm', 'lump', 'lunar', 'lunatic', 'lunatics', 'lunch', 'lung', 'lungs', 'lure', 'lurking', 'lust', 'luther', 'lutheran', 'lutherans', 'luxury', 'lxaw', 'lxext', 'lxmu', 'lydick', 'lying', 'lyme', 'lynch', 'lynn', 'lynx', 'lyrics', 'macdonald', 'mach', 'machine', 'machinery', 'machines', 'macinnis', 'macintosh', 'maciver', 'mack', 'macmillan', 'macquarie', 'macro', 'macros', 'macs', 'macuser', 'macweek', 'macworld', 'macx', 'maddi', 'maddux', 'madison', 'madness', 'madonna', 'mafia', 'magazine', 'magazines', 'magellan', 'magic', 'magical', 'magnavox', 'magnet', 'magnetic', 'magnitude', 'magnum', 'magnus', 'mags', 'magus', 'mahan', 'mail', 'mailbox', 'mailed', 'mailer', 'mailers', 'mailing', 'mailings', 'mails', 'main', 'maine', 'mainframe', 'mainland', 'mainly', 'mainstream', 'maintain', 'maintained', 'maintainer', 'maintaining', 'maintains', 'maintenance', 'majestic', 'majesty', 'major', 'majority', 'majors', 'make', 'makefile', 'maker', 'makers', 'makes', 'making', 'malaysia', 'malcolm', 'male', 'males', 'malfunction', 'mall', 'malmo', 'mamma', 'mammals', 'manage', 'managed', 'management', 'manager', 'managers', 'manages', 'managing', 'mandate', 'mandated', 'mandates', 'mandatory', 'mandell', 'maneuver', 'maneuvering', 'maneuvers', 'mangled', 'manhattan', 'mania', 'manifest', 'manifestation', 'manifestations', 'manifested', 'manifests', 'manipulate', 'manipulated', 'manipulating', 'manipulation', 'manipulations', 'manipulator', 'mankind', 'manned', 'manner', 'manslaughter', 'manson', 'manta', 'mantis', 'mantle', 'manual', 'manually', 'manuals', 'manufacture', 'manufactured', 'manufacturer', 'manufacturers', 'manufactures', 'manufacturing', 'manuscript', 'manuscripts', 'maple', 'mapped', 'mapping', 'maps', 'marble', 'marc', 'march', 'marched', 'marching', 'marcus', 'margaret', 'margin', 'marginal', 'marginally', 'margins', 'marie', 'marijuana', 'marine', 'mariner', 'mariners', 'marines', 'mario', 'marital', 'mark', 'marked', 'markedly', 'marker', 'market', 'marketed', 'marketing', 'marketplace', 'markets', 'marks', 'markus', 'marlins', 'marquette', 'marriage', 'marriages', 'married', 'marry', 'mars', 'marshall', 'mart', 'martian', 'martin', 'martinez', 'marty', 'martyr', 'marvel', 'marvelous', 'marvin', 'marxist', 'mary', 'maryland', 'mask', 'masking', 'masks', 'mason', 'masonic', 'masons', 'mass', 'massachusetts', 'massacre', 'massacred', 'massacres', 'massacring', 'massage', 'masses', 'massive', 'massively', 'master', 'mastercard', 'mastering', 'masterpiece', 'masters', 'match', 'matched', 'matches', 'matching', 'mate', 'mater', 'material', 'materials', 'math', 'mathcad', 'mathematica', 'mathematical', 'mathematically', 'mathematicians', 'mathematics', 'mathew', 'mating', 'matrix', 'matrox', 'mats', 'matt', 'matteau', 'matter', 'matters', 'matthew', 'matthias', 'mattingly', 'mature', 'maturity', 'maurice', 'maximize', 'maximum', 'maxtor', 'maxwell', 'maybe', 'mayer', 'maynard', 'mayor', 'mays', 'mazda', 'maze', 'mbits', 'mbxlt', 'mbxn', 'mbxom', 'mbyte', 'mccarthy', 'mcdonald', 'mcdonnell', 'mcdowell', 'mceachern', 'mcgill', 'mcgraw', 'mcgriff', 'mcguire', 'mchp', 'mcimail', 'mcintyre', 'mckay', 'mckenzie', 'mclean', 'mcovingt', 'mcphee', 'mcrae', 'mcrcim', 'mcwilliams', 'mead', 'meade', 'meal', 'meals', 'mean', 'meaning', 'meaningful', 'meaningless', 'meanings', 'means', 'meant', 'meantime', 'measurable', 'measure', 'measured', 'measurement', 'measurements', 'measures', 'measuring', 'meat', 'mechanic', 'mechanical', 'mechanically', 'mechanics', 'mechanism', 'mechanisms', 'medal', 'media', 'median', 'medical', 'medication', 'medications', 'medicine', 'medieval', 'medin', 'mediocre', 'mediot', 'mediterranean', 'medium', 'meet', 'meeting', 'meetings', 'meets', 'mega', 'megabyte', 'megabytes', 'megatek', 'megs', 'mein', 'melbourne', 'mellon', 'melt', 'melted', 'member', 'members', 'membership', 'membrane', 'meme', 'memoirs', 'memorable', 'memorial', 'memories', 'memory', 'memphis', 'ment', 'mental', 'mentality', 'mentally', 'mention', 'mentioned', 'mentioning', 'mentions', 'mentor', 'menu', 'menus', 'mercedes', 'merchandise', 'merchants', 'merciful', 'mercury', 'mercy', 'mere', 'merely', 'merge', 'merged', 'merging', 'merit', 'merits', 'merkle', 'merrill', 'mesh', 'mess', 'message', 'messages', 'messed', 'messenger', 'messengers', 'messiah', 'messianic', 'messier', 'messing', 'messy', 'meta', 'metabolic', 'metal', 'metallic', 'metals', 'metaphor', 'metaphorical', 'metaphysical', 'meteor', 'meter', 'meters', 'methanol', 'methinks', 'method', 'methodology', 'methods', 'metric', 'metrics', 'metro', 'mets', 'metzenbaum', 'metzger', 'metzler', 'mexican', 'mexico', 'meyer', 'mget', 'miami', 'miata', 'mice', 'mich', 'michael', 'michigan', 'mickey', 'micro', 'microcircuit', 'microcircuits', 'microcomputer', 'microcontroller', 'microdistrict', 'microgravity', 'micron', 'micronics', 'microphone', 'microprocessor', 'microsoft', 'microsystems', 'microwave', 'microwaves', 'middle', 'middlesex', 'mideast', 'midi', 'midnight', 'midst', 'midway', 'midwest', 'mighty', 'migraine', 'migraines', 'mikael', 'mike', 'milage', 'milan', 'mild', 'mildly', 'mile', 'mileage', 'miles', 'militant', 'militarily', 'military', 'militello', 'militia', 'militiamen', 'militias', 'milk', 'millen', 'millenia', 'miller', 'million', 'millions', 'milliseconds', 'milton', 'milwaukee', 'mime', 'mind', 'minded', 'mindless', 'minds', 'mindset', 'miner', 'mineral', 'minerals', 'mines', 'mini', 'minimal', 'minimize', 'minimized', 'minimum', 'mining', 'miniscribe', 'miniscule', 'minister', 'ministers', 'ministry', 'minneapolis', 'minnesota', 'minor', 'minorities', 'minority', 'minors', 'mint', 'minus', 'minute', 'minutes', 'mips', 'miracle', 'miracles', 'miraculous', 'mirage', 'mirror', 'mirrored', 'mirrors', 'misc', 'miscellaneous', 'misconception', 'misconduct', 'miserable', 'miserably', 'misery', 'misfire', 'misfortune', 'misguided', 'misinformation', 'misinterpretation', 'mislead', 'misleading', 'misled', 'misnomer', 'misplaced', 'misplayed', 'misread', 'misrepresent', 'misrepresentation', 'miss', 'missed', 'missile', 'missiles', 'missing', 'mission', 'missionary', 'missions', 'mississippi', 'missouri', 'mist', 'mistake', 'mistaken', 'mistakenly', 'mistakes', 'misunderstand', 'misunderstanding', 'misunderstood', 'misuse', 'misused', 'mitch', 'mitchell', 'mitre', 'mitsubishi', 'mitsumi', 'mixed', 'mixer', 'mixing', 'mixture', 'miyazawa', 'mjones', 'mnuy', 'mobile', 'mobility', 'mobs', 'mock', 'mode', 'model', 'modeled', 'modeling', 'modelling', 'models', 'modem', 'modems', 'moderate', 'moderated', 'moderately', 'moderates', 'moderation', 'moderator', 'modern', 'modes', 'modest', 'modification', 'modifications', 'modified', 'modifier', 'modifiers', 'modify', 'modifying', 'modo', 'mods', 'modular', 'modulated', 'modulation', 'module', 'modules', 'mogilny', 'mohammad', 'mohammed', 'moisture', 'molecular', 'molecules', 'molestation', 'molesters', 'molesting', 'molitor', 'moment', 'momentarily', 'moments', 'momentum', 'monash', 'moncton', 'monday', 'monetary', 'money', 'monitor', 'monitored', 'monitoring', 'monitors', 'monk', 'monkey', 'mono', 'monochrome', 'monolithic', 'monopoly', 'monsanto', 'monster', 'mont', 'montana', 'montgomery', 'month', 'monthly', 'months', 'montreal', 'monty', 'monument', 'mood', 'moog', 'moon', 'moonbase', 'moons', 'moore', 'moot', 'mopar', 'moral', 'morality', 'morally', 'morals', 'morgan', 'mormon', 'mormons', 'morning', 'moron', 'morons', 'morphine', 'morphing', 'morris', 'mortal', 'mortality', 'mortals', 'mortgage', 'mosaic', 'moscow', 'moses', 'moslem', 'moslems', 'mosque', 'moss', 'mossad', 'motel', 'mother', 'motherboard', 'motherboards', 'mothers', 'motif', 'motion', 'motions', 'motivate', 'motivated', 'motivation', 'motivations', 'motive', 'motives', 'moto', 'motor', 'motorcycle', 'motorcycles', 'motorcycling', 'motorcyclist', 'motorcyclists', 'motorola', 'motors', 'motto', 'mount', 'mountain', 'mountainous', 'mountains', 'mounted', 'mounting', 'mouse', 'mouth', 'mouths', 'moved', 'movement', 'movements', 'moves', 'movie', 'movies', 'moving', 'mower', 'mozumder', 'mpce', 'mpeg', 'msdos', 'msfc', 'mucho', 'muenchen', 'muffler', 'mufflers', 'muhammad', 'mule', 'mullen', 'muller', 'multi', 'multimedia', 'multiple', 'multiplexer', 'multiplier', 'multiply', 'multisync', 'multitasking', 'multitude', 'multiuser', 'mumble', 'mundane', 'munich', 'munitions', 'muratoff', 'murder', 'murdered', 'murderer', 'murderers', 'murdering', 'murderous', 'murders', 'murphy', 'murray', 'muscle', 'muscles', 'museum', 'museums', 'mush', 'mushrooms', 'music', 'musical', 'muslim', 'muslims', 'mussina', 'mustang', 'muster', 'mutant', 'mutants', 'mute', 'mutilated', 'mutlu', 'mutual', 'mutually', 'mvanheyn', 'mydisplay', 'myers', 'mykotronx', 'myriad', 'mysteries', 'mysterious', 'mystery', 'mystical', 'myth', 'mythical', 'mythology', 'myths', 'nada', 'naftaly', 'nagarno', 'nagging', 'nagorno', 'nail', 'nailed', 'nails', 'naive', 'naked', 'nakhitchevan', 'nambla', 'named', 'names', 'naming', 'nanao', 'nancy', 'nanosecond', 'napalm', 'napoleon', 'narrative', 'narrow', 'narrowed', 'nasa', 'nasda', 'nasp', 'nasty', 'nathan', 'nathaniel', 'nation', 'national', 'nationalist', 'nationalities', 'nationality', 'nationally', 'nationals', 'nations', 'nationwide', 'native', 'natives', 'nato', 'natural', 'naturally', 'nature', 'natures', 'naval', 'navigation', 'navy', 'nazi', 'nazis', 'nazism', 'ncaa', 'ncsa', 'ncsc', 'ncsl', 'ncsu', 'ndis', 'neal', 'near', 'nearby', 'nearest', 'nearly', 'neat', 'neatly', 'nebraska', 'neccessary', 'necessarily', 'necessary', 'necessity', 'neck', 'nedved', 'need', 'needed', 'needham', 'needing', 'needle', 'needles', 'needless', 'needn', 'needs', 'neely', 'negative', 'neglect', 'neglected', 'neglecting', 'negligent', 'negligible', 'negotiable', 'negotiate', 'negotiated', 'negotiating', 'negotiation', 'negotiations', 'neighbor', 'neighborhood', 'neighborhoods', 'neighboring', 'neighbors', 'neighbour', 'neighbouring', 'neighbours', 'neil', 'neill', 'nelson', 'neon', 'neptune', 'nerve', 'nerves', 'nervous', 'ness', 'netcom', 'netherlands', 'netland', 'netnews', 'nets', 'netters', 'netware', 'network', 'networked', 'networking', 'networks', 'neural', 'neurologist', 'neurology', 'neuron', 'neurons', 'neutral', 'neutron', 'nevada', 'newbie', 'newbies', 'newer', 'newest', 'newline', 'newly', 'newman', 'news', 'newsgroup', 'newsgroups', 'newsletter', 'newsletters', 'newspaper', 'newspapers', 'newsreader', 'newsweek', 'newton', 'nextstep', 'nhlpa', 'nice', 'nicea', 'nicely', 'nicene', 'nicer', 'nicholas', 'nicholls', 'nichols', 'nick', 'nickname', 'nidal', 'niedermayer', 'nieuwendyk', 'nifty', 'night', 'nightly', 'nightmare', 'nights', 'nilsson', 'nineteenth', 'ninety', 'ninja', 'nintendo', 'ninth', 'nissan', 'nist', 'nistnews', 'nixon', 'nkjz', 'nmsu', 'nntp', 'noaa', 'noah', 'noao', 'nobel', 'noble', 'nodak', 'node', 'nodes', 'noise', 'noises', 'noisy', 'nolan', 'nominal', 'nominations', 'noncommercial', 'nonetheless', 'nonprofit', 'nonsense', 'nonstandard', 'nontechnical', 'noon', 'noonan', 'nope', 'nordiques', 'nords', 'noring', 'norm', 'normal', 'normally', 'normals', 'norman', 'norris', 'north', 'northeast', 'northeastern', 'northern', 'northwest', 'northwestern', 'norton', 'norway', 'nose', 'notable', 'notably', 'notation', 'notch', 'note', 'notebook', 'notebooks', 'noted', 'notes', 'noteworthy', 'nothingness', 'noticable', 'notice', 'noticeable', 'noticeably', 'noticed', 'notices', 'noticing', 'notification', 'notified', 'notify', 'notifying', 'noting', 'notion', 'notions', 'notorious', 'notoriously', 'notwithstanding', 'nova', 'novel', 'novell', 'november', 'novice', 'nowadays', 'noyes', 'nren', 'nrhj', 'nriz', 'nrizwt', 'nssdca', 'nswc', 'ntis', 'ntsc', 'nubus', 'nuclear', 'nucleus', 'nuke', 'nukes', 'null', 'numb', 'number', 'numbered', 'numbering', 'numbers', 'numeric', 'numerical', 'numerous', 'numlock', 'numminen', 'nurse', 'nurses', 'nursing', 'nutrition', 'nuts', 'nutshell', 'nylander', 'oakland', 'oaks', 'oasys', 'oates', 'oath', 'obedience', 'obese', 'obey', 'obeyed', 'obeying', 'obfuscate', 'obfuscation', 'object', 'objected', 'objecting', 'objection', 'objections', 'objective', 'objectively', 'objectives', 'objectivity', 'objects', 'obligated', 'obligation', 'obligations', 'obligatory', 'oblige', 'obliged', 'oblivion', 'oblivious', 'obmoto', 'obnoxious', 'obscure', 'obscured', 'obscurity', 'observable', 'observation', 'observations', 'observatory', 'observe', 'observed', 'observer', 'observers', 'observing', 'obsession', 'obsolete', 'obstacles', 'obstruction', 'obtain', 'obtainable', 'obtained', 'obtaining', 'obvious', 'obviously', 'occasion', 'occasional', 'occasionally', 'occasions', 'occult', 'occupancy', 'occupant', 'occupants', 'occupation', 'occupied', 'occupier', 'occupies', 'occupy', 'occupying', 'occur', 'occured', 'occuring', 'occurred', 'occurrence', 'occurring', 'occurs', 'ocean', 'oclock', 'octal', 'october', 'octopus', 'oddly', 'odds', 'odgers', 'odometer', 'offence', 'offend', 'offended', 'offender', 'offenders', 'offending', 'offense', 'offenses', 'offensive', 'offensively', 'offer', 'offered', 'offering', 'offerman', 'offers', 'offhand', 'office', 'officer', 'officers', 'offices', 'official', 'officially', 'officials', 'offline', 'offs', 'offset', 'ohanus', 'ohio', 'ohmite', 'ohms', 'oilers', 'ointment', 'okay', 'oklahoma', 'olausson', 'older', 'oldest', 'olds', 'olerud', 'olit', 'oliver', 'olivetti', 'olney', 'olson', 'olwm', 'olympic', 'olympics', 'omar', 'omega', 'omissions', 'omitted', 'omnipotent', 'omniscience', 'omniscient', 'onboard', 'oncoming', 'ones', 'oneself', 'ongoing', 'onkyo', 'online', 'onset', 'ontario', 'ooops', 'oops', 'opaque', 'opcode', 'opel', 'open', 'opened', 'opener', 'opengl', 'opening', 'openlook', 'openly', 'opens', 'openwin', 'openwindows', 'opera', 'operate', 'operated', 'operates', 'operating', 'operation', 'operational', 'operations', 'operative', 'operator', 'operators', 'opinion', 'opinions', 'opponent', 'opponents', 'opportunities', 'opportunity', 'oppose', 'opposed', 'opposes', 'opposing', 'opposite', 'opposition', 'oppressed', 'oppressing', 'oppression', 'oppressive', 'optical', 'optics', 'optilink', 'optimal', 'optimally', 'optimistic', 'optimization', 'optimize', 'optimized', 'optimizing', 'optimum', 'option', 'optional', 'options', 'oracle', 'oral', 'orally', 'orange', 'oranges', 'orbit', 'orbital', 'orbiter', 'orbiters', 'orbiting', 'orbits', 'orchid', 'ordeal', 'order', 'ordered', 'ordering', 'orders', 'ordinance', 'ordinary', 'oregon', 'organ', 'organic', 'organisation', 'organisations', 'organism', 'organisms', 'organization', 'organizational', 'organizations', 'organize', 'organized', 'organizer', 'organizers', 'organizing', 'organs', 'orient', 'oriental', 'orientation', 'oriented', 'origen', 'origin', 'original', 'originally', 'originals', 'originate', 'originated', 'originating', 'originator', 'origins', 'orioles', 'orion', 'orlando', 'orleans', 'ornaments', 'orthodox', 'orthodoxy', 'orwell', 'oscar', 'oscillator', 'oscilloscope', 'ostensibly', 'ottawa', 'otto', 'ottoman', 'ottomans', 'ouch', 'ought', 'ounce', 'outbreak', 'outcome', 'outdated', 'outdoor', 'outdoors', 'outer', 'outfield', 'outfit', 'outgoing', 'outlaw', 'outlawed', 'outlawing', 'outlaws', 'outlet', 'outlets', 'outline', 'outlined', 'outlines', 'outlining', 'outlook', 'output', 'outputs', 'outrage', 'outrageous', 'outright', 'outs', 'outside', 'outsiders', 'outskirts', 'outstanding', 'outta', 'outward', 'ovens', 'overacker', 'overall', 'overcome', 'overdrive', 'overhead', 'overkill', 'overlap', 'overlapping', 'overlook', 'overlooked', 'overlooking', 'overly', 'overnight', 'overpass', 'overpriced', 'overrated', 'override', 'oversampling', 'overseas', 'oversee', 'oversized', 'overthrow', 'overtime', 'overturned', 'overuse', 'overview', 'overweight', 'overwhelmed', 'overwhelming', 'overwhelmingly', 'overworked', 'overwrite', 'owen', 'owens', 'owned', 'owner', 'owners', 'ownership', 'owning', 'owns', 'oxford', 'oxide', 'oxygen', 'oxymoron', 'ozone', 'ozzie', 'pace', 'pacific', 'pack', 'package', 'packaged', 'packages', 'packaging', 'packard', 'packed', 'packet', 'packets', 'packing', 'packs', 'padded', 'padding', 'padres', 'pads', 'pagan', 'paganism', 'page', 'pagemaker', 'pages', 'paging', 'paid', 'pain', 'painful', 'painfully', 'painless', 'pains', 'paint', 'painted', 'painting', 'paints', 'pair', 'pairs', 'palace', 'pale', 'palestine', 'palestinean', 'palestineans', 'palestinian', 'palestinians', 'palette', 'palm', 'palmer', 'palo', 'pals', 'panasonic', 'panel', 'panels', 'panic', 'panicking', 'panix', 'panther', 'panthers', 'pants', 'papa', 'papacy', 'papal', 'papazian', 'paper', 'paperback', 'papers', 'paperwork', 'parable', 'parachute', 'parade', 'paradigm', 'paradise', 'paradox', 'paragraph', 'paragraphs', 'parallax', 'parallel', 'parallels', 'paralyzed', 'parameter', 'parameters', 'parametric', 'paramount', 'paranoia', 'paranoid', 'paraphrase', 'paraphrased', 'parasites', 'parcplace', 'pardon', 'parent', 'parents', 'paris', 'parish', 'parishes', 'parity', 'park', 'parked', 'parker', 'parking', 'parks', 'parkway', 'parliament', 'parliamentary', 'parody', 'parse', 'parsing', 'parted', 'partial', 'partially', 'participant', 'participants', 'participate', 'participated', 'participating', 'participation', 'particle', 'particles', 'particular', 'particularly', 'particulars', 'parties', 'partisan', 'partition', 'partly', 'partner', 'partners', 'partnership', 'parts', 'party', 'pasadena', 'pascal', 'paslawski', 'paso', 'pass', 'passage', 'passages', 'passed', 'passenger', 'passengers', 'passes', 'passing', 'passion', 'passive', 'passover', 'passphrase', 'passport', 'passports', 'password', 'passwords', 'past', 'paste', 'pasteur', 'pastor', 'patch', 'patches', 'patchlevel', 'patent', 'patented', 'patently', 'patents', 'path', 'pathetic', 'pathfinder', 'pathogens', 'pathology', 'paths', 'patience', 'patient', 'patients', 'patrick', 'patriot', 'patriotism', 'patriots', 'patrol', 'patrols', 'pattern', 'patterns', 'patterson', 'patty', 'paul', 'paula', 'pauline', 'pause', 'pavement', 'payable', 'paycheck', 'paying', 'payload', 'payloads', 'payment', 'payments', 'payne', 'pays', 'pbmplus', 'pctools', 'peace', 'peaceful', 'peacefull', 'peacefully', 'peak', 'peaked', 'peanuts', 'pearl', 'pearson', 'peculiar', 'pedal', 'pederson', 'pediatric', 'peek', 'peer', 'peers', 'pegasus', 'peice', 'penal', 'penalized', 'penalties', 'penalty', 'pencil', 'pending', 'pendleton', 'penetrate', 'penetration', 'penguin', 'penguins', 'peninsula', 'penis', 'penn', 'pennant', 'pennsylvania', 'penny', 'pens', 'pentagon', 'pentium', 'people', 'peoples', 'pepper', 'peppers', 'pepsi', 'perceive', 'perceived', 'percent', 'percentage', 'percentages', 'perception', 'perceptions', 'perez', 'perfect', 'perfection', 'perfectly', 'perform', 'performa', 'performance', 'performances', 'performed', 'performer', 'performing', 'performs', 'peril', 'period', 'periodic', 'periodically', 'periodicals', 'periods', 'peripheral', 'peripherals', 'perish', 'perished', 'perl', 'permanent', 'permanently', 'permission', 'permit', 'permits', 'permitted', 'pernicious', 'perot', 'perpendicular', 'perpetrated', 'perpetrators', 'perpetual', 'perpetuate', 'perry', 'persecuted', 'persecution', 'persecutions', 'persia', 'persian', 'persians', 'persist', 'persistent', 'persists', 'person', 'personal', 'personalities', 'personality', 'personally', 'personnel', 'persons', 'perspective', 'perspectives', 'persuade', 'persuaded', 'persuasive', 'pertain', 'pertaining', 'pertinent', 'perturbations', 'perverse', 'perversion', 'perverted', 'pete', 'peter', 'petersburg', 'peterson', 'petition', 'petri', 'petro', 'petroleum', 'petty', 'phantom', 'pharisees', 'phase', 'phased', 'phases', 'phenomena', 'phenomenon', 'phenylalanine', 'phigs', 'phil', 'philadelphia', 'philip', 'philips', 'phill', 'phillies', 'phillips', 'philly', 'philosophers', 'philosophical', 'philosophies', 'philosophy', 'phils', 'phoenix', 'phone', 'phoned', 'phones', 'phony', 'phosphor', 'photo', 'photograph', 'photographed', 'photographic', 'photographs', 'photography', 'photos', 'photoshop', 'phrase', 'phrases', 'phrasing', 'physical', 'physically', 'physician', 'physicians', 'physicist', 'physics', 'physiology', 'piazza', 'pick', 'picked', 'picking', 'picks', 'pickup', 'picky', 'pics', 'pict', 'picture', 'pictures', 'piece', 'pieces', 'pierce', 'pierre', 'piggy', 'piggyback', 'pigs', 'pike', 'pilate', 'pile', 'pill', 'pillion', 'pills', 'pilot', 'pilots', 'pinch', 'pine', 'ping', 'pink', 'pinout', 'pinouts', 'pins', 'pioneer', 'pioneers', 'pipe', 'pipes', 'piracy', 'pirate', 'pirates', 'piss', 'pissed', 'pistol', 'pistols', 'piston', 'pitch', 'pitched', 'pitcher', 'pitchers', 'pitches', 'pitching', 'pitiful', 'pitt', 'pitted', 'pittsburgh', 'pity', 'pivonka', 'pixel', 'pixels', 'pixmap', 'pixmaps', 'pizza', 'pkzip', 'place', 'placebo', 'placed', 'placement', 'places', 'placing', 'plague', 'plagued', 'plain', 'plainly', 'plains', 'plaintext', 'plaintiff', 'plan', 'plane', 'planes', 'planet', 'planetary', 'planets', 'planned', 'planning', 'plans', 'plant', 'planted', 'plantier', 'plants', 'plaque', 'plasma', 'plastic', 'plate', 'plateau', 'plates', 'platform', 'platforms', 'plato', 'platoon', 'platter', 'plausible', 'play', 'playback', 'played', 'player', 'players', 'playing', 'playoff', 'playoffs', 'plays', 'plaza', 'plea', 'pleading', 'pleas', 'pleasant', 'pleased', 'pleases', 'pleasing', 'pleasure', 'pledge', 'plenty', 'plight', 'plot', 'plots', 'plotter', 'plotting', 'plug', 'plugged', 'pluggers', 'plugging', 'plugs', 'plus', 'pluto', 'plutonium', 'plymouth', 'pmetzger', 'pmfq', 'pnei', 'pneumonia', 'pocket', 'pockets', 'poem', 'pogroms', 'point', 'pointed', 'pointer', 'pointers', 'pointing', 'pointless', 'points', 'poison', 'poisoning', 'poisonous', 'poke', 'poker', 'poland', 'polar', 'pole', 'poles', 'police', 'policeman', 'policemen', 'policies', 'policy', 'polish', 'polished', 'polite', 'politely', 'political', 'politically', 'politician', 'politicians', 'politics', 'polk', 'poll', 'polling', 'polls', 'pollution', 'poly', 'polygon', 'polygons', 'polytechnic', 'pond', 'ponder', 'pontiac', 'pool', 'pools', 'poor', 'poorer', 'poorly', 'pope', 'popped', 'popping', 'pops', 'populace', 'popular', 'popularity', 'populated', 'population', 'populations', 'popup', 'pork', 'porn', 'pornography', 'porsche', 'port', 'portability', 'portable', 'portal', 'ported', 'porting', 'portion', 'portions', 'portland', 'portray', 'portrayed', 'ports', 'portugal', 'pose', 'posed', 'poseidon', 'poses', 'posession', 'position', 'positioned', 'positioning', 'positions', 'positive', 'positively', 'posix', 'possess', 'possessed', 'possessing', 'possession', 'possessions', 'possibilities', 'possibility', 'possible', 'possibly', 'post', 'postage', 'postal', 'posted', 'poster', 'posters', 'postfach', 'posting', 'postings', 'postmaster', 'posts', 'postscript', 'postulate', 'posture', 'potent', 'potential', 'potentially', 'potentials', 'pots', 'potter', 'potvin', 'poulin', 'pound', 'pounds', 'pour', 'poured', 'pouring', 'poverty', 'povray', 'powder', 'powell', 'power', 'powerbook', 'powerbooks', 'powered', 'powerful', 'powering', 'powerless', 'powerpc', 'powerplay', 'powers', 'practical', 'practically', 'practice', 'practiced', 'practices', 'practicing', 'practise', 'practitioner', 'practitioners', 'pragmatic', 'praise', 'pray', 'prayed', 'prayer', 'prayers', 'praying', 'preach', 'preached', 'preacher', 'preaching', 'preamp', 'precaution', 'precautions', 'preceded', 'precedent', 'precedents', 'preceding', 'precious', 'precise', 'precisely', 'precision', 'preclude', 'precludes', 'predates', 'predecessors', 'predict', 'predictable', 'predicted', 'predicting', 'prediction', 'predictions', 'predicts', 'predominantly', 'preface', 'prefer', 'preferable', 'preferably', 'prefered', 'preference', 'preferences', 'preferentially', 'preferred', 'prefers', 'prefix', 'pregnancy', 'pregnant', 'prejudice', 'prejudices', 'preliminary', 'prelude', 'premature', 'premeditated', 'premier', 'premise', 'premises', 'premium', 'premiums', 'prentice', 'prep', 'preparation', 'preparations', 'prepare', 'prepared', 'preparing', 'preprocessor', 'prerequisite', 'presbyterian', 'prescod', 'prescribe', 'prescribed', 'prescription', 'presence', 'present', 'presentation', 'presentations', 'presented', 'presenting', 'presently', 'presents', 'preservation', 'preserve', 'preserved', 'preserves', 'preserving', 'preset', 'presets', 'presidency', 'president', 'presidential', 'presidents', 'press', 'pressed', 'presses', 'pressing', 'pressure', 'pressured', 'pressures', 'pressurized', 'prestige', 'preston', 'presumably', 'presume', 'presumed', 'presumption', 'pretend', 'pretending', 'pretends', 'pretext', 'pretty', 'prevail', 'prevailed', 'prevailing', 'prevalent', 'prevent', 'prevented', 'preventing', 'prevention', 'prevents', 'preview', 'previewer', 'previous', 'previously', 'prey', 'preying', 'prez', 'price', 'priced', 'prices', 'pricey', 'pricing', 'pride', 'priest', 'priesthood', 'priests', 'primarily', 'primary', 'primate', 'prime', 'primeau', 'primer', 'primitive', 'primitives', 'prince', 'princeton', 'principal', 'principle', 'principles', 'print', 'printed', 'printer', 'printers', 'printf', 'printing', 'printout', 'prints', 'prior', 'priorities', 'priority', 'prism', 'prison', 'prisoner', 'prisoners', 'prisons', 'pristine', 'privacy', 'private', 'privately', 'privilege', 'privileged', 'privileges', 'prize', 'prizes', 'probability', 'probable', 'probably', 'probe', 'probert', 'probes', 'probing', 'problem', 'problematic', 'problems', 'probs', 'proc', 'procedural', 'procedure', 'procedures', 'proceed', 'proceeded', 'proceeding', 'proceedings', 'proceeds', 'process', 'processed', 'processes', 'processing', 'processor', 'processors', 'proclaim', 'proclaimed', 'proclaiming', 'procomm', 'procuracy', 'prodrive', 'produce', 'produced', 'producers', 'produces', 'producing', 'product', 'production', 'productive', 'productivity', 'products', 'prof', 'profess', 'professed', 'profession', 'professional', 'professionally', 'professionals', 'professor', 'professors', 'profile', 'profiles', 'profit', 'profitable', 'profits', 'profound', 'profoundly', 'prog', 'progman', 'program', 'programmable', 'programme', 'programmed', 'programmer', 'programmers', 'programming', 'programs', 'progress', 'progression', 'progressive', 'prohibit', 'prohibited', 'prohibiting', 'prohibition', 'prohibits', 'project', 'projected', 'projectile', 'projection', 'projections', 'projector', 'projects', 'prolog', 'prom', 'prominent', 'promiscuity', 'promiscuous', 'promise', 'promised', 'promises', 'promising', 'promote', 'promoted', 'promotes', 'promoting', 'promotion', 'prompt', 'prompted', 'promptly', 'prompts', 'prone', 'pronounced', 'proof', 'proofs', 'propaganda', 'propagated', 'propellant', 'propellants', 'propelled', 'proper', 'properly', 'properties', 'property', 'prophecies', 'prophecy', 'prophesy', 'prophet', 'prophetic', 'prophets', 'propoganda', 'proponent', 'proponents', 'proportion', 'proportional', 'proportions', 'proposal', 'proposals', 'propose', 'proposed', 'proposes', 'proposing', 'proposition', 'proprietary', 'props', 'propulsion', 'pros', 'prosecute', 'prosecution', 'prosecutors', 'prospect', 'prospective', 'prospects', 'prostitute', 'prostitutes', 'protect', 'protected', 'protecting', 'protection', 'protections', 'protective', 'protector', 'protectors', 'protects', 'protein', 'proteins', 'protest', 'protestant', 'protestants', 'protesting', 'protestors', 'protests', 'proto', 'protocol', 'protocols', 'proton', 'prototype', 'proud', 'provable', 'prove', 'proved', 'proven', 'proverbial', 'proverbs', 'proves', 'provide', 'provided', 'providence', 'provider', 'providers', 'provides', 'providing', 'province', 'provinces', 'proving', 'provision', 'provisions', 'provocation', 'provocative', 'provoke', 'provoking', 'prowess', 'proximity', 'prozac', 'psalm', 'psalms', 'pseudo', 'pseudocolor', 'psuvm', 'psych', 'psychological', 'psychologists', 'psychology', 'public', 'publically', 'publication', 'publications', 'publicity', 'publicize', 'publicly', 'publish', 'published', 'publisher', 'publishers', 'publishes', 'publishing', 'puck', 'puckett', 'puerto', 'pull', 'pulldown', 'pulled', 'pulling', 'pulls', 'pulse', 'pulses', 'pump', 'pumped', 'pumping', 'pumps', 'punch', 'punched', 'puncture', 'pundits', 'punish', 'punishable', 'punished', 'punisher', 'punishing', 'punishment', 'punishments', 'puny', 'purchase', 'purchased', 'purchases', 'purchasing', 'purdue', 'pure', 'purely', 'purification', 'purity', 'purple', 'purportedly', 'purpose', 'purposes', 'purse', 'pursuant', 'pursue', 'pursued', 'pursuing', 'pursuit', 'push', 'pushed', 'pushes']\n"
          ]
        }
      ],
      "source": [
        "vectorizer = TfidfVectorizer(**mejores_params_vect)\n",
        "X_train = vectorizer.fit_transform(newsgroups_train.data)\n",
        "X_words = X_train.T\n",
        "vocabulario = vectorizer.get_feature_names_out()\n",
        "word_to_idx = {word: i for i, word in enumerate(vocabulario)}\n",
        "palabras_utiles = [w for w in vocabulario if w.isalpha() and len(w) > 3]\n",
        "print(palabras_utiles[:10000])\n"
      ]
    },
    {
      "cell_type": "code",
      "execution_count": 110,
      "metadata": {},
      "outputs": [
        {
          "name": "stdout",
          "output_type": "stream",
          "text": [
            "PALABRA ELEGIDA: abolished\n",
            "PALABRAS MÁS SIMILARES:\n",
            "forfeiture (simil: 0.519)\n",
            "axe (simil: 0.428)\n",
            "selective (simil: 0.400)\n",
            "irs (simil: 0.394)\n",
            "insult (simil: 0.314)\n",
            "-------\n",
            "PALABRA ELEGIDA: creature\n",
            "PALABRAS MÁS SIMILARES:\n",
            "strategic (simil: 0.332)\n",
            "coordinated (simil: 0.317)\n",
            "insulted (simil: 0.286)\n",
            "neill (simil: 0.257)\n",
            "destiny (simil: 0.227)\n",
            "-------\n",
            "PALABRA ELEGIDA: engineering\n",
            "PALABRAS MÁS SIMILARES:\n",
            "ng (simil: 0.274)\n",
            "engineers (simil: 0.175)\n",
            "wong (simil: 0.161)\n",
            "korea (simil: 0.159)\n",
            "electrical (simil: 0.154)\n",
            "-------\n",
            "PALABRA ELEGIDA: fascist\n",
            "PALABRAS MÁS SIMILARES:\n",
            "fascism (simil: 0.645)\n",
            "practiced (simil: 0.428)\n",
            "discrimination (simil: 0.347)\n",
            "ending (simil: 0.326)\n",
            "soviet (simil: 0.318)\n",
            "-------\n",
            "PALABRA ELEGIDA: prosecutors\n",
            "PALABRAS MÁS SIMILARES:\n",
            "bullock (simil: 0.561)\n",
            "gerard (simil: 0.393)\n",
            "adl (simil: 0.341)\n",
            "francisco (simil: 0.315)\n",
            "documenting (simil: 0.306)\n",
            "-------\n"
          ]
        }
      ],
      "source": [
        "palabras = ['abolished', 'creature', 'engineering', 'fascist', 'prosecutors']\n",
        "\n",
        "def analizar_similitud_palabras(X_words, vocabulario, word_to_idx, palabras, top_n=5):\n",
        "    for palabra in palabras:\n",
        "        if palabra not in word_to_idx:\n",
        "            print(f\"{palabra} no encontrada en el vocabulario.\")\n",
        "            continue\n",
        "\n",
        "        idx = word_to_idx[palabra]\n",
        "        vec = X_words[idx]\n",
        "        similitudes = cosine_similarity(vec, X_words)[0]\n",
        "        similares_idx = np.argsort(similitudes)[::-1][1:top_n+1]\n",
        "\n",
        "        print(f\"PALABRA ELEGIDA: {palabra}\")\n",
        "        print(\"PALABRAS MÁS SIMILARES:\")\n",
        "        for i in similares_idx:\n",
        "            print(f\"{vocabulario[i]} (simil: {similitudes[i]:.3f})\")\n",
        "        print(\"-------\")\n",
        "        \n",
        "analizar_similitud_palabras(X_words, vocabulario, word_to_idx, palabras)"
      ]
    }
  ],
  "metadata": {
    "colab": {
      "provenance": []
    },
    "kernelspec": {
      "display_name": "base",
      "language": "python",
      "name": "python3"
    },
    "language_info": {
      "codemirror_mode": {
        "name": "ipython",
        "version": 3
      },
      "file_extension": ".py",
      "mimetype": "text/x-python",
      "name": "python",
      "nbconvert_exporter": "python",
      "pygments_lexer": "ipython3",
      "version": "3.12.3"
    }
  },
  "nbformat": 4,
  "nbformat_minor": 0
}
