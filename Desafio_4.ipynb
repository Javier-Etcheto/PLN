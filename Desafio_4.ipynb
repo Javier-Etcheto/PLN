{
 "cells": [
  {
   "cell_type": "markdown",
   "metadata": {
    "id": "pfa39F4lsLf3"
   },
   "source": [
    "# Desafío 4\n",
    "\n",
    "## LSTM Bot QA"
   ]
  },
  {
   "cell_type": "markdown",
   "metadata": {
    "id": "ZqO0PRcFsPTe"
   },
   "source": [
    "### Datos\n",
    "\n",
    "Voy a usar los datos del challenge ConvAI2 (Conversational Intelligence Challenge 2), que contienen conversaciones en inglés. Con estos datos voy a construir un BOT capaz de responder preguntas de los usuarios (QA).  \n",
    "[LINK](http://convai.io/data/)"
   ]
  },
  {
   "cell_type": "code",
   "execution_count": 7,
   "metadata": {
    "id": "bDFC0I3j9oFD"
   },
   "outputs": [],
   "source": [
    "#!pip install --upgrade --no-cache-dir gdown --quiet"
   ]
  },
  {
   "cell_type": "code",
   "execution_count": 8,
   "metadata": {
    "id": "RHNkUaPp6aYq"
   },
   "outputs": [
    {
     "name": "stdout",
     "output_type": "stream",
     "text": [
      "El dataset ya se encuentra descargado\n"
     ]
    }
   ],
   "source": [
    "# Descargar la carpeta de dataset\n",
    "import os\n",
    "import gdown\n",
    "if os.access('data_volunteers.json', os.F_OK) is False:\n",
    "    url = 'https://drive.google.com/uc?id=1awUxYwImF84MIT5-jCaYAPe2QwSgS1hN&export=download'\n",
    "    output = 'data_volunteers.json'\n",
    "    gdown.download(url, output, quiet=False)\n",
    "else:\n",
    "    print(\"El dataset ya se encuentra descargado\")"
   ]
  },
  {
   "cell_type": "code",
   "execution_count": 9,
   "metadata": {
    "id": "WZy1-wgG-Rp7"
   },
   "outputs": [],
   "source": [
    "# dataset_file\n",
    "import json\n",
    "\n",
    "text_file = \"data_volunteers.json\"\n",
    "with open(text_file) as f:\n",
    "    data = json.load(f) # la variable data será un diccionario"
   ]
  },
  {
   "cell_type": "code",
   "execution_count": 10,
   "metadata": {
    "id": "ue5qd54S-eew"
   },
   "outputs": [
    {
     "data": {
      "text/plain": [
       "dict_keys(['dialog', 'start_time', 'end_time', 'bot_profile', 'user_profile', 'eval_score', 'profile_match', 'participant1_id', 'participant2_id'])"
      ]
     },
     "execution_count": 10,
     "metadata": {},
     "output_type": "execute_result"
    }
   ],
   "source": [
    "# Observar los campos disponibles en cada linea del dataset\n",
    "data[0].keys()"
   ]
  },
  {
   "cell_type": "code",
   "execution_count": 11,
   "metadata": {},
   "outputs": [
    {
     "name": "stdout",
     "output_type": "stream",
     "text": [
      "{'dialog': [{'id': 0, 'sender': 'participant1', 'text': 'Hello!', 'evaluation_score': None, 'sender_class': 'Human'}, {'id': 1, 'sender': 'participant2', 'text': 'Hi! How are you?', 'evaluation_score': None, 'sender_class': 'Bot'}, {'id': 2, 'sender': 'participant1', 'text': 'Not bad! And You?', 'evaluation_score': None, 'sender_class': 'Human'}, {'id': 3, 'sender': 'participant2', 'text': \"I'm doing well. Just got engaged to my high school sweetheart.\", 'evaluation_score': None, 'sender_class': 'Bot'}, {'id': 4, 'sender': 'participant1', 'text': 'Wowowowow! Congratulations! Is she pretty?', 'evaluation_score': None, 'sender_class': 'Human'}, {'id': 5, 'sender': 'participant2', 'text': \"She 's pretty cute. She invited me to dinner tonight. 🙂\", 'evaluation_score': None, 'sender_class': 'Bot'}, {'id': 6, 'sender': 'participant1', 'text': 'Cool! Have a good time you both! And what is your hobby?', 'evaluation_score': None, 'sender_class': 'Human'}, {'id': 7, 'sender': 'participant2', 'text': 'I love music! I love Taylor swift. 😉', 'evaluation_score': None, 'sender_class': 'Bot'}, {'id': 8, 'sender': 'participant1', 'text': 'Me too. And what about Iggy Pop?', 'evaluation_score': None, 'sender_class': 'Human'}, {'id': 9, 'sender': 'participant2', 'text': 'I love Ziggy! He is my favorite. Are you and your wife millennial too?', 'evaluation_score': 1, 'sender_class': 'Bot'}, {'id': 10, 'sender': 'participant1', 'text': \"I have no wife. And I'm not millenial, I'm X generation.\", 'evaluation_score': None, 'sender_class': 'Human'}, {'id': 11, 'sender': 'participant1', 'text': 'Hey? Where are you?', 'evaluation_score': None, 'sender_class': 'Human'}, {'id': 12, 'sender': 'participant2', 'text': 'I am sorry to hear that. What do you do for fun?', 'evaluation_score': None, 'sender_class': 'Bot'}, {'id': 13, 'sender': 'participant1', 'text': \"I'm playing pipe organ.\", 'evaluation_score': None, 'sender_class': 'Human'}, {'id': 14, 'sender': 'participant2', 'text': 'That sounds impressive. I like to go out to eat with my friends.', 'evaluation_score': None, 'sender_class': 'Bot'}, {'id': 15, 'sender': 'participant1', 'text': 'Cool! See ya!', 'evaluation_score': None, 'sender_class': 'Human'}], 'start_time': '2018-10-29 09:08:40', 'end_time': '2018-10-29 09:12:32', 'bot_profile': ['my favorite singer is taylor swift.', 'i love eating out with friends.', \"i'm getting married in the spring.\", 'i work at a school as a kindergarten teacher.', \"i'm 24 years old.\"], 'user_profile': ['they are constantly on my back.', 'i do not drink or do drugs or anything.', 'i am 19 and i cannot wait to move out 19 my parents home.', 'i work took i have a part time job at burger king.'], 'eval_score': 5, 'profile_match': 1, 'participant1_id': {'class': 'User', 'user_id': 'User 00892'}, 'participant2_id': {'class': 'Bot', 'user_id': 'Bot 002'}}\n"
     ]
    }
   ],
   "source": [
    "print(data[1])"
   ]
  },
  {
   "cell_type": "code",
   "execution_count": null,
   "metadata": {
    "id": "jHBRAXPl-3dz"
   },
   "outputs": [
    {
     "name": "stdout",
     "output_type": "stream",
     "text": [
      "Cantidad de rows utilizadas: 6033\n"
     ]
    }
   ],
   "source": [
    "import re\n",
    "        \n",
    "chat_in = []\n",
    "chat_out = []\n",
    "\n",
    "input_sentences = []\n",
    "output_sentences = []\n",
    "output_sentences_inputs = []\n",
    "max_len = 30\n",
    "\n",
    "def clean_text(txt):\n",
    "    txt = txt.lower()    \n",
    "    txt.replace(\"\\'d\", \" had\")\n",
    "    txt.replace(\"\\'s\", \" is\")\n",
    "    txt.replace(\"\\'m\", \" am\")\n",
    "    txt.replace(\"don't\", \"do not\")\n",
    "    txt = re.sub(r'\\W+', ' ', txt)\n",
    "    \n",
    "    return txt\n",
    "\n",
    "for line in data:\n",
    "    for i in range(len(line['dialog'])-1):\n",
    "        # vamos separando el texto en \"preguntas\" (chat_in)\n",
    "        # y \"respuestas\" (chat_out)\n",
    "        chat_in = clean_text(line['dialog'][i]['text'])\n",
    "        chat_out = clean_text(line['dialog'][i+1]['text'])\n",
    "\n",
    "        if len(chat_in) >= max_len or len(chat_out) >= max_len:\n",
    "            continue\n",
    "\n",
    "        input_sentence, output = chat_in, chat_out\n",
    "        \n",
    "        # output sentence (decoder_output) tiene <eos>\n",
    "        output_sentence = output + ' <eos>'\n",
    "        # output sentence input (decoder_input) tiene <sos>\n",
    "        output_sentence_input = '<sos> ' + output\n",
    "\n",
    "        input_sentences.append(input_sentence)\n",
    "        output_sentences.append(output_sentence)\n",
    "        output_sentences_inputs.append(output_sentence_input)\n",
    "\n",
    "print(\"Cantidad de rows utilizadas:\", len(input_sentences))"
   ]
  },
  {
   "cell_type": "code",
   "execution_count": 13,
   "metadata": {
    "id": "07L1qj8pC_l6"
   },
   "outputs": [
    {
     "data": {
      "text/plain": [
       "('hi how are you ', 'not bad and you  <eos>', '<sos> not bad and you ')"
      ]
     },
     "execution_count": 13,
     "metadata": {},
     "output_type": "execute_result"
    }
   ],
   "source": [
    "input_sentences[1], output_sentences[1], output_sentences_inputs[1]"
   ]
  },
  {
   "cell_type": "markdown",
   "metadata": {},
   "source": [
    "### Preporcesamiento\n",
    "\n",
    "- Limpio y normalizo los textos de preguntas y respuestas.\n",
    "- Tokenizo las preguntas (`input_sentences`) y las respuestas (`output_sentences` + `output_sentences_inputs`) para obtener diccionarios palabra a índice.\n",
    "- Calculo la longitud máxima de preguntas (`max_input_len`) y respuestas (`max_out_len`).\n",
    "- Convierto cada oración a secuencias de enteros usando los diccionarios.\n",
    "- Repito el proceso para todas las filas del dataset.\n",
    "- Aplico padding a todas las secuencias para que tengan la misma longitud.\n",
    "- Resultado: listas listas para alimentar el encoder (`encoder_input_sequences`) y el decoder (`decoder_output_sequences` y `decoder_targets`).\n"
   ]
  },
  {
   "cell_type": "code",
   "execution_count": 14,
   "metadata": {},
   "outputs": [
    {
     "name": "stdout",
     "output_type": "stream",
     "text": [
      "Cantidad de secuencias: 6033\n",
      "Encoder_input: [11 10  7  2  0  0  0  0  0]\n",
      "Decoder_output: [  2  29 192  32   3   0   0   0   0   0]\n",
      "Decoder_target: [ 29 192  32   3   1   0   0   0   0   0]\n"
     ]
    }
   ],
   "source": [
    "from tensorflow.keras.preprocessing.text import Tokenizer\n",
    "from tensorflow.keras.preprocessing.sequence import pad_sequences\n",
    "\n",
    "# Tokenización inputs\n",
    "tokenizer_inputs = Tokenizer()\n",
    "tokenizer_inputs.fit_on_texts(input_sentences)\n",
    "word2idx_inputs = tokenizer_inputs.word_index\n",
    "max_input_len = max([len(s.split()) for s in input_sentences])\n",
    "\n",
    "# Tokenización outputs\n",
    "tokenizer_outputs = Tokenizer(filters='')  \n",
    "tokenizer_outputs.fit_on_texts(output_sentences + output_sentences_inputs) \n",
    "word2idx_outputs = tokenizer_outputs.word_index\n",
    "num_words_output = len(word2idx_outputs) + 1\n",
    "max_out_len = max([len(s.split()) for s in output_sentences])\n",
    "\n",
    "# Convertir texto a secuencias\n",
    "encoder_input_sequences = tokenizer_inputs.texts_to_sequences(input_sentences)\n",
    "decoder_output_sequences = tokenizer_outputs.texts_to_sequences(output_sentences_inputs)\n",
    "decoder_targets = tokenizer_outputs.texts_to_sequences(output_sentences)\n",
    "\n",
    "# Padding\n",
    "encoder_input_sequences = pad_sequences(encoder_input_sequences, maxlen=max_input_len, padding='post')\n",
    "decoder_output_sequences = pad_sequences(decoder_output_sequences, maxlen=max_out_len, padding='post')\n",
    "decoder_targets = pad_sequences(decoder_targets, maxlen=max_out_len, padding='post')\n",
    "\n",
    "print(\"Cantidad de secuencias:\", len(encoder_input_sequences))\n",
    "print(\"Encoder_input:\", encoder_input_sequences[1])\n",
    "print(\"Decoder_output:\", decoder_output_sequences[1])\n",
    "print(\"Decoder_target:\", decoder_targets[1])\n"
   ]
  },
  {
   "cell_type": "markdown",
   "metadata": {
    "id": "_CJIsLBbj6rg"
   },
   "source": [
    "### Embeddings\n",
    "\n",
    "- Descargo GloVe y extraigo el archivo de vectores.\n",
    "- Leo el archivo y creo un diccionario palabra a vector.\n",
    "- Para cada palabra de mi vocabulario de inputs, busco su vector en GloVe.\n",
    "- Si la palabra no existe, inicializo un vector aleatorio.\n",
    "- Genero la matriz de embeddings lista para usar en la capa Embedding del LSTM."
   ]
  },
  {
   "cell_type": "code",
   "execution_count": 15,
   "metadata": {},
   "outputs": [
    {
     "name": "stdout",
     "output_type": "stream",
     "text": [
      "GloVe 6B 300d ya está descargado\n"
     ]
    }
   ],
   "source": [
    "import zipfile\n",
    "\n",
    "glove_zip = 'glove.6B.zip'\n",
    "if not os.path.isfile('glove.6B.300d.txt'):\n",
    "    url = 'https://nlp.stanford.edu/data/glove.6B.zip'\n",
    "    gdown.download(url, glove_zip, quiet=False)\n",
    "\n",
    "    # Descomprimir\n",
    "    with zipfile.ZipFile(glove_zip, 'r') as zip_ref:\n",
    "        zip_ref.extractall('.')\n",
    "else:\n",
    "    print(\"GloVe 6B 300d ya está descargado\")"
   ]
  },
  {
   "cell_type": "code",
   "execution_count": 16,
   "metadata": {},
   "outputs": [
    {
     "name": "stdout",
     "output_type": "stream",
     "text": [
      "(1800, 300)\n"
     ]
    }
   ],
   "source": [
    "import numpy as np\n",
    "\n",
    "embedding_dim = 300\n",
    "glove_file = 'glove.6B.300d.txt'\n",
    "\n",
    "embeddings_index = {}\n",
    "with open(glove_file, encoding='utf8') as f:\n",
    "    for line in f:\n",
    "        values = line.split()\n",
    "        word = values[0]\n",
    "        vector = np.asarray(values[1:], dtype='float32')\n",
    "        embeddings_index[word] = vector\n",
    "\n",
    "num_words_input = len(word2idx_inputs) + 1\n",
    "embedding_matrix = np.zeros((num_words_input, embedding_dim))\n",
    "\n",
    "for word, i in word2idx_inputs.items():\n",
    "    embedding_vector = embeddings_index.get(word)\n",
    "    if embedding_vector is not None:\n",
    "        embedding_matrix[i] = embedding_vector\n",
    "    else:\n",
    "        embedding_matrix[i] = np.random.normal(scale=0.6, size=(embedding_dim,))\n",
    "\n",
    "print(embedding_matrix.shape)\n"
   ]
  },
  {
   "cell_type": "markdown",
   "metadata": {
    "id": "3vKbhjtIwPgM"
   },
   "source": [
    "### Entrenamiento del modelo\n",
    "\n",
    "- Construyo un modelo **encoder-decoder** con LSTM utilizando los datos procesados previamente.  \n",
    "- El encoder transforma la secuencia de entrada en un estado interno de tamaño 768.  \n",
    "- El decoder recibe ese estado y genera la secuencia de salida palabra por palabra.  \n",
    "- Uso embeddings preentrenados de GloVe en el encoder y embeddings entrenables en el decoder.  \n",
    "- Compilo el modelo con optimizador Adam y pérdida `sparse_categorical_crossentropy`.  \n",
    "- Entreno el modelo con un **10% de validación** y `EarlyStopping` para detener el entrenamiento si la validación no mejora.  \n",
    "- Esto permite que el modelo aprenda a mapear secuencias de preguntas a secuencias de respuestas en el dataset."
   ]
  },
  {
   "cell_type": "code",
   "execution_count": 17,
   "metadata": {},
   "outputs": [],
   "source": [
    "from tensorflow.keras.models import Model\n",
    "from tensorflow.keras.layers import Input, LSTM, Dense, Embedding\n",
    "\n",
    "latent_dim = 768  # tamaño del estado interno del LSTM\n",
    "\n",
    "# Encoder\n",
    "encoder_inputs = Input(shape=(max_input_len,))\n",
    "enc_emb = Embedding(input_dim=len(word2idx_inputs)+1, output_dim=embedding_dim,\n",
    "                    weights=[embedding_matrix], trainable=False)(encoder_inputs)\n",
    "encoder_lstm = LSTM(latent_dim, return_state=True)\n",
    "encoder_outputs, state_h, state_c = encoder_lstm(enc_emb)\n",
    "encoder_states = [state_h, state_c]\n",
    "\n",
    "# Decoder\n",
    "decoder_inputs = Input(shape=(max_out_len,))\n",
    "dec_emb = Embedding(input_dim=len(word2idx_outputs)+1, output_dim=embedding_dim)(decoder_inputs)\n",
    "decoder_lstm = LSTM(latent_dim, return_sequences=True, return_state=True)\n",
    "decoder_outputs, _, _ = decoder_lstm(dec_emb, initial_state=encoder_states)\n",
    "decoder_dense = Dense(len(word2idx_outputs)+1, activation='softmax')\n",
    "decoder_outputs = decoder_dense(decoder_outputs)\n",
    "\n",
    "# Modelo completo\n",
    "model = Model([encoder_inputs, decoder_inputs], decoder_outputs)\n",
    "model.compile(optimizer='adam', loss='sparse_categorical_crossentropy', metrics=['accuracy'])\n",
    "\n",
    "# Preparar targets con la dimensión correcta\n",
    "decoder_targets_exp = np.expand_dims(decoder_targets, -1)\n"
   ]
  },
  {
   "cell_type": "code",
   "execution_count": 18,
   "metadata": {},
   "outputs": [
    {
     "name": "stdout",
     "output_type": "stream",
     "text": [
      "Epoch 1/50\n",
      "\u001b[1m85/85\u001b[0m \u001b[32m━━━━━━━━━━━━━━━━━━━━\u001b[0m\u001b[37m\u001b[0m \u001b[1m22s\u001b[0m 212ms/step - accuracy: 0.5270 - loss: 3.3092 - val_accuracy: 0.6697 - val_loss: 1.9904\n",
      "Epoch 2/50\n",
      "\u001b[1m85/85\u001b[0m \u001b[32m━━━━━━━━━━━━━━━━━━━━\u001b[0m\u001b[37m\u001b[0m \u001b[1m17s\u001b[0m 203ms/step - accuracy: 0.6984 - loss: 1.7530 - val_accuracy: 0.7126 - val_loss: 1.7078\n",
      "Epoch 3/50\n",
      "\u001b[1m85/85\u001b[0m \u001b[32m━━━━━━━━━━━━━━━━━━━━\u001b[0m\u001b[37m\u001b[0m \u001b[1m17s\u001b[0m 205ms/step - accuracy: 0.7335 - loss: 1.4650 - val_accuracy: 0.7212 - val_loss: 1.6057\n",
      "Epoch 4/50\n",
      "\u001b[1m85/85\u001b[0m \u001b[32m━━━━━━━━━━━━━━━━━━━━\u001b[0m\u001b[37m\u001b[0m \u001b[1m17s\u001b[0m 203ms/step - accuracy: 0.7426 - loss: 1.3371 - val_accuracy: 0.7311 - val_loss: 1.5656\n",
      "Epoch 5/50\n",
      "\u001b[1m85/85\u001b[0m \u001b[32m━━━━━━━━━━━━━━━━━━━━\u001b[0m\u001b[37m\u001b[0m \u001b[1m17s\u001b[0m 200ms/step - accuracy: 0.7508 - loss: 1.2592 - val_accuracy: 0.7366 - val_loss: 1.5368\n",
      "Epoch 6/50\n",
      "\u001b[1m85/85\u001b[0m \u001b[32m━━━━━━━━━━━━━━━━━━━━\u001b[0m\u001b[37m\u001b[0m \u001b[1m15s\u001b[0m 173ms/step - accuracy: 0.7627 - loss: 1.1591 - val_accuracy: 0.7437 - val_loss: 1.5278\n",
      "Epoch 7/50\n",
      "\u001b[1m85/85\u001b[0m \u001b[32m━━━━━━━━━━━━━━━━━━━━\u001b[0m\u001b[37m\u001b[0m \u001b[1m15s\u001b[0m 176ms/step - accuracy: 0.7682 - loss: 1.1133 - val_accuracy: 0.7462 - val_loss: 1.5072\n",
      "Epoch 8/50\n",
      "\u001b[1m85/85\u001b[0m \u001b[32m━━━━━━━━━━━━━━━━━━━━\u001b[0m\u001b[37m\u001b[0m \u001b[1m16s\u001b[0m 186ms/step - accuracy: 0.7748 - loss: 1.0546 - val_accuracy: 0.7492 - val_loss: 1.5105\n",
      "Epoch 9/50\n",
      "\u001b[1m85/85\u001b[0m \u001b[32m━━━━━━━━━━━━━━━━━━━━\u001b[0m\u001b[37m\u001b[0m \u001b[1m18s\u001b[0m 215ms/step - accuracy: 0.7835 - loss: 0.9835 - val_accuracy: 0.7500 - val_loss: 1.4952\n",
      "Epoch 10/50\n",
      "\u001b[1m85/85\u001b[0m \u001b[32m━━━━━━━━━━━━━━━━━━━━\u001b[0m\u001b[37m\u001b[0m \u001b[1m18s\u001b[0m 217ms/step - accuracy: 0.7919 - loss: 0.9417 - val_accuracy: 0.7497 - val_loss: 1.5167\n",
      "Epoch 11/50\n",
      "\u001b[1m85/85\u001b[0m \u001b[32m━━━━━━━━━━━━━━━━━━━━\u001b[0m\u001b[37m\u001b[0m \u001b[1m19s\u001b[0m 217ms/step - accuracy: 0.7996 - loss: 0.8853 - val_accuracy: 0.7488 - val_loss: 1.5090\n",
      "Epoch 12/50\n",
      "\u001b[1m85/85\u001b[0m \u001b[32m━━━━━━━━━━━━━━━━━━━━\u001b[0m\u001b[37m\u001b[0m \u001b[1m17s\u001b[0m 205ms/step - accuracy: 0.8007 - loss: 0.8742 - val_accuracy: 0.7502 - val_loss: 1.5200\n",
      "Epoch 13/50\n",
      "\u001b[1m85/85\u001b[0m \u001b[32m━━━━━━━━━━━━━━━━━━━━\u001b[0m\u001b[37m\u001b[0m \u001b[1m17s\u001b[0m 204ms/step - accuracy: 0.8104 - loss: 0.8180 - val_accuracy: 0.7487 - val_loss: 1.5300\n",
      "Epoch 14/50\n",
      "\u001b[1m85/85\u001b[0m \u001b[32m━━━━━━━━━━━━━━━━━━━━\u001b[0m\u001b[37m\u001b[0m \u001b[1m18s\u001b[0m 206ms/step - accuracy: 0.8199 - loss: 0.7843 - val_accuracy: 0.7503 - val_loss: 1.5437\n"
     ]
    }
   ],
   "source": [
    "from tensorflow.keras.callbacks import EarlyStopping\n",
    "\n",
    "early_stop = EarlyStopping(monitor='val_loss',\n",
    "                           patience=5,\n",
    "                           restore_best_weights=True)\n",
    "\n",
    "history = model.fit([encoder_input_sequences, decoder_output_sequences],\n",
    "                    decoder_targets_exp,\n",
    "                    batch_size=64,\n",
    "                    epochs=50,\n",
    "                    validation_split=0.1,\n",
    "                    callbacks=[early_stop])"
   ]
  },
  {
   "cell_type": "code",
   "execution_count": 19,
   "metadata": {},
   "outputs": [
    {
     "data": {
      "image/png": "[encoded data removed]",
      "text/plain": [
       "<Figure size 1000x400 with 2 Axes>"
      ]
     },
     "metadata": {},
     "output_type": "display_data"
    }
   ],
   "source": [
    "import matplotlib.pyplot as plt\n",
    "\n",
    "fig, axs = plt.subplots(1, 2, figsize=(10, 4))\n",
    "\n",
    "# Loss\n",
    "axs[0].plot(history.history['loss'], label='train loss')\n",
    "axs[0].plot(history.history['val_loss'], label='val loss')\n",
    "axs[0].set_title('Loss')\n",
    "axs[0].legend()\n",
    "\n",
    "# Accuracy\n",
    "axs[1].plot(history.history['accuracy'], label='train acc')\n",
    "axs[1].plot(history.history['val_accuracy'], label='val acc')\n",
    "axs[1].set_title('Accuracy')\n",
    "axs[1].legend()\n",
    "\n",
    "plt.show()\n",
    "\n"
   ]
  },
  {
   "cell_type": "markdown",
   "metadata": {},
   "source": [
    "### Inferencia\n",
    "\n",
    "- Creo modelos separados de encoder y decoder para inferencia.\n",
    "- El encoder transforma la secuencia de entrada en su estado interno.\n",
    "- El decoder genera palabra por palabra usando el estado del encoder y su propio estado interno.\n",
    "- Se inicializa con `<sos>` y se detiene al encontrar `<eos>` o al superar la longitud máxima.\n",
    "- La función `decode_sequence` devuelve la respuesta generada por el modelo."
   ]
  },
  {
   "cell_type": "code",
   "execution_count": 20,
   "metadata": {},
   "outputs": [],
   "source": [
    "# Encoder para inferencia\n",
    "encoder_model_inf = Model(encoder_inputs, encoder_states)\n",
    "\n",
    "# Decoder para inferencia\n",
    "decoder_state_input_h = Input(shape=(latent_dim,))\n",
    "decoder_state_input_c = Input(shape=(latent_dim,))\n",
    "decoder_states_inputs = [decoder_state_input_h, decoder_state_input_c]\n",
    "\n",
    "dec_emb2 = Embedding(input_dim=len(word2idx_outputs)+1, output_dim=embedding_dim)(decoder_inputs)\n",
    "decoder_lstm_outputs, state_h, state_c = decoder_lstm(dec_emb2, initial_state=decoder_states_inputs)\n",
    "decoder_states = [state_h, state_c]\n",
    "decoder_outputs2 = decoder_dense(decoder_lstm_outputs)\n",
    "decoder_model_inf = Model([decoder_inputs] + decoder_states_inputs, [decoder_outputs2] + decoder_states)\n",
    "\n",
    "idx2word_outputs = {i: w for w, i in word2idx_outputs.items()}\n",
    "\n",
    "# Función para decodificar una secuencia\n",
    "def decode_sequence(input_seq, temperature=0.1):\n",
    "    states_value = encoder_model_inf.predict(input_seq)\n",
    "    target_seq = np.array([[word2idx_outputs['<sos>']]])\n",
    "    stop_condition = False\n",
    "    decoded_sentence = ''\n",
    "\n",
    "    while not stop_condition:\n",
    "        output_tokens, h, c = decoder_model_inf.predict([target_seq] + states_value)\n",
    "        logits = output_tokens[0, -1, :]\n",
    "        \n",
    "        # muestreo con temperatura\n",
    "        exp_logits = np.exp(logits / temperature)\n",
    "        probs = exp_logits / np.sum(exp_logits)\n",
    "        sampled_token_index = np.random.choice(len(probs), p=probs)\n",
    "        \n",
    "        sampled_word = idx2word_outputs[sampled_token_index]\n",
    "        if sampled_word == '<eos>' or len(decoded_sentence.split()) > max_out_len:\n",
    "            stop_condition = True\n",
    "        else:\n",
    "            decoded_sentence += ' ' + sampled_word\n",
    "\n",
    "        target_seq = np.array([[sampled_token_index]])\n",
    "        states_value = [h, c]\n",
    "\n",
    "    return decoded_sentence.strip()"
   ]
  },
  {
   "cell_type": "markdown",
   "metadata": {},
   "source": [
    "### Probar el modelo\n",
    "\n",
    "- Tomo un ejemplo de texto de entrada.\n",
    "- Convierto cada palabra a su índice según el vocabulario del encoder.\n",
    "- Hago padding para que la secuencia tenga la longitud máxima esperada.\n",
    "- Uso la función de decodificación para generar la respuesta palabra por palabra.\n",
    "- Muestro la entrada original y la respuesta generada por el modelo."
   ]
  },
  {
   "cell_type": "code",
   "execution_count": 23,
   "metadata": {},
   "outputs": [
    {
     "name": "stdout",
     "output_type": "stream",
     "text": [
      "Input: hello how are you\n",
      "\u001b[1m1/1\u001b[0m \u001b[32m━━━━━━━━━━━━━━━━━━━━\u001b[0m\u001b[37m\u001b[0m \u001b[1m0s\u001b[0m 32ms/step\n",
      "\u001b[1m1/1\u001b[0m \u001b[32m━━━━━━━━━━━━━━━━━━━━\u001b[0m\u001b[37m\u001b[0m \u001b[1m0s\u001b[0m 30ms/step\n",
      "\u001b[1m1/1\u001b[0m \u001b[32m━━━━━━━━━━━━━━━━━━━━\u001b[0m\u001b[37m\u001b[0m \u001b[1m0s\u001b[0m 28ms/step\n",
      "\u001b[1m1/1\u001b[0m \u001b[32m━━━━━━━━━━━━━━━━━━━━\u001b[0m\u001b[37m\u001b[0m \u001b[1m0s\u001b[0m 31ms/step\n",
      "\u001b[1m1/1\u001b[0m \u001b[32m━━━━━━━━━━━━━━━━━━━━\u001b[0m\u001b[37m\u001b[0m \u001b[1m0s\u001b[0m 38ms/step\n",
      "\u001b[1m1/1\u001b[0m \u001b[32m━━━━━━━━━━━━━━━━━━━━\u001b[0m\u001b[37m\u001b[0m \u001b[1m0s\u001b[0m 33ms/step\n",
      "\u001b[1m1/1\u001b[0m \u001b[32m━━━━━━━━━━━━━━━━━━━━\u001b[0m\u001b[37m\u001b[0m \u001b[1m0s\u001b[0m 29ms/step\n",
      "\u001b[1m1/1\u001b[0m \u001b[32m━━━━━━━━━━━━━━━━━━━━\u001b[0m\u001b[37m\u001b[0m \u001b[1m0s\u001b[0m 29ms/step\n",
      "Temp = 0.1 - Output: works nothing make thanks don 33\n",
      "\u001b[1m1/1\u001b[0m \u001b[32m━━━━━━━━━━━━━━━━━━━━\u001b[0m\u001b[37m\u001b[0m \u001b[1m0s\u001b[0m 39ms/step\n",
      "\u001b[1m1/1\u001b[0m \u001b[32m━━━━━━━━━━━━━━━━━━━━\u001b[0m\u001b[37m\u001b[0m \u001b[1m0s\u001b[0m 26ms/step\n",
      "\u001b[1m1/1\u001b[0m \u001b[32m━━━━━━━━━━━━━━━━━━━━\u001b[0m\u001b[37m\u001b[0m \u001b[1m0s\u001b[0m 27ms/step\n",
      "\u001b[1m1/1\u001b[0m \u001b[32m━━━━━━━━━━━━━━━━━━━━\u001b[0m\u001b[37m\u001b[0m \u001b[1m0s\u001b[0m 36ms/step\n",
      "\u001b[1m1/1\u001b[0m \u001b[32m━━━━━━━━━━━━━━━━━━━━\u001b[0m\u001b[37m\u001b[0m \u001b[1m0s\u001b[0m 27ms/step\n",
      "\u001b[1m1/1\u001b[0m \u001b[32m━━━━━━━━━━━━━━━━━━━━\u001b[0m\u001b[37m\u001b[0m \u001b[1m0s\u001b[0m 34ms/step\n",
      "\u001b[1m1/1\u001b[0m \u001b[32m━━━━━━━━━━━━━━━━━━━━\u001b[0m\u001b[37m\u001b[0m \u001b[1m0s\u001b[0m 29ms/step\n",
      "\u001b[1m1/1\u001b[0m \u001b[32m━━━━━━━━━━━━━━━━━━━━\u001b[0m\u001b[37m\u001b[0m \u001b[1m0s\u001b[0m 28ms/step\n",
      "\u001b[1m1/1\u001b[0m \u001b[32m━━━━━━━━━━━━━━━━━━━━\u001b[0m\u001b[37m\u001b[0m \u001b[1m0s\u001b[0m 28ms/step\n",
      "\u001b[1m1/1\u001b[0m \u001b[32m━━━━━━━━━━━━━━━━━━━━\u001b[0m\u001b[37m\u001b[0m \u001b[1m0s\u001b[0m 26ms/step\n",
      "\u001b[1m1/1\u001b[0m \u001b[32m━━━━━━━━━━━━━━━━━━━━\u001b[0m\u001b[37m\u001b[0m \u001b[1m0s\u001b[0m 32ms/step\n",
      "\u001b[1m1/1\u001b[0m \u001b[32m━━━━━━━━━━━━━━━━━━━━\u001b[0m\u001b[37m\u001b[0m \u001b[1m0s\u001b[0m 30ms/step\n",
      "\u001b[1m1/1\u001b[0m \u001b[32m━━━━━━━━━━━━━━━━━━━━\u001b[0m\u001b[37m\u001b[0m \u001b[1m0s\u001b[0m 28ms/step\n",
      "Temp = 0.5 - Output: kmc mars nevada lucille idiot wars favorite dave programmer hummus china\n"
     ]
    }
   ],
   "source": [
    "# Tomo un ejemplo de texto de entrada\n",
    "input_text = \"hello how are you\"\n",
    "\n",
    "# Convierto cada palabra a su índice en el vocabulario de inputs\n",
    "input_seq = [word2idx_inputs.get(w, 0) for w in input_text.split()]\n",
    "\n",
    "# Hago padding para que tenga la longitud máxima esperada por el encoder\n",
    "input_seq = pad_sequences([input_seq], maxlen=max_input_len)\n",
    "\n",
    "print(\"Input:\", input_text)\n",
    "\n",
    "# Genero la respuesta usando la función de decodificación\n",
    "decoded_sentence = decode_sequence(input_seq, temperature=0.1)\n",
    "print(\"Temp = 0.1 - Output:\", decoded_sentence)\n",
    "decoded_sentence = decode_sequence(input_seq, temperature=0.5)\n",
    "print(\"Temp = 0.5 - Output:\", decoded_sentence)\n",
    "\n",
    "\n",
    "# Muestro la entrada y la salida generada\n"
   ]
  },
  {
   "cell_type": "markdown",
   "metadata": {},
   "source": [
    "### Conclusiones\n",
    "\n",
    "- Utilicé un LSTM con estado interno de 768 para generar las respuestas del modelo.  \n",
    "- Probé la inferencia con dos temperaturas diferentes en la decodificación:  \n",
    "  - Temp = 0.1 produce respuestas cortas, conservadoras, pero que no se entienden del todo.  \n",
    "  - Temp = 0.5 genera respuestas más largas y variadas, aunque a veces son incoherentes o poco claras.  \n",
    "- Esto muestra cómo la temperatura influye en la creatividad y la diversidad de las respuestas generadas por el modelo.  \n",
    "- El modelo no predice del todo bien, por lo que posibles mejoras incluyen:\n",
    "  - Aumentar la cantidad de datos de entrenamiento y agregar más pares de preguntas y respuestas.  \n",
    "  - Usar embeddings más grandes.  \n",
    "  - Explorar arquitecturas más profundas o modelos con atención (attention) en el decoder.  \n",
    "  - Ajustar hiperparámetros como el tamaño del estado interno del LSTM y la longitud máxima de las secuencias.  \n",
    "  - Aplicar técnicas de regularización y optimización para mejorar la generalización."
   ]
  }
 ],
 "metadata": {
  "accelerator": "GPU",
  "colab": {
   "collapsed_sections": [],
   "provenance": []
  },
  "kernelspec": {
   "display_name": "base",
   "language": "python",
   "name": "python3"
  },
  "language_info": {
   "codemirror_mode": {
    "name": "ipython",
    "version": 3
   },
   "file_extension": ".py",
   "mimetype": "text/x-python",
   "name": "python",
   "nbconvert_exporter": "python",
   "pygments_lexer": "ipython3",
   "version": "3.12.3"
  }
 },
 "nbformat": 4,
 "nbformat_minor": 0
}
